{
 "cells": [
  {
   "cell_type": "markdown",
   "metadata": {
    "id": "view-in-github",
    "colab_type": "text"
   },
   "source": [
    "<a href=\"https://colab.research.google.com/github/berniwal/CIL_Project/blob/master/CIL-Notebook.ipynb\" target=\"_parent\"><img src=\"https://colab.research.google.com/assets/colab-badge.svg\" alt=\"Open In Colab\"/></a>"
   ]
  },
  {
   "cell_type": "markdown",
   "metadata": {
    "id": "e3SIsoqF2sKj",
    "colab_type": "text"
   },
   "source": [
    "## Go to correct directory"
   ]
  },
  {
   "cell_type": "code",
   "metadata": {
    "id": "3IzoDHLY-ykE",
    "colab_type": "code",
    "colab": {
     "base_uri": "https://localhost:8080/",
     "height": 145
    },
    "outputId": "000ffb38-bf26-4b67-9705-53fec4c6d95d"
   },
   "source": [
    "from google.colab import drive\n",
    "drive.mount('/content/drive')\n",
    "\n",
    "import os\n",
    "os.getcwd()\n",
    "os.chdir('/content/drive/My Drive/CIL')\n",
    "os.getcwd()"
   ],
   "execution_count": 1,
   "outputs": [
    {
     "output_type": "stream",
     "text": [
      "Go to this URL in a browser: https://accounts.google.com/o/oauth2/auth?client_id=947318989803-6bn6qk8qdgf4n4g3pfee6491hc0brc4i.apps.googleusercontent.com&redirect_uri=urn%3aietf%3awg%3aoauth%3a2.0%3aoob&response_type=code&scope=email%20https%3a%2f%2fwww.googleapis.com%2fauth%2fdocs.test%20https%3a%2f%2fwww.googleapis.com%2fauth%2fdrive%20https%3a%2f%2fwww.googleapis.com%2fauth%2fdrive.photos.readonly%20https%3a%2f%2fwww.googleapis.com%2fauth%2fpeopleapi.readonly\n",
      "\n",
      "Enter your authorization code:\n",
      "··········\n",
      "Mounted at /content/drive\n"
     ],
     "name": "stdout"
    },
    {
     "output_type": "execute_result",
     "data": {
      "application/vnd.google.colaboratory.intrinsic+json": {
       "type": "string"
      },
      "text/plain": [
       "'/content/drive/My Drive/CIL'"
      ]
     },
     "metadata": {
      "tags": []
     },
     "execution_count": 1
    }
   ]
  },
  {
   "cell_type": "markdown",
   "metadata": {
    "id": "RXAkBoig2yy-",
    "colab_type": "text"
   },
   "source": [
    "## install + import libraries"
   ]
  },
  {
   "cell_type": "code",
   "metadata": {
    "id": "Ep6izaAW_JwK",
    "colab_type": "code",
    "colab": {
     "base_uri": "https://localhost:8080/",
     "height": 1000
    },
    "outputId": "d926531f-9cee-45f1-ea93-2ce6556a3a9e"
   },
   "source": [
    "!pip install params_flow==0.7.1\n",
    "!pip install py-params==0.7.3\n",
    "!pip install sentencepiece\n",
    "import sentencepiece as spm\n",
    "%tensorflow_version 2.x\n",
    "import tensorflow as tf\n",
    "print(\"Tensorflow version \" + tf.__version__)\n",
    "\n",
    "try:\n",
    "  tpu = tf.distribute.cluster_resolver.TPUClusterResolver()  # TPU detection\n",
    "  print('Running on TPU ', tpu.cluster_spec().as_dict()['worker'])\n",
    "except ValueError:\n",
    "  raise BaseException('ERROR: Not connected to a TPU runtime; please see the previous cell in this notebook for instructions!')\n",
    "\n",
    "tf.config.experimental_connect_to_cluster(tpu)\n",
    "tf.tpu.experimental.initialize_tpu_system(tpu)\n",
    "tpu_strategy = tf.distribute.experimental.TPUStrategy(tpu)\n",
    "\n",
    "import tensorflow as tf\n",
    "from tensorflow import keras\n",
    "import pandas as pd\n",
    "import os\n",
    "from datetime import datetime\n",
    "\n",
    "import bert\n",
    "#different Tokenizer for Albert\n",
    "from bert.tokenization.bert_tokenization import FullTokenizer\n",
    "from bert.tokenization.albert_tokenization import AlbertFullTokenizer\n",
    "from bert.loader import StockBertConfig, map_stock_config_to_params, load_stock_weights\n",
    "from bert import BertModelLayer\n",
    "import sentencepiece as spm\n",
    "\n",
    "from tqdm import tqdm\n",
    "import numpy as np\n",
    "\n",
    "from sklearn.utils import shuffle"
   ],
   "execution_count": 2,
   "outputs": [
    {
     "output_type": "stream",
     "text": [
      "Collecting params_flow==0.7.1\n",
      "  Downloading https://files.pythonhosted.org/packages/81/ae/c286650d720d3b3f7e6c758d5af9ab62dc5b4c0d1c3d910baccb1be6f70f/params-flow-0.7.1.tar.gz\n",
      "Collecting py-params>=0.6.4\n",
      "  Downloading https://files.pythonhosted.org/packages/a4/bf/c1c70d5315a8677310ea10a41cfc41c5970d9b37c31f9c90d4ab98021fd1/py-params-0.9.7.tar.gz\n",
      "Requirement already satisfied: numpy in /usr/local/lib/python3.6/dist-packages (from params_flow==0.7.1) (1.18.5)\n",
      "Requirement already satisfied: tqdm in /usr/local/lib/python3.6/dist-packages (from params_flow==0.7.1) (4.41.1)\n",
      "Building wheels for collected packages: params-flow, py-params\n",
      "  Building wheel for params-flow (setup.py) ... \u001b[?25l\u001b[?25hdone\n",
      "  Created wheel for params-flow: filename=params_flow-0.7.1-cp36-none-any.whl size=15376 sha256=6213238397aa8d242e7f308ab6b5824640dacc928ae4232fc14224ab05cf13e8\n",
      "  Stored in directory: /root/.cache/pip/wheels/e2/7b/2a/b411aaa219132a68b17937fc9431fd9eb9c23c12a7df3d134f\n",
      "  Building wheel for py-params (setup.py) ... \u001b[?25l\u001b[?25hdone\n",
      "  Created wheel for py-params: filename=py_params-0.9.7-cp36-none-any.whl size=7302 sha256=d3a90fd8e1794f7530f53023e99d3ed62dcf5afbdfffd15f85079cd5c02d2e9e\n",
      "  Stored in directory: /root/.cache/pip/wheels/67/f5/19/b461849a50aefdf4bab47c4756596e82ee2118b8278e5a1980\n",
      "Successfully built params-flow py-params\n",
      "Installing collected packages: py-params, params-flow\n",
      "Successfully installed params-flow-0.7.1 py-params-0.9.7\n",
      "Collecting py-params==0.7.3\n",
      "  Downloading https://files.pythonhosted.org/packages/89/7b/b7d25e0f262599cab01ab7a3c1fd2d380566fc5bb4617fb725ddbbb8964d/py-params-0.7.3.tar.gz\n",
      "Building wheels for collected packages: py-params\n",
      "  Building wheel for py-params (setup.py) ... \u001b[?25l\u001b[?25hdone\n",
      "  Created wheel for py-params: filename=py_params-0.7.3-cp36-none-any.whl size=4346 sha256=e4be2960abe0b88f208dacae5d29d6fdf2919cafff9b3e5d4789583bfa0f5851\n",
      "  Stored in directory: /root/.cache/pip/wheels/a3/9f/a1/e7e79bd92eecef952a46b16d0bc93ffdc91d4b619f79777d27\n",
      "Successfully built py-params\n",
      "Installing collected packages: py-params\n",
      "  Found existing installation: py-params 0.9.7\n",
      "    Uninstalling py-params-0.9.7:\n",
      "      Successfully uninstalled py-params-0.9.7\n",
      "Successfully installed py-params-0.7.3\n",
      "Collecting sentencepiece\n",
      "\u001b[?25l  Downloading https://files.pythonhosted.org/packages/d4/a4/d0a884c4300004a78cca907a6ff9a5e9fe4f090f5d95ab341c53d28cbc58/sentencepiece-0.1.91-cp36-cp36m-manylinux1_x86_64.whl (1.1MB)\n",
      "\u001b[K     |████████████████████████████████| 1.1MB 3.4MB/s \n",
      "\u001b[?25hInstalling collected packages: sentencepiece\n",
      "Successfully installed sentencepiece-0.1.91\n",
      "Tensorflow version 2.2.0\n",
      "Running on TPU  ['10.96.201.242:8470']\n",
      "INFO:tensorflow:Initializing the TPU system: grpc://10.96.201.242:8470\n"
     ],
     "name": "stdout"
    },
    {
     "output_type": "stream",
     "text": [
      "INFO:tensorflow:Initializing the TPU system: grpc://10.96.201.242:8470\n"
     ],
     "name": "stderr"
    },
    {
     "output_type": "stream",
     "text": [
      "INFO:tensorflow:Clearing out eager caches\n"
     ],
     "name": "stdout"
    },
    {
     "output_type": "stream",
     "text": [
      "INFO:tensorflow:Clearing out eager caches\n"
     ],
     "name": "stderr"
    },
    {
     "output_type": "stream",
     "text": [
      "INFO:tensorflow:Finished initializing TPU system.\n"
     ],
     "name": "stdout"
    },
    {
     "output_type": "stream",
     "text": [
      "INFO:tensorflow:Finished initializing TPU system.\n"
     ],
     "name": "stderr"
    },
    {
     "output_type": "stream",
     "text": [
      "INFO:tensorflow:Found TPU system:\n"
     ],
     "name": "stdout"
    },
    {
     "output_type": "stream",
     "text": [
      "INFO:tensorflow:Found TPU system:\n"
     ],
     "name": "stderr"
    },
    {
     "output_type": "stream",
     "text": [
      "INFO:tensorflow:*** Num TPU Cores: 8\n"
     ],
     "name": "stdout"
    },
    {
     "output_type": "stream",
     "text": [
      "INFO:tensorflow:*** Num TPU Cores: 8\n"
     ],
     "name": "stderr"
    },
    {
     "output_type": "stream",
     "text": [
      "INFO:tensorflow:*** Num TPU Workers: 1\n"
     ],
     "name": "stdout"
    },
    {
     "output_type": "stream",
     "text": [
      "INFO:tensorflow:*** Num TPU Workers: 1\n"
     ],
     "name": "stderr"
    },
    {
     "output_type": "stream",
     "text": [
      "INFO:tensorflow:*** Num TPU Cores Per Worker: 8\n"
     ],
     "name": "stdout"
    },
    {
     "output_type": "stream",
     "text": [
      "INFO:tensorflow:*** Num TPU Cores Per Worker: 8\n"
     ],
     "name": "stderr"
    },
    {
     "output_type": "stream",
     "text": [
      "INFO:tensorflow:*** Available Device: _DeviceAttributes(/job:localhost/replica:0/task:0/device:CPU:0, CPU, 0, 0)\n"
     ],
     "name": "stdout"
    },
    {
     "output_type": "stream",
     "text": [
      "INFO:tensorflow:*** Available Device: _DeviceAttributes(/job:localhost/replica:0/task:0/device:CPU:0, CPU, 0, 0)\n"
     ],
     "name": "stderr"
    },
    {
     "output_type": "stream",
     "text": [
      "INFO:tensorflow:*** Available Device: _DeviceAttributes(/job:localhost/replica:0/task:0/device:XLA_CPU:0, XLA_CPU, 0, 0)\n"
     ],
     "name": "stdout"
    },
    {
     "output_type": "stream",
     "text": [
      "INFO:tensorflow:*** Available Device: _DeviceAttributes(/job:localhost/replica:0/task:0/device:XLA_CPU:0, XLA_CPU, 0, 0)\n"
     ],
     "name": "stderr"
    },
    {
     "output_type": "stream",
     "text": [
      "INFO:tensorflow:*** Available Device: _DeviceAttributes(/job:worker/replica:0/task:0/device:CPU:0, CPU, 0, 0)\n"
     ],
     "name": "stdout"
    },
    {
     "output_type": "stream",
     "text": [
      "INFO:tensorflow:*** Available Device: _DeviceAttributes(/job:worker/replica:0/task:0/device:CPU:0, CPU, 0, 0)\n"
     ],
     "name": "stderr"
    },
    {
     "output_type": "stream",
     "text": [
      "INFO:tensorflow:*** Available Device: _DeviceAttributes(/job:worker/replica:0/task:0/device:TPU:0, TPU, 0, 0)\n"
     ],
     "name": "stdout"
    },
    {
     "output_type": "stream",
     "text": [
      "INFO:tensorflow:*** Available Device: _DeviceAttributes(/job:worker/replica:0/task:0/device:TPU:0, TPU, 0, 0)\n"
     ],
     "name": "stderr"
    },
    {
     "output_type": "stream",
     "text": [
      "INFO:tensorflow:*** Available Device: _DeviceAttributes(/job:worker/replica:0/task:0/device:TPU:1, TPU, 0, 0)\n"
     ],
     "name": "stdout"
    },
    {
     "output_type": "stream",
     "text": [
      "INFO:tensorflow:*** Available Device: _DeviceAttributes(/job:worker/replica:0/task:0/device:TPU:1, TPU, 0, 0)\n"
     ],
     "name": "stderr"
    },
    {
     "output_type": "stream",
     "text": [
      "INFO:tensorflow:*** Available Device: _DeviceAttributes(/job:worker/replica:0/task:0/device:TPU:2, TPU, 0, 0)\n"
     ],
     "name": "stdout"
    },
    {
     "output_type": "stream",
     "text": [
      "INFO:tensorflow:*** Available Device: _DeviceAttributes(/job:worker/replica:0/task:0/device:TPU:2, TPU, 0, 0)\n"
     ],
     "name": "stderr"
    },
    {
     "output_type": "stream",
     "text": [
      "INFO:tensorflow:*** Available Device: _DeviceAttributes(/job:worker/replica:0/task:0/device:TPU:3, TPU, 0, 0)\n"
     ],
     "name": "stdout"
    },
    {
     "output_type": "stream",
     "text": [
      "INFO:tensorflow:*** Available Device: _DeviceAttributes(/job:worker/replica:0/task:0/device:TPU:3, TPU, 0, 0)\n"
     ],
     "name": "stderr"
    },
    {
     "output_type": "stream",
     "text": [
      "INFO:tensorflow:*** Available Device: _DeviceAttributes(/job:worker/replica:0/task:0/device:TPU:4, TPU, 0, 0)\n"
     ],
     "name": "stdout"
    },
    {
     "output_type": "stream",
     "text": [
      "INFO:tensorflow:*** Available Device: _DeviceAttributes(/job:worker/replica:0/task:0/device:TPU:4, TPU, 0, 0)\n"
     ],
     "name": "stderr"
    },
    {
     "output_type": "stream",
     "text": [
      "INFO:tensorflow:*** Available Device: _DeviceAttributes(/job:worker/replica:0/task:0/device:TPU:5, TPU, 0, 0)\n"
     ],
     "name": "stdout"
    },
    {
     "output_type": "stream",
     "text": [
      "INFO:tensorflow:*** Available Device: _DeviceAttributes(/job:worker/replica:0/task:0/device:TPU:5, TPU, 0, 0)\n"
     ],
     "name": "stderr"
    },
    {
     "output_type": "stream",
     "text": [
      "INFO:tensorflow:*** Available Device: _DeviceAttributes(/job:worker/replica:0/task:0/device:TPU:6, TPU, 0, 0)\n"
     ],
     "name": "stdout"
    },
    {
     "output_type": "stream",
     "text": [
      "INFO:tensorflow:*** Available Device: _DeviceAttributes(/job:worker/replica:0/task:0/device:TPU:6, TPU, 0, 0)\n"
     ],
     "name": "stderr"
    },
    {
     "output_type": "stream",
     "text": [
      "INFO:tensorflow:*** Available Device: _DeviceAttributes(/job:worker/replica:0/task:0/device:TPU:7, TPU, 0, 0)\n"
     ],
     "name": "stdout"
    },
    {
     "output_type": "stream",
     "text": [
      "INFO:tensorflow:*** Available Device: _DeviceAttributes(/job:worker/replica:0/task:0/device:TPU:7, TPU, 0, 0)\n"
     ],
     "name": "stderr"
    },
    {
     "output_type": "stream",
     "text": [
      "INFO:tensorflow:*** Available Device: _DeviceAttributes(/job:worker/replica:0/task:0/device:TPU_SYSTEM:0, TPU_SYSTEM, 0, 0)\n"
     ],
     "name": "stdout"
    },
    {
     "output_type": "stream",
     "text": [
      "INFO:tensorflow:*** Available Device: _DeviceAttributes(/job:worker/replica:0/task:0/device:TPU_SYSTEM:0, TPU_SYSTEM, 0, 0)\n"
     ],
     "name": "stderr"
    },
    {
     "output_type": "stream",
     "text": [
      "INFO:tensorflow:*** Available Device: _DeviceAttributes(/job:worker/replica:0/task:0/device:XLA_CPU:0, XLA_CPU, 0, 0)\n"
     ],
     "name": "stdout"
    },
    {
     "output_type": "stream",
     "text": [
      "INFO:tensorflow:*** Available Device: _DeviceAttributes(/job:worker/replica:0/task:0/device:XLA_CPU:0, XLA_CPU, 0, 0)\n"
     ],
     "name": "stderr"
    }
   ]
  },
  {
   "cell_type": "markdown",
   "metadata": {
    "id": "FmM2Svrp24tN",
    "colab_type": "text"
   },
   "source": [
    "## Fix Directories for BERT\n",
    "First part of selecting which model"
   ]
  },
  {
   "cell_type": "code",
   "metadata": {
    "id": "AXaYCPNl_HQh",
    "colab_type": "code",
    "colab": {}
   },
   "source": [
    "# 'bert' or 'bert_large' or 'albert'\n",
    "MODEL = 'albert'\n",
    "ADDITIONAL_DATA = True\n",
    "ADDITIONAL_DATA_MIX = False\n",
    "ADDITIONAL_DATA_ONLY_FIRST = True\n",
    "identifier='albert_xxlarge_monoise_additional_data' # for naming the output csv, weights and validation scores for graph\n",
    "\n",
    "# '' or '_monoise' or '_monoise_b'\n",
    "DATASET_PREPROCESSING = '_monoise' \n",
    "\n",
    "#Learning parameters\n",
    "epochs = 6\n",
    "start_epoch = 0\n",
    "start_step = 0\n",
    "last_val_loss = None\n",
    "patience = 5\n",
    "no_improvement_since = 0\n",
    "current_learning_rate = 1e-6\n",
    "minimum_learning_rate = 1e-7\n",
    "reload_training = False\n",
    "reload_checkpoint = None\n",
    "reload_epoch = 0\n",
    "reload_step = 0\n",
    "reload_learning_rate = 1e-6\n",
    "\n",
    "CHECKPOINT = None\n",
    "CHECKPOINT_CKPT = None\n",
    "CHECKPOINT_VOCAB = None\n",
    "CHECKPOINT_CONFIG = None\n",
    "\n",
    "if MODEL == 'bert':\n",
    "  CHECKPOINT = './bert/checkpoints/bert_base'\n",
    "if MODEL == 'bert_large':\n",
    "  CHECKPOINT = './bert/checkpoints/bert_large_wwm'\n",
    "if MODEL == 'albert':\n",
    "  CHECKPOINT = './bert/checkpoints/albert_xxlarge'\n",
    "\n",
    "if MODEL == 'bert' or MODEL == 'bert_large':\n",
    "  CHECKPOINT_CKPT = os.path.join(CHECKPOINT, 'bert_model.ckpt')\n",
    "  CHECKPOINT_VOCAB = os.path.join(CHECKPOINT, 'vocab.txt')\n",
    "  CHECKPOINT_CONFIG = os.path.join(CHECKPOINT, 'bert_config.json')\n",
    "if MODEL == 'albert':\n",
    "  CHECKPOINT_VOCAB = os.path.join(CHECKPOINT, '30k-clean.model')\n",
    "  CHECKPOINT_CKPT = os.path.join(CHECKPOINT, 'model.ckpt-best')\n",
    "  CHECKPOINT_CONFIG = os.path.join(CHECKPOINT, 'albert_config.json')\n",
    "\n",
    "DATASET_DIR = './'\n",
    "DATASET_FILE_TRAIN_NEG = os.path.join(DATASET_DIR, 'twitter-datasets/train_neg_full{}.txt'.format(DATASET_PREPROCESSING))\n",
    "DATASET_FILE_TRAIN_POS = os.path.join(DATASET_DIR, 'twitter-datasets/train_pos_full{}.txt'.format(DATASET_PREPROCESSING))\n",
    "DATASET_FILE_TEST = os.path.join(DATASET_DIR, 'twitter-datasets/test_data{}.txt'.format(DATASET_PREPROCESSING))\n",
    "\n",
    "DATASET_FILE_NEG_EXTRA = os.path.join(DATASET_DIR, 'twitter-datasets/extra_neg{}.txt'.format(DATASET_PREPROCESSING))\n",
    "DATASET_FILE_POS_EXTRA = os.path.join(DATASET_DIR, 'twitter-datasets/extra_pos{}.txt'.format(DATASET_PREPROCESSING))\n",
    "\n",
    "FILE_PATHS = [DATASET_FILE_TRAIN_POS, DATASET_FILE_TRAIN_NEG]\n",
    "\n",
    "steps = None\n",
    "if ADDITIONAL_DATA:\n",
    "  steps = 336\n",
    "  if ADDITIONAL_DATA_ONLY_FIRST:\n",
    "    patience = 16\n",
    "else:\n",
    "  steps = 200"
   ],
   "execution_count": 3,
   "outputs": []
  },
  {
   "cell_type": "markdown",
   "metadata": {
    "id": "E43YtU-B29JL",
    "colab_type": "text"
   },
   "source": [
    "## methods to create BERT layer\n",
    "change name=\"albert\" for other model, have to adjust paths above too"
   ]
  },
  {
   "cell_type": "code",
   "metadata": {
    "id": "lXnr4jwJ_T1D",
    "colab_type": "code",
    "colab": {}
   },
   "source": [
    "def flatten_layers(root_layer):\n",
    "    if isinstance(root_layer, keras.layers.Layer):\n",
    "        yield root_layer\n",
    "    for layer in root_layer._layers:\n",
    "        for sub_layer in flatten_layers(layer):\n",
    "            yield sub_layer\n",
    "\n",
    "\n",
    "def freeze_bert_layers(l_bert):\n",
    "    \"\"\"\n",
    "    Freezes all but LayerNorm and adapter layers - see arXiv:1902.00751.\n",
    "    \"\"\"\n",
    "    for layer in flatten_layers(l_bert):\n",
    "        if layer.name in [\"LayerNorm\", \"adapter-down\", \"adapter-up\"]:\n",
    "            layer.trainable = True\n",
    "        elif len(layer._layers) == 0:\n",
    "            layer.trainable = False\n",
    "        l_bert.embeddings_layer.trainable = False\n",
    "\n",
    "\n",
    "def create_learning_rate(learn_rate=5e-5):\n",
    "\n",
    "    def lr_scheduler(epoch):\n",
    "        return float(learn_rate)\n",
    "    learning_rate_scheduler = tf.keras.callbacks.LearningRateScheduler(lr_scheduler, verbose=1)\n",
    "\n",
    "    return learning_rate_scheduler\n",
    "\n",
    "def create_learning_rate_scheduler(max_learn_rate=5e-5,\n",
    "                                   end_learn_rate=1e-7,\n",
    "                                   warmup_epoch_count=10,\n",
    "                                   total_epoch_count=90):\n",
    "\n",
    "    def lr_scheduler(epoch):\n",
    "        if epoch < warmup_epoch_count:\n",
    "            #res = (max_learn_rate/warmup_epoch_count) * (epoch + 1)\n",
    "            res = end_learn_rate\n",
    "        else:\n",
    "            res = max_learn_rate*math.exp(math.log(end_learn_rate/max_learn_rate)*(epoch-warmup_epoch_count+1)/(total_epoch_count-warmup_epoch_count+1))\n",
    "        return float(res)\n",
    "    learning_rate_scheduler = tf.keras.callbacks.LearningRateScheduler(lr_scheduler, verbose=1)\n",
    "\n",
    "    return learning_rate_scheduler\n",
    "\n",
    "\n",
    "def create_model(max_seq_len, adapter_size=64):\n",
    "    \"\"\"Creates a classification model.\"\"\"\n",
    "\n",
    "    # adapter_size = 64  # see - arXiv:1902.00751\n",
    "\n",
    "    # create the bert layer\n",
    "    with tf.io.gfile.GFile(CHECKPOINT_CONFIG, \"r\") as reader:\n",
    "        #Download from Google\n",
    "        #model_dir    = bert.fetch_tfhub_albert_model(model_name, \".models\")\n",
    "        #bert_params = bert.albert_params(model_name)\n",
    "        #bert_l = BertModelLayer.from_params(bert_params, name=\"albert\", shared_layer=True, embedding_size=128)\n",
    "        \n",
    "        bc = StockBertConfig.from_json_string(reader.read())\n",
    "        bert_params = map_stock_config_to_params(bc)\n",
    "        bert_params.adapter_size = adapter_size\n",
    "        bert_l = None\n",
    "        if MODEL[:4] == 'bert':\n",
    "          bert_l = BertModelLayer.from_params(bert_params, name=\"bert\")\n",
    "        else:\n",
    "          bert_l = BertModelLayer.from_params(bert_params, name=\"albert\", shared_layer=True, embedding_size=128)\n",
    "\n",
    "    input_ids = keras.layers.Input(shape=(max_seq_len,), dtype='int32', name=\"input_ids\")\n",
    "    # token_type_ids = keras.layers.Input(shape=(max_seq_len,), dtype='int32', name=\"token_type_ids\")\n",
    "    # output         = bert([input_ids, token_type_ids])\n",
    "    output = bert_l(input_ids)\n",
    "\n",
    "    print(\"bert shape\", output.shape)\n",
    "    cls_out = keras.layers.Lambda(lambda seq: seq[:, 0, :])(output)\n",
    "    cls_out = keras.layers.Dropout(0.5)(cls_out)\n",
    "    logits = keras.layers.Dense(units=768, activation=\"tanh\")(cls_out)\n",
    "    logits = keras.layers.Dropout(0.5)(logits)\n",
    "    logits = keras.layers.Dense(units=2, activation=\"softmax\")(logits)\n",
    "\n",
    "    # model = keras.Model(inputs=[input_ids, token_type_ids], outputs=logits)\n",
    "    # model.build(input_shape=[(None, max_seq_len), (None, max_seq_len)])\n",
    "    model = keras.Model(inputs=input_ids, outputs=logits)\n",
    "    model.build(input_shape=(None, max_seq_len))\n",
    "\n",
    "    # load the pre-trained model weights\n",
    "    if MODEL[:4] == 'bert':\n",
    "      load_stock_weights(bert_l, CHECKPOINT_CKPT)\n",
    "    else:\n",
    "      bert.load_albert_weights(bert_l, CHECKPOINT_CKPT)\n",
    "\n",
    "    # freeze weights if adapter-BERT is used\n",
    "    if adapter_size is not None:\n",
    "        freeze_bert_layers(bert_l)\n",
    "\n",
    "    model.compile(optimizer=keras.optimizers.Adam(),\n",
    "                  loss=keras.losses.SparseCategoricalCrossentropy(from_logits=True),\n",
    "                  metrics=[keras.metrics.SparseCategoricalAccuracy(name=\"acc\")])\n",
    "\n",
    "    return model"
   ],
   "execution_count": 4,
   "outputs": []
  },
  {
   "cell_type": "markdown",
   "metadata": {
    "id": "brlQdmnfqSUh",
    "colab_type": "text"
   },
   "source": [
    "# Define Dataloading Class\n",
    "Also loading data into array\n"
   ]
  },
  {
   "cell_type": "code",
   "metadata": {
    "id": "fQiotBTjltcC",
    "colab_type": "code",
    "colab": {}
   },
   "source": [
    "import logging\n",
    "logging.getLogger(\"tensorflow\").setLevel(logging.WARNING)\n",
    "\n",
    "def load_data(file_path):\n",
    "    data = {}\n",
    "    data[\"sentence\"] = []\n",
    "    with open(file_path, \"r\") as f:\n",
    "        data[\"sentence\"] = f.readlines()\n",
    "\n",
    "    #longest_string = max(data[\"sentence\"], key=len)\n",
    "    #print(longest_string)\n",
    "    #print(len(longest_string))\n",
    "\n",
    "    return pd.DataFrame.from_dict(data)\n",
    "\n",
    "def load_dataset(pos_directory, neg_directory):\n",
    "    pos_df = load_data(pos_directory)\n",
    "    neg_df = load_data(neg_directory)\n",
    "\n",
    "    pos_df[\"sentiment\"] = 1\n",
    "    neg_df[\"sentiment\"] = 0\n",
    "\n",
    "    return pd.concat([pos_df, neg_df])\n",
    "\n",
    "class MovieReviewData:\n",
    "    DATA_COLUMN = \"sentence\"\n",
    "    LABEL_COLUMN = \"sentiment\"\n",
    "\n",
    "    def __init__(self, tokenizer= FullTokenizer, max_seq_len=128, steps=200, extra_data=False):\n",
    "        self.tokenizer = tokenizer\n",
    "        self.step = None\n",
    "        self.sample_size= 128*937\n",
    "        self.max_seq_len = max_seq_len\n",
    "        self.train_x = None\n",
    "        self.train_x_token_types = None\n",
    "        self.test_x = None\n",
    "        self.test_x_token_types = None\n",
    "        self.train_y = None\n",
    "        self.test_y = None\n",
    "        self.steps = steps\n",
    "        self.extra_data = extra_data\n",
    "        \n",
    "    def _prepare(self, df):\n",
    "        x, y = [], []\n",
    "        with tqdm(total=df.shape[0], unit_scale=True) as pbar:\n",
    "            for ndx, row in df.iterrows():\n",
    "                text, label = row[MovieReviewData.DATA_COLUMN], row[MovieReviewData.LABEL_COLUMN]\n",
    "                tokens = self.tokenizer.tokenize(text)\n",
    "                tokens = [\"[CLS]\"] + tokens + [\"[SEP]\"]\n",
    "                token_ids = self.tokenizer.convert_tokens_to_ids(tokens)\n",
    "                # self.max_seq_len = max(self.max_seq_len, len(token_ids))\n",
    "                x.append(token_ids)\n",
    "                y.append(int(label))\n",
    "                pbar.update()\n",
    "        return np.array(x), np.array(y)\n",
    "\n",
    "    def _pad(self, ids):\n",
    "        x, t = [], []\n",
    "        token_type_ids = [0] * self.max_seq_len\n",
    "        for input_ids in ids:\n",
    "            input_ids = input_ids[:min(len(input_ids), self.max_seq_len - 2)]\n",
    "            input_ids = input_ids + [0] * (self.max_seq_len - len(input_ids))\n",
    "            x.append(np.array(input_ids))\n",
    "            t.append(token_type_ids)\n",
    "        return np.array(x), np.array(t)\n",
    "\n",
    "    def load_data(self, step, update_test=True):\n",
    "        trainset = load_dataset(DATASET_FILE_TRAIN_POS, DATASET_FILE_TRAIN_NEG)\n",
    "\n",
    "        step = step % self.steps\n",
    "\n",
    "        trainset = shuffle(trainset, random_state=5)\n",
    "        #remove already processed data\n",
    "        train = trainset.head(2400000)\n",
    "\n",
    "        if self.extra_data:\n",
    "          trainset_extra = load_dataset(DATASET_FILE_POS_EXTRA, DATASET_FILE_NEG_EXTRA)\n",
    "          trainset_extra = shuffle(trainset_extra, random_state=5)\n",
    "          \n",
    "          if ADDITIONAL_DATA_ONLY_FIRST:\n",
    "            train = pd.concat([trainset_extra, train], ignore_index=True)\n",
    "          else:\n",
    "            train = pd.concat([train, trainset_extra], ignore_index=True)\n",
    "\n",
    "          if ADDITIONAL_DATA_MIX:\n",
    "            train = shuffle(train, random_state=5)\n",
    "        \n",
    "        train = train.head(self.steps*128*93)\n",
    "        train = train.tail(self.steps*128*93 - step*128*93)\n",
    "        train = train.head(128*93)\n",
    "        test = trainset.tail(100000)\n",
    "        #train = trainset.head(10*128)\n",
    "        #test = trainset.tail(10*128)\n",
    "\n",
    "        train = shuffle(train)\n",
    "        test = shuffle(test)\n",
    "\n",
    "        train.reset_index(inplace=True, drop=True)\n",
    "        test.reset_index(inplace=True, drop=True)\n",
    "\n",
    "        if update_test:\n",
    "          ((self.train_x, self.train_y),\n",
    "          (self.test_x, self.test_y)) = map(self._prepare, [train, test])\n",
    "\n",
    "          ((self.train_x, self.train_x_token_types),\n",
    "          (self.test_x, self.test_x_token_types)) = map(self._pad,\n",
    "                                                        [self.train_x, self.test_x])\n",
    "        else:\n",
    "          df_empty = pd.DataFrame({'empty' : []})\n",
    "          ((self.train_x, self.train_y),\n",
    "          (_, _)) = map(self._prepare, [train, df_empty])\n",
    "\n",
    "          ((self.train_x, self.train_x_token_types),\n",
    "          (_, _)) = map(self._pad, [self.train_x, []])\n",
    "\n",
    "spm_model = None\n",
    "sp = None\n",
    "\n",
    "if MODEL == 'albert':\n",
    "  spm_model = os.path.join('./bert/checkpoints/albert_xlarge/', \"30k-clean.model\")\n",
    "  sp = spm.SentencePieceProcessor()\n",
    "  sp.load(spm_model)\n",
    "\n",
    "tokenizer = None\n",
    "if MODEL[:4] == 'bert':\n",
    "  tokenizer = FullTokenizer(vocab_file=CHECKPOINT_VOCAB, do_lower_case=True)\n",
    "else:\n",
    "  tokenizer = AlbertFullTokenizer(vocab_file=None, do_lower_case=True, spm_model_file=CHECKPOINT_VOCAB)"
   ],
   "execution_count": 5,
   "outputs": []
  },
  {
   "cell_type": "markdown",
   "metadata": {
    "id": "1efXrHjE3CG4",
    "colab_type": "text"
   },
   "source": [
    "## BERT text preprocessing"
   ]
  },
  {
   "cell_type": "code",
   "metadata": {
    "id": "0E4uy1eZCOgS",
    "colab_type": "code",
    "colab": {}
   },
   "source": [
    "def pre_process_positive(x, max_seq_len):\n",
    "  tokens = tokenizer.tokenize(x.numpy())\n",
    "  tokens = [\"[CLS]\"] + tokens + [\"[SEP]\"]\n",
    "  token_ids = tokenizer.convert_tokens_to_ids(tokens)\n",
    "  token_ids = token_ids[:min(len(token_ids), max_seq_len - 2)]\n",
    "  token_ids = np.concatenate((token_ids, np.zeros((max_seq_len - len(token_ids))))).astype(np.int32)\n",
    "  return token_ids, int(1)\n",
    "\n",
    "def pre_process_negative(x, max_seq_len):\n",
    "  tokens = tokenizer.tokenize(x.numpy())\n",
    "  tokens = [\"[CLS]\"] + tokens + [\"[SEP]\"]\n",
    "  token_ids = tokenizer.convert_tokens_to_ids(tokens)\n",
    "  token_ids = token_ids[:min(len(token_ids), max_seq_len - 2)]\n",
    "  token_ids = np.concatenate((token_ids, np.zeros((max_seq_len - len(token_ids))))).astype(np.int32)\n",
    "  return token_ids, int(0)\n",
    "\n",
    "def pre_process_text(x):\n",
    "  tokens = tokenizer.tokenize(x.numpy())\n",
    "  tokens = [\"[CLS]\"] + tokens + [\"[SEP]\"]\n",
    "  return tokens\n",
    "\n",
    "def dummy_pre_process(x):\n",
    "   return tf.constant(3, shape=(128,))"
   ],
   "execution_count": 6,
   "outputs": []
  },
  {
   "cell_type": "markdown",
   "metadata": {
    "id": "RR2PNyhBSa-5",
    "colab_type": "text"
   },
   "source": [
    "## Build Model"
   ]
  },
  {
   "cell_type": "code",
   "metadata": {
    "id": "UaJfqna-xPbs",
    "colab_type": "code",
    "colab": {
     "base_uri": "https://localhost:8080/",
     "height": 703
    },
    "outputId": "ef6f80c4-db9a-45a7-83d3-024ab3c5c6b8"
   },
   "source": [
    "max_seq_len = 128\n",
    "adapter_size = None\n",
    "\n",
    "with tpu_strategy.scope():\n",
    "    model = create_model(max_seq_len, adapter_size=adapter_size)\n",
    "\n",
    "model.summary()\n",
    "\n",
    "total_epoch_count = 1"
   ],
   "execution_count": 7,
   "outputs": [
    {
     "output_type": "stream",
     "text": [
      "bert shape (None, 128, 4096)\n",
      "Loading google-research/ALBERT weights...\n",
      "Done loading 22 BERT weights from: ./bert/checkpoints/albert_xxlarge/model.ckpt-best into <bert.model.BertModelLayer object at 0x7f71758fcd68> (prefix:albert). Count of weights not found in the checkpoint was: [0]. Count of weights with mismatched shape: [0]\n",
      "Unused weights from checkpoint: \n",
      "\tbert/embeddings/token_type_embeddings\n",
      "\tbert/pooler/dense/bias\n",
      "\tbert/pooler/dense/kernel\n",
      "\tcls/predictions/output_bias\n",
      "\tcls/predictions/transform/LayerNorm/beta\n",
      "\tcls/predictions/transform/LayerNorm/gamma\n",
      "\tcls/predictions/transform/dense/bias\n",
      "\tcls/predictions/transform/dense/kernel\n",
      "\tcls/seq_relationship/output_bias\n",
      "\tcls/seq_relationship/output_weights\n",
      "\tglobal_step\n",
      "Model: \"model\"\n",
      "_________________________________________________________________\n",
      "Layer (type)                 Output Shape              Param #   \n",
      "=================================================================\n",
      "input_ids (InputLayer)       [(None, 128)]             0         \n",
      "_________________________________________________________________\n",
      "albert (BertModelLayer)      (None, 128, 4096)         205814016 \n",
      "_________________________________________________________________\n",
      "lambda (Lambda)              (None, 4096)              0         \n",
      "_________________________________________________________________\n",
      "dropout (Dropout)            (None, 4096)              0         \n",
      "_________________________________________________________________\n",
      "dense (Dense)                (None, 768)               3146496   \n",
      "_________________________________________________________________\n",
      "dropout_1 (Dropout)          (None, 768)               0         \n",
      "_________________________________________________________________\n",
      "dense_1 (Dense)              (None, 2)                 1538      \n",
      "=================================================================\n",
      "Total params: 208,962,050\n",
      "Trainable params: 208,962,050\n",
      "Non-trainable params: 0\n",
      "_________________________________________________________________\n"
     ],
     "name": "stdout"
    }
   ]
  },
  {
   "cell_type": "markdown",
   "metadata": {
    "id": "Idw95IXg3_yM",
    "colab_type": "text"
   },
   "source": [
    "\n",
    "## Train model/fit+save weights"
   ]
  },
  {
   "cell_type": "code",
   "metadata": {
    "id": "GmI1kXiOxUYi",
    "colab_type": "code",
    "colab": {
     "base_uri": "https://localhost:8080/",
     "height": 1000
    },
    "outputId": "cdd9c6f7-79fb-4d2f-cefa-ae864cd71643"
   },
   "source": [
    "data = MovieReviewData(tokenizer, max_seq_len=128, steps=steps, extra_data=ADDITIONAL_DATA)\n",
    "\n",
    "val_losses = []\n",
    "val_accuracy = []\n",
    "train_losses = []\n",
    "train_accuracy = []\n",
    "\n",
    "if reload_training:\n",
    "  model.load_weights(reload_checkpoint)\n",
    "  start_epoch = reload_epoch\n",
    "  start_step = reload_step\n",
    "  current_learning_rate = reload_learning_rate\n",
    "  if ADDITIONAL_DATA_ONLY_FIRST and start_epoch != 0:\n",
    "    patience = 5\n",
    "    steps = 200\n",
    "    data = MovieReviewData(tokenizer, max_seq_len=128, steps=steps, extra_data=False)\n",
    "\n",
    "finished_learning = False\n",
    "update_test = True\n",
    "for epoch in range(start_epoch, epochs):\n",
    "  if epoch == 1 and ADDITIONAL_DATA and ADDITIONAL_DATA_ONLY_FIRST:\n",
    "    steps = 200\n",
    "    patience = 5\n",
    "    no_improvement_since = 0\n",
    "    data = MovieReviewData(tokenizer, max_seq_len=128, steps=steps, extra_data=False)\n",
    "    update_test = True\n",
    "  for step in range(start_step, steps):\n",
    "    print('Epoch {}/{} Step {}/{}'.format(epoch, epochs-1, step, steps-1))\n",
    "    print('Loading Data...')\n",
    "    data.load_data(step, update_test)\n",
    "    if update_test:\n",
    "      update_test = False\n",
    "\n",
    "    dataset_train = tf.data.Dataset.from_tensor_slices((data.train_x, data.train_y))\n",
    "    dataset_train = dataset_train.batch(32, drop_remainder=True)\n",
    "\n",
    "    dataset_test = tf.data.Dataset.from_tensor_slices((data.test_x, data.test_y))\n",
    "    dataset_test = dataset_test.batch(32, drop_remainder=True)\n",
    "\n",
    "    train_history = model.fit(dataset_train,\n",
    "                    epochs=1,\n",
    "                    callbacks=[create_learning_rate(learn_rate=current_learning_rate)])\n",
    "    \n",
    "    loss = train_history.history['loss'][0]\n",
    "    accuracy = train_history.history['acc'][0]\n",
    "\n",
    "    train_losses.append(loss)\n",
    "    train_accuracy.append(accuracy)\n",
    "\n",
    "    if step % 10 == 0:\n",
    "      print('Run Validation...')\n",
    "      results = model.evaluate(dataset_test)\n",
    "      val_loss = results[0]\n",
    "      val_acc = results[1]\n",
    "      val_losses.append(val_loss)\n",
    "      val_accuracy.append(val_acc)\n",
    "\n",
    "      if last_val_loss is None or last_val_loss > val_loss:\n",
    "        last_val_loss = val_loss\n",
    "        no_improvement_since = 0\n",
    "      else:\n",
    "        no_improvement_since += 1\n",
    "        if no_improvement_since >= patience:\n",
    "          current_learning_rate = current_learning_rate * 0.1\n",
    "          if current_learning_rate < minimum_learning_rate:\n",
    "            print('Learning Finished Early')\n",
    "            finished_learning = True\n",
    "            break\n",
    "          print('Decreasing Learning Rate to: {}'.format(current_learning_rate))\n",
    "          no_improvement_since = 0\n",
    "        else:\n",
    "          print('No improvement since: {}'.format(no_improvement_since))\n",
    "\n",
    "\n",
    "    if step != 0 and step % 50 == 0:\n",
    "      model.save_weights('./'+MODEL+identifier+'_epoch_{}_step_{}.h5'.format(epoch, step), overwrite=True)\n",
    "\n",
    "      # Write Results Intermediate\n",
    "      if not os.path.exists('./results'):\n",
    "        os.mkdir('./results')\n",
    "      \n",
    "      f = open('./results/'+MODEL+identifier+'_epoch_{}_step_{}_train.txt'.format(epoch, step), 'w')\n",
    "      for x in range(len(train_losses)):\n",
    "        f.write('{} {} {}\\n'.format(x, train_losses[x], train_accuracy[x]))\n",
    "      f.close()\n",
    "\n",
    "      f = open('./results/'+MODEL+identifier+'_epoch_{}_step_{}_validation.txt'.format(epoch, step), 'w')\n",
    "      for x in range(len(val_losses)):\n",
    "        f.write('{} {} {}\\n'.format(x * 100, val_losses[x], val_accuracy[x]))\n",
    "      f.close()\n",
    "\n",
    "    start_step = 0\n",
    "\n",
    "  model.save_weights('./'+MODEL+identifier+'_epoch_{}.h5'.format(epoch), overwrite=True)\n",
    "  \n",
    "  # Write Results Intermediate\n",
    "  if not os.path.exists('./results'):\n",
    "    os.mkdir('./results')\n",
    "\n",
    "  f = open('./results/'+MODEL+identifier+'_epoch_{}_train.txt'.format(epoch), 'w')\n",
    "  for x in range(len(train_losses)):\n",
    "    f.write('{} {} {}\\n'.format(x, train_losses[x], train_accuracy[x]))\n",
    "  f.close()\n",
    "\n",
    "  f = open('./results/'+MODEL+identifier+'_epoch_{}_validation.txt'.format(epoch), 'w')\n",
    "  for x in range(len(val_losses)):\n",
    "    f.write('{} {} {}\\n'.format(x * 100, val_losses[x], val_accuracy[x]))\n",
    "  f.close()\n",
    "\n",
    "  if finished_learning: \n",
    "    break\n",
    "\n",
    "model.save_weights('./'+MODEL+identifier+'.h5', overwrite=True)\n",
    "\n",
    "# Write Results\n",
    "if not os.path.exists('./results'):\n",
    "  os.mkdir('./results')\n",
    "\n",
    "f = open('./results/'+MODEL+identifier+'_train.txt', 'w')\n",
    "for x in range(len(train_losses)):\n",
    "  f.write('{} {} {}\\n'.format(x, train_losses[x], train_accuracy[x]))\n",
    "f.close()\n",
    "\n",
    "f = open('./results/'+MODEL+identifier+'_validation.txt', 'w')\n",
    "for x in range(len(val_losses)):\n",
    "  f.write('{} {} {}\\n'.format(x * 100, val_losses[x], val_accuracy[x]))\n",
    "f.close()"
   ],
   "execution_count": 8,
   "outputs": [
    {
     "output_type": "stream",
     "text": [
      "Epoch 2/5 Step 51/199\n",
      "Loading Data...\n"
     ],
     "name": "stdout"
    },
    {
     "output_type": "stream",
     "text": [
      "100%|██████████| 11.9k/11.9k [00:02<00:00, 4.85kit/s]\n",
      "100%|██████████| 100k/100k [00:22<00:00, 4.48kit/s] \n"
     ],
     "name": "stderr"
    },
    {
     "output_type": "stream",
     "text": [
      "\n",
      "Epoch 00001: LearningRateScheduler reducing learning rate to 1e-06.\n",
      "372/372 [==============================] - 159s 427ms/step - acc: 0.9045 - loss: 0.4064 - lr: 1.0000e-06\n",
      "Epoch 2/5 Step 52/199\n",
      "Loading Data...\n"
     ],
     "name": "stdout"
    },
    {
     "output_type": "stream",
     "text": [
      "100%|██████████| 11.9k/11.9k [00:02<00:00, 4.90kit/s]\n",
      "0.00it [00:00, ?it/s]\n"
     ],
     "name": "stderr"
    },
    {
     "output_type": "stream",
     "text": [
      "\n",
      "Epoch 00001: LearningRateScheduler reducing learning rate to 1e-06.\n",
      "372/372 [==============================] - 159s 427ms/step - acc: 0.9027 - loss: 0.4066 - lr: 1.0000e-06\n",
      "Epoch 2/5 Step 53/199\n",
      "Loading Data...\n"
     ],
     "name": "stdout"
    },
    {
     "output_type": "stream",
     "text": [
      "100%|██████████| 11.9k/11.9k [00:02<00:00, 4.95kit/s]\n",
      "0.00it [00:00, ?it/s]\n"
     ],
     "name": "stderr"
    },
    {
     "output_type": "stream",
     "text": [
      "\n",
      "Epoch 00001: LearningRateScheduler reducing learning rate to 1e-06.\n",
      "372/372 [==============================] - 159s 428ms/step - acc: 0.9029 - loss: 0.4065 - lr: 1.0000e-06\n",
      "Epoch 2/5 Step 54/199\n",
      "Loading Data...\n"
     ],
     "name": "stdout"
    },
    {
     "output_type": "stream",
     "text": [
      "100%|██████████| 11.9k/11.9k [00:02<00:00, 4.91kit/s]\n",
      "0.00it [00:00, ?it/s]\n"
     ],
     "name": "stderr"
    },
    {
     "output_type": "stream",
     "text": [
      "\n",
      "Epoch 00001: LearningRateScheduler reducing learning rate to 1e-06.\n",
      "372/372 [==============================] - 159s 428ms/step - acc: 0.8994 - loss: 0.4101 - lr: 1.0000e-06\n",
      "Epoch 2/5 Step 55/199\n",
      "Loading Data...\n"
     ],
     "name": "stdout"
    },
    {
     "output_type": "stream",
     "text": [
      "100%|██████████| 11.9k/11.9k [00:02<00:00, 4.93kit/s]\n",
      "0.00it [00:00, ?it/s]\n"
     ],
     "name": "stderr"
    },
    {
     "output_type": "stream",
     "text": [
      "\n",
      "Epoch 00001: LearningRateScheduler reducing learning rate to 1e-06.\n",
      "372/372 [==============================] - 159s 428ms/step - acc: 0.9041 - loss: 0.4066 - lr: 1.0000e-06\n",
      "Epoch 2/5 Step 56/199\n",
      "Loading Data...\n"
     ],
     "name": "stdout"
    },
    {
     "output_type": "stream",
     "text": [
      "100%|██████████| 11.9k/11.9k [00:02<00:00, 4.50kit/s]\n",
      "0.00it [00:00, ?it/s]\n"
     ],
     "name": "stderr"
    },
    {
     "output_type": "stream",
     "text": [
      "\n",
      "Epoch 00001: LearningRateScheduler reducing learning rate to 1e-06.\n",
      "372/372 [==============================] - 159s 428ms/step - acc: 0.9065 - loss: 0.4045 - lr: 1.0000e-06\n",
      "Epoch 2/5 Step 57/199\n",
      "Loading Data...\n"
     ],
     "name": "stdout"
    },
    {
     "output_type": "stream",
     "text": [
      "100%|██████████| 11.9k/11.9k [00:02<00:00, 4.91kit/s]\n",
      "0.00it [00:00, ?it/s]\n"
     ],
     "name": "stderr"
    },
    {
     "output_type": "stream",
     "text": [
      "\n",
      "Epoch 00001: LearningRateScheduler reducing learning rate to 1e-06.\n",
      "372/372 [==============================] - 159s 428ms/step - acc: 0.9023 - loss: 0.4080 - lr: 1.0000e-06\n",
      "Epoch 2/5 Step 58/199\n",
      "Loading Data...\n"
     ],
     "name": "stdout"
    },
    {
     "output_type": "stream",
     "text": [
      "100%|██████████| 11.9k/11.9k [00:02<00:00, 4.90kit/s]\n",
      "0.00it [00:00, ?it/s]\n"
     ],
     "name": "stderr"
    },
    {
     "output_type": "stream",
     "text": [
      "\n",
      "Epoch 00001: LearningRateScheduler reducing learning rate to 1e-06.\n",
      "372/372 [==============================] - 159s 428ms/step - acc: 0.9031 - loss: 0.4070 - lr: 1.0000e-06\n",
      "Epoch 2/5 Step 59/199\n",
      "Loading Data...\n"
     ],
     "name": "stdout"
    },
    {
     "output_type": "stream",
     "text": [
      "100%|██████████| 11.9k/11.9k [00:02<00:00, 4.87kit/s]\n",
      "0.00it [00:00, ?it/s]\n"
     ],
     "name": "stderr"
    },
    {
     "output_type": "stream",
     "text": [
      "\n",
      "Epoch 00001: LearningRateScheduler reducing learning rate to 1e-06.\n",
      "372/372 [==============================] - 159s 428ms/step - acc: 0.9050 - loss: 0.4059 - lr: 1.0000e-06\n",
      "Epoch 2/5 Step 60/199\n",
      "Loading Data...\n"
     ],
     "name": "stdout"
    },
    {
     "output_type": "stream",
     "text": [
      "100%|██████████| 11.9k/11.9k [00:02<00:00, 4.85kit/s]\n",
      "0.00it [00:00, ?it/s]\n"
     ],
     "name": "stderr"
    },
    {
     "output_type": "stream",
     "text": [
      "\n",
      "Epoch 00001: LearningRateScheduler reducing learning rate to 1e-06.\n",
      "372/372 [==============================] - 159s 428ms/step - acc: 0.9083 - loss: 0.4026 - lr: 1.0000e-06\n",
      "Run Validation...\n",
      "3125/3125 [==============================] - 409s 131ms/step - acc: 0.8889 - loss: 0.4199\n",
      "Epoch 2/5 Step 61/199\n",
      "Loading Data...\n"
     ],
     "name": "stdout"
    },
    {
     "output_type": "stream",
     "text": [
      "100%|██████████| 11.9k/11.9k [00:02<00:00, 4.95kit/s]\n",
      "0.00it [00:00, ?it/s]\n"
     ],
     "name": "stderr"
    },
    {
     "output_type": "stream",
     "text": [
      "\n",
      "Epoch 00001: LearningRateScheduler reducing learning rate to 1e-06.\n",
      "372/372 [==============================] - 159s 428ms/step - acc: 0.8969 - loss: 0.4114 - lr: 1.0000e-06\n",
      "Epoch 2/5 Step 62/199\n",
      "Loading Data...\n"
     ],
     "name": "stdout"
    },
    {
     "output_type": "stream",
     "text": [
      "100%|██████████| 11.9k/11.9k [00:02<00:00, 4.84kit/s]\n",
      "0.00it [00:00, ?it/s]\n"
     ],
     "name": "stderr"
    },
    {
     "output_type": "stream",
     "text": [
      "\n",
      "Epoch 00001: LearningRateScheduler reducing learning rate to 1e-06.\n",
      "372/372 [==============================] - 159s 428ms/step - acc: 0.9082 - loss: 0.4038 - lr: 1.0000e-06\n",
      "Epoch 2/5 Step 63/199\n",
      "Loading Data...\n"
     ],
     "name": "stdout"
    },
    {
     "output_type": "stream",
     "text": [
      "100%|██████████| 11.9k/11.9k [00:02<00:00, 4.81kit/s]\n",
      "0.00it [00:00, ?it/s]\n"
     ],
     "name": "stderr"
    },
    {
     "output_type": "stream",
     "text": [
      "\n",
      "Epoch 00001: LearningRateScheduler reducing learning rate to 1e-06.\n",
      "372/372 [==============================] - 159s 428ms/step - acc: 0.9049 - loss: 0.4054 - lr: 1.0000e-06\n",
      "Epoch 2/5 Step 64/199\n",
      "Loading Data...\n"
     ],
     "name": "stdout"
    },
    {
     "output_type": "stream",
     "text": [
      "100%|██████████| 11.9k/11.9k [00:02<00:00, 4.90kit/s]\n",
      "0.00it [00:00, ?it/s]\n"
     ],
     "name": "stderr"
    },
    {
     "output_type": "stream",
     "text": [
      "\n",
      "Epoch 00001: LearningRateScheduler reducing learning rate to 1e-06.\n",
      "372/372 [==============================] - 159s 428ms/step - acc: 0.9082 - loss: 0.4032 - lr: 1.0000e-06\n",
      "Epoch 2/5 Step 65/199\n",
      "Loading Data...\n"
     ],
     "name": "stdout"
    },
    {
     "output_type": "stream",
     "text": [
      "100%|██████████| 11.9k/11.9k [00:02<00:00, 4.91kit/s]\n",
      "0.00it [00:00, ?it/s]\n"
     ],
     "name": "stderr"
    },
    {
     "output_type": "stream",
     "text": [
      "\n",
      "Epoch 00001: LearningRateScheduler reducing learning rate to 1e-06.\n",
      "372/372 [==============================] - 159s 428ms/step - acc: 0.9026 - loss: 0.4086 - lr: 1.0000e-06\n",
      "Epoch 2/5 Step 66/199\n",
      "Loading Data...\n"
     ],
     "name": "stdout"
    },
    {
     "output_type": "stream",
     "text": [
      "100%|██████████| 11.9k/11.9k [00:02<00:00, 4.91kit/s]\n",
      "0.00it [00:00, ?it/s]\n"
     ],
     "name": "stderr"
    },
    {
     "output_type": "stream",
     "text": [
      "\n",
      "Epoch 00001: LearningRateScheduler reducing learning rate to 1e-06.\n",
      "372/372 [==============================] - 159s 428ms/step - acc: 0.9098 - loss: 0.4011 - lr: 1.0000e-06\n",
      "Epoch 2/5 Step 67/199\n",
      "Loading Data...\n"
     ],
     "name": "stdout"
    },
    {
     "output_type": "stream",
     "text": [
      "100%|██████████| 11.9k/11.9k [00:02<00:00, 4.95kit/s]\n",
      "0.00it [00:00, ?it/s]\n"
     ],
     "name": "stderr"
    },
    {
     "output_type": "stream",
     "text": [
      "\n",
      "Epoch 00001: LearningRateScheduler reducing learning rate to 1e-06.\n",
      "372/372 [==============================] - 159s 428ms/step - acc: 0.9019 - loss: 0.4093 - lr: 1.0000e-06\n",
      "Epoch 2/5 Step 68/199\n",
      "Loading Data...\n"
     ],
     "name": "stdout"
    },
    {
     "output_type": "stream",
     "text": [
      "100%|██████████| 11.9k/11.9k [00:02<00:00, 4.79kit/s]\n",
      "0.00it [00:00, ?it/s]\n"
     ],
     "name": "stderr"
    },
    {
     "output_type": "stream",
     "text": [
      "\n",
      "Epoch 00001: LearningRateScheduler reducing learning rate to 1e-06.\n",
      "372/372 [==============================] - 159s 428ms/step - acc: 0.9086 - loss: 0.4018 - lr: 1.0000e-06\n",
      "Epoch 2/5 Step 69/199\n",
      "Loading Data...\n"
     ],
     "name": "stdout"
    },
    {
     "output_type": "stream",
     "text": [
      "100%|██████████| 11.9k/11.9k [00:02<00:00, 4.85kit/s]\n",
      "0.00it [00:00, ?it/s]\n"
     ],
     "name": "stderr"
    },
    {
     "output_type": "stream",
     "text": [
      "\n",
      "Epoch 00001: LearningRateScheduler reducing learning rate to 1e-06.\n",
      "372/372 [==============================] - 159s 428ms/step - acc: 0.9045 - loss: 0.4048 - lr: 1.0000e-06\n",
      "Epoch 2/5 Step 70/199\n",
      "Loading Data...\n"
     ],
     "name": "stdout"
    },
    {
     "output_type": "stream",
     "text": [
      "100%|██████████| 11.9k/11.9k [00:02<00:00, 4.85kit/s]\n",
      "0.00it [00:00, ?it/s]\n"
     ],
     "name": "stderr"
    },
    {
     "output_type": "stream",
     "text": [
      "\n",
      "Epoch 00001: LearningRateScheduler reducing learning rate to 1e-06.\n",
      "372/372 [==============================] - 159s 428ms/step - acc: 0.9062 - loss: 0.4050 - lr: 1.0000e-06\n",
      "Run Validation...\n",
      "3125/3125 [==============================] - 410s 131ms/step - acc: 0.8885 - loss: 0.4204\n",
      "No improvement since: 1\n",
      "Epoch 2/5 Step 71/199\n",
      "Loading Data...\n"
     ],
     "name": "stdout"
    },
    {
     "output_type": "stream",
     "text": [
      "100%|██████████| 11.9k/11.9k [00:02<00:00, 4.83kit/s]\n",
      "0.00it [00:00, ?it/s]\n"
     ],
     "name": "stderr"
    },
    {
     "output_type": "stream",
     "text": [
      "\n",
      "Epoch 00001: LearningRateScheduler reducing learning rate to 1e-06.\n",
      "372/372 [==============================] - 159s 428ms/step - acc: 0.9067 - loss: 0.4041 - lr: 1.0000e-06\n",
      "Epoch 2/5 Step 72/199\n",
      "Loading Data...\n"
     ],
     "name": "stdout"
    },
    {
     "output_type": "stream",
     "text": [
      "100%|██████████| 11.9k/11.9k [00:02<00:00, 4.81kit/s]\n",
      "0.00it [00:00, ?it/s]\n"
     ],
     "name": "stderr"
    },
    {
     "output_type": "stream",
     "text": [
      "\n",
      "Epoch 00001: LearningRateScheduler reducing learning rate to 1e-06.\n",
      "372/372 [==============================] - 159s 428ms/step - acc: 0.9073 - loss: 0.4026 - lr: 1.0000e-06\n",
      "Epoch 2/5 Step 73/199\n",
      "Loading Data...\n"
     ],
     "name": "stdout"
    },
    {
     "output_type": "stream",
     "text": [
      "100%|██████████| 11.9k/11.9k [00:02<00:00, 4.82kit/s]\n",
      "0.00it [00:00, ?it/s]\n"
     ],
     "name": "stderr"
    },
    {
     "output_type": "stream",
     "text": [
      "\n",
      "Epoch 00001: LearningRateScheduler reducing learning rate to 1e-06.\n",
      "372/372 [==============================] - 159s 428ms/step - acc: 0.9074 - loss: 0.4033 - lr: 1.0000e-06\n",
      "Epoch 2/5 Step 74/199\n",
      "Loading Data...\n"
     ],
     "name": "stdout"
    },
    {
     "output_type": "stream",
     "text": [
      "100%|██████████| 11.9k/11.9k [00:02<00:00, 4.29kit/s]\n",
      "0.00it [00:00, ?it/s]\n"
     ],
     "name": "stderr"
    },
    {
     "output_type": "stream",
     "text": [
      "\n",
      "Epoch 00001: LearningRateScheduler reducing learning rate to 1e-06.\n",
      "372/372 [==============================] - 159s 428ms/step - acc: 0.9035 - loss: 0.4063 - lr: 1.0000e-06\n",
      "Epoch 2/5 Step 75/199\n",
      "Loading Data...\n"
     ],
     "name": "stdout"
    },
    {
     "output_type": "stream",
     "text": [
      "100%|██████████| 11.9k/11.9k [00:02<00:00, 4.70kit/s]\n",
      "0.00it [00:00, ?it/s]\n"
     ],
     "name": "stderr"
    },
    {
     "output_type": "stream",
     "text": [
      "\n",
      "Epoch 00001: LearningRateScheduler reducing learning rate to 1e-06.\n",
      "372/372 [==============================] - 159s 428ms/step - acc: 0.9024 - loss: 0.4074 - lr: 1.0000e-06\n",
      "Epoch 2/5 Step 76/199\n",
      "Loading Data...\n"
     ],
     "name": "stdout"
    },
    {
     "output_type": "stream",
     "text": [
      "100%|██████████| 11.9k/11.9k [00:02<00:00, 4.90kit/s]\n",
      "0.00it [00:00, ?it/s]\n"
     ],
     "name": "stderr"
    },
    {
     "output_type": "stream",
     "text": [
      "\n",
      "Epoch 00001: LearningRateScheduler reducing learning rate to 1e-06.\n",
      "372/372 [==============================] - 159s 428ms/step - acc: 0.9064 - loss: 0.4035 - lr: 1.0000e-06\n",
      "Epoch 2/5 Step 77/199\n",
      "Loading Data...\n"
     ],
     "name": "stdout"
    },
    {
     "output_type": "stream",
     "text": [
      "100%|██████████| 11.9k/11.9k [00:02<00:00, 4.85kit/s]\n",
      "0.00it [00:00, ?it/s]\n"
     ],
     "name": "stderr"
    },
    {
     "output_type": "stream",
     "text": [
      "\n",
      "Epoch 00001: LearningRateScheduler reducing learning rate to 1e-06.\n",
      "372/372 [==============================] - 159s 428ms/step - acc: 0.9093 - loss: 0.4016 - lr: 1.0000e-06\n",
      "Epoch 2/5 Step 78/199\n",
      "Loading Data...\n"
     ],
     "name": "stdout"
    },
    {
     "output_type": "stream",
     "text": [
      "100%|██████████| 11.9k/11.9k [00:02<00:00, 4.82kit/s]\n",
      "0.00it [00:00, ?it/s]\n"
     ],
     "name": "stderr"
    },
    {
     "output_type": "stream",
     "text": [
      "\n",
      "Epoch 00001: LearningRateScheduler reducing learning rate to 1e-06.\n",
      "372/372 [==============================] - 159s 428ms/step - acc: 0.9140 - loss: 0.3978 - lr: 1.0000e-06\n",
      "Epoch 2/5 Step 79/199\n",
      "Loading Data...\n"
     ],
     "name": "stdout"
    },
    {
     "output_type": "stream",
     "text": [
      "100%|██████████| 11.9k/11.9k [00:02<00:00, 4.82kit/s]\n",
      "0.00it [00:00, ?it/s]\n"
     ],
     "name": "stderr"
    },
    {
     "output_type": "stream",
     "text": [
      "\n",
      "Epoch 00001: LearningRateScheduler reducing learning rate to 1e-06.\n",
      "372/372 [==============================] - 159s 428ms/step - acc: 0.9054 - loss: 0.4051 - lr: 1.0000e-06\n",
      "Epoch 2/5 Step 80/199\n",
      "Loading Data...\n"
     ],
     "name": "stdout"
    },
    {
     "output_type": "stream",
     "text": [
      "100%|██████████| 11.9k/11.9k [00:02<00:00, 4.92kit/s]\n",
      "0.00it [00:00, ?it/s]\n"
     ],
     "name": "stderr"
    },
    {
     "output_type": "stream",
     "text": [
      "\n",
      "Epoch 00001: LearningRateScheduler reducing learning rate to 1e-06.\n",
      "372/372 [==============================] - 159s 428ms/step - acc: 0.9066 - loss: 0.4022 - lr: 1.0000e-06\n",
      "Run Validation...\n",
      "3125/3125 [==============================] - 410s 131ms/step - acc: 0.8879 - loss: 0.4200\n",
      "No improvement since: 2\n",
      "Epoch 2/5 Step 81/199\n",
      "Loading Data...\n"
     ],
     "name": "stdout"
    },
    {
     "output_type": "stream",
     "text": [
      "100%|██████████| 11.9k/11.9k [00:02<00:00, 4.81kit/s]\n",
      "0.00it [00:00, ?it/s]\n"
     ],
     "name": "stderr"
    },
    {
     "output_type": "stream",
     "text": [
      "\n",
      "Epoch 00001: LearningRateScheduler reducing learning rate to 1e-06.\n",
      "372/372 [==============================] - 159s 428ms/step - acc: 0.9078 - loss: 0.4031 - lr: 1.0000e-06\n",
      "Epoch 2/5 Step 82/199\n",
      "Loading Data...\n"
     ],
     "name": "stdout"
    },
    {
     "output_type": "stream",
     "text": [
      "100%|██████████| 11.9k/11.9k [00:02<00:00, 4.83kit/s]\n",
      "0.00it [00:00, ?it/s]\n"
     ],
     "name": "stderr"
    },
    {
     "output_type": "stream",
     "text": [
      "\n",
      "Epoch 00001: LearningRateScheduler reducing learning rate to 1e-06.\n",
      "372/372 [==============================] - 159s 428ms/step - acc: 0.9061 - loss: 0.4052 - lr: 1.0000e-06\n",
      "Epoch 2/5 Step 83/199\n",
      "Loading Data...\n"
     ],
     "name": "stdout"
    },
    {
     "output_type": "stream",
     "text": [
      "100%|██████████| 11.9k/11.9k [00:02<00:00, 4.84kit/s]\n",
      "0.00it [00:00, ?it/s]\n"
     ],
     "name": "stderr"
    },
    {
     "output_type": "stream",
     "text": [
      "\n",
      "Epoch 00001: LearningRateScheduler reducing learning rate to 1e-06.\n",
      "372/372 [==============================] - 159s 428ms/step - acc: 0.9010 - loss: 0.4094 - lr: 1.0000e-06\n",
      "Epoch 2/5 Step 84/199\n",
      "Loading Data...\n"
     ],
     "name": "stdout"
    },
    {
     "output_type": "stream",
     "text": [
      "100%|██████████| 11.9k/11.9k [00:02<00:00, 4.79kit/s]\n",
      "0.00it [00:00, ?it/s]\n"
     ],
     "name": "stderr"
    },
    {
     "output_type": "stream",
     "text": [
      "\n",
      "Epoch 00001: LearningRateScheduler reducing learning rate to 1e-06.\n",
      "372/372 [==============================] - 159s 428ms/step - acc: 0.9057 - loss: 0.4051 - lr: 1.0000e-06\n",
      "Epoch 2/5 Step 85/199\n",
      "Loading Data...\n"
     ],
     "name": "stdout"
    },
    {
     "output_type": "stream",
     "text": [
      "100%|██████████| 11.9k/11.9k [00:02<00:00, 4.94kit/s]\n",
      "0.00it [00:00, ?it/s]\n"
     ],
     "name": "stderr"
    },
    {
     "output_type": "stream",
     "text": [
      "\n",
      "Epoch 00001: LearningRateScheduler reducing learning rate to 1e-06.\n",
      "372/372 [==============================] - 159s 428ms/step - acc: 0.9057 - loss: 0.4040 - lr: 1.0000e-06\n",
      "Epoch 2/5 Step 86/199\n",
      "Loading Data...\n"
     ],
     "name": "stdout"
    },
    {
     "output_type": "stream",
     "text": [
      "100%|██████████| 11.9k/11.9k [00:02<00:00, 4.71kit/s]\n",
      "0.00it [00:00, ?it/s]\n"
     ],
     "name": "stderr"
    },
    {
     "output_type": "stream",
     "text": [
      "\n",
      "Epoch 00001: LearningRateScheduler reducing learning rate to 1e-06.\n",
      "372/372 [==============================] - 159s 428ms/step - acc: 0.9020 - loss: 0.4086 - lr: 1.0000e-06\n",
      "Epoch 2/5 Step 87/199\n",
      "Loading Data...\n"
     ],
     "name": "stdout"
    },
    {
     "output_type": "stream",
     "text": [
      "100%|██████████| 11.9k/11.9k [00:02<00:00, 4.92kit/s]\n",
      "0.00it [00:00, ?it/s]\n"
     ],
     "name": "stderr"
    },
    {
     "output_type": "stream",
     "text": [
      "\n",
      "Epoch 00001: LearningRateScheduler reducing learning rate to 1e-06.\n",
      "372/372 [==============================] - 159s 428ms/step - acc: 0.9005 - loss: 0.4078 - lr: 1.0000e-06\n",
      "Epoch 2/5 Step 88/199\n",
      "Loading Data...\n"
     ],
     "name": "stdout"
    },
    {
     "output_type": "stream",
     "text": [
      "100%|██████████| 11.9k/11.9k [00:02<00:00, 4.83kit/s]\n",
      "0.00it [00:00, ?it/s]\n"
     ],
     "name": "stderr"
    },
    {
     "output_type": "stream",
     "text": [
      "\n",
      "Epoch 00001: LearningRateScheduler reducing learning rate to 1e-06.\n",
      "372/372 [==============================] - 159s 428ms/step - acc: 0.8989 - loss: 0.4103 - lr: 1.0000e-06\n",
      "Epoch 2/5 Step 89/199\n",
      "Loading Data...\n"
     ],
     "name": "stdout"
    },
    {
     "output_type": "stream",
     "text": [
      "100%|██████████| 11.9k/11.9k [00:02<00:00, 4.76kit/s]\n",
      "0.00it [00:00, ?it/s]\n"
     ],
     "name": "stderr"
    },
    {
     "output_type": "stream",
     "text": [
      "\n",
      "Epoch 00001: LearningRateScheduler reducing learning rate to 1e-06.\n",
      "372/372 [==============================] - 159s 428ms/step - acc: 0.9050 - loss: 0.4070 - lr: 1.0000e-06\n",
      "Epoch 2/5 Step 90/199\n",
      "Loading Data...\n"
     ],
     "name": "stdout"
    },
    {
     "output_type": "stream",
     "text": [
      "100%|██████████| 11.9k/11.9k [00:02<00:00, 4.79kit/s]\n",
      "0.00it [00:00, ?it/s]\n"
     ],
     "name": "stderr"
    },
    {
     "output_type": "stream",
     "text": [
      "\n",
      "Epoch 00001: LearningRateScheduler reducing learning rate to 1e-06.\n",
      "372/372 [==============================] - 159s 428ms/step - acc: 0.9077 - loss: 0.4036 - lr: 1.0000e-06\n",
      "Run Validation...\n",
      "3125/3125 [==============================] - 410s 131ms/step - acc: 0.8887 - loss: 0.4205\n",
      "No improvement since: 3\n",
      "Epoch 2/5 Step 91/199\n",
      "Loading Data...\n"
     ],
     "name": "stdout"
    },
    {
     "output_type": "stream",
     "text": [
      "100%|██████████| 11.9k/11.9k [00:02<00:00, 4.84kit/s]\n",
      "0.00it [00:00, ?it/s]\n"
     ],
     "name": "stderr"
    },
    {
     "output_type": "stream",
     "text": [
      "\n",
      "Epoch 00001: LearningRateScheduler reducing learning rate to 1e-06.\n",
      "372/372 [==============================] - 159s 428ms/step - acc: 0.9092 - loss: 0.4012 - lr: 1.0000e-06\n",
      "Epoch 2/5 Step 92/199\n",
      "Loading Data...\n"
     ],
     "name": "stdout"
    },
    {
     "output_type": "stream",
     "text": [
      "100%|██████████| 11.9k/11.9k [00:02<00:00, 4.87kit/s]\n",
      "0.00it [00:00, ?it/s]\n"
     ],
     "name": "stderr"
    },
    {
     "output_type": "stream",
     "text": [
      "\n",
      "Epoch 00001: LearningRateScheduler reducing learning rate to 1e-06.\n",
      "372/372 [==============================] - 159s 428ms/step - acc: 0.8984 - loss: 0.4112 - lr: 1.0000e-06\n",
      "Epoch 2/5 Step 93/199\n",
      "Loading Data...\n"
     ],
     "name": "stdout"
    },
    {
     "output_type": "stream",
     "text": [
      "100%|██████████| 11.9k/11.9k [00:02<00:00, 4.85kit/s]\n",
      "0.00it [00:00, ?it/s]\n"
     ],
     "name": "stderr"
    },
    {
     "output_type": "stream",
     "text": [
      "\n",
      "Epoch 00001: LearningRateScheduler reducing learning rate to 1e-06.\n",
      "372/372 [==============================] - 159s 428ms/step - acc: 0.9075 - loss: 0.4022 - lr: 1.0000e-06\n",
      "Epoch 2/5 Step 94/199\n",
      "Loading Data...\n"
     ],
     "name": "stdout"
    },
    {
     "output_type": "stream",
     "text": [
      "100%|██████████| 11.9k/11.9k [00:02<00:00, 4.89kit/s]\n",
      "0.00it [00:00, ?it/s]\n"
     ],
     "name": "stderr"
    },
    {
     "output_type": "stream",
     "text": [
      "\n",
      "Epoch 00001: LearningRateScheduler reducing learning rate to 1e-06.\n",
      "372/372 [==============================] - 159s 428ms/step - acc: 0.9053 - loss: 0.4059 - lr: 1.0000e-06\n",
      "Epoch 2/5 Step 95/199\n",
      "Loading Data...\n"
     ],
     "name": "stdout"
    },
    {
     "output_type": "stream",
     "text": [
      "100%|██████████| 11.9k/11.9k [00:02<00:00, 4.80kit/s]\n",
      "0.00it [00:00, ?it/s]\n"
     ],
     "name": "stderr"
    },
    {
     "output_type": "stream",
     "text": [
      "\n",
      "Epoch 00001: LearningRateScheduler reducing learning rate to 1e-06.\n",
      "372/372 [==============================] - 159s 428ms/step - acc: 0.9015 - loss: 0.4082 - lr: 1.0000e-06\n",
      "Epoch 2/5 Step 96/199\n",
      "Loading Data...\n"
     ],
     "name": "stdout"
    },
    {
     "output_type": "stream",
     "text": [
      "100%|██████████| 11.9k/11.9k [00:02<00:00, 4.83kit/s]\n",
      "0.00it [00:00, ?it/s]\n"
     ],
     "name": "stderr"
    },
    {
     "output_type": "stream",
     "text": [
      "\n",
      "Epoch 00001: LearningRateScheduler reducing learning rate to 1e-06.\n",
      "372/372 [==============================] - 159s 428ms/step - acc: 0.9089 - loss: 0.4025 - lr: 1.0000e-06\n",
      "Epoch 2/5 Step 97/199\n",
      "Loading Data...\n"
     ],
     "name": "stdout"
    },
    {
     "output_type": "stream",
     "text": [
      "100%|██████████| 11.9k/11.9k [00:02<00:00, 4.81kit/s]\n",
      "0.00it [00:00, ?it/s]\n"
     ],
     "name": "stderr"
    },
    {
     "output_type": "stream",
     "text": [
      "\n",
      "Epoch 00001: LearningRateScheduler reducing learning rate to 1e-06.\n",
      "372/372 [==============================] - 159s 428ms/step - acc: 0.9067 - loss: 0.4031 - lr: 1.0000e-06\n",
      "Epoch 2/5 Step 98/199\n",
      "Loading Data...\n"
     ],
     "name": "stdout"
    },
    {
     "output_type": "stream",
     "text": [
      "100%|██████████| 11.9k/11.9k [00:02<00:00, 4.91kit/s]\n",
      "0.00it [00:00, ?it/s]\n"
     ],
     "name": "stderr"
    },
    {
     "output_type": "stream",
     "text": [
      "\n",
      "Epoch 00001: LearningRateScheduler reducing learning rate to 1e-06.\n",
      "372/372 [==============================] - 159s 428ms/step - acc: 0.9037 - loss: 0.4066 - lr: 1.0000e-06\n",
      "Epoch 2/5 Step 99/199\n",
      "Loading Data...\n"
     ],
     "name": "stdout"
    },
    {
     "output_type": "stream",
     "text": [
      "100%|██████████| 11.9k/11.9k [00:02<00:00, 4.80kit/s]\n",
      "0.00it [00:00, ?it/s]\n"
     ],
     "name": "stderr"
    },
    {
     "output_type": "stream",
     "text": [
      "\n",
      "Epoch 00001: LearningRateScheduler reducing learning rate to 1e-06.\n",
      "372/372 [==============================] - 159s 428ms/step - acc: 0.9005 - loss: 0.4088 - lr: 1.0000e-06\n",
      "Epoch 2/5 Step 100/199\n",
      "Loading Data...\n"
     ],
     "name": "stdout"
    },
    {
     "output_type": "stream",
     "text": [
      "100%|██████████| 11.9k/11.9k [00:02<00:00, 4.92kit/s]\n",
      "0.00it [00:00, ?it/s]\n"
     ],
     "name": "stderr"
    },
    {
     "output_type": "stream",
     "text": [
      "\n",
      "Epoch 00001: LearningRateScheduler reducing learning rate to 1e-06.\n",
      "372/372 [==============================] - 159s 428ms/step - acc: 0.9078 - loss: 0.4028 - lr: 1.0000e-06\n",
      "Run Validation...\n",
      "3125/3125 [==============================] - 410s 131ms/step - acc: 0.8877 - loss: 0.4208\n",
      "No improvement since: 4\n",
      "Epoch 2/5 Step 101/199\n",
      "Loading Data...\n"
     ],
     "name": "stdout"
    },
    {
     "output_type": "stream",
     "text": [
      "100%|██████████| 11.9k/11.9k [00:02<00:00, 4.85kit/s]\n",
      "0.00it [00:00, ?it/s]\n"
     ],
     "name": "stderr"
    },
    {
     "output_type": "stream",
     "text": [
      "\n",
      "Epoch 00001: LearningRateScheduler reducing learning rate to 1e-06.\n",
      "372/372 [==============================] - 160s 429ms/step - acc: 0.9052 - loss: 0.4061 - lr: 1.0000e-06\n",
      "Epoch 2/5 Step 102/199\n",
      "Loading Data...\n"
     ],
     "name": "stdout"
    },
    {
     "output_type": "stream",
     "text": [
      "100%|██████████| 11.9k/11.9k [00:02<00:00, 4.86kit/s]\n",
      "0.00it [00:00, ?it/s]\n"
     ],
     "name": "stderr"
    },
    {
     "output_type": "stream",
     "text": [
      "\n",
      "Epoch 00001: LearningRateScheduler reducing learning rate to 1e-06.\n",
      "372/372 [==============================] - 159s 428ms/step - acc: 0.9041 - loss: 0.4060 - lr: 1.0000e-06\n",
      "Epoch 2/5 Step 103/199\n",
      "Loading Data...\n"
     ],
     "name": "stdout"
    },
    {
     "output_type": "stream",
     "text": [
      "100%|██████████| 11.9k/11.9k [00:02<00:00, 4.69kit/s]\n",
      "0.00it [00:00, ?it/s]\n"
     ],
     "name": "stderr"
    },
    {
     "output_type": "stream",
     "text": [
      "\n",
      "Epoch 00001: LearningRateScheduler reducing learning rate to 1e-06.\n",
      "372/372 [==============================] - 159s 428ms/step - acc: 0.9073 - loss: 0.4041 - lr: 1.0000e-06\n",
      "Epoch 2/5 Step 104/199\n",
      "Loading Data...\n"
     ],
     "name": "stdout"
    },
    {
     "output_type": "stream",
     "text": [
      "100%|██████████| 11.9k/11.9k [00:02<00:00, 4.79kit/s]\n",
      "0.00it [00:00, ?it/s]\n"
     ],
     "name": "stderr"
    },
    {
     "output_type": "stream",
     "text": [
      "\n",
      "Epoch 00001: LearningRateScheduler reducing learning rate to 1e-06.\n",
      "372/372 [==============================] - 159s 428ms/step - acc: 0.9060 - loss: 0.4053 - lr: 1.0000e-06\n",
      "Epoch 2/5 Step 105/199\n",
      "Loading Data...\n"
     ],
     "name": "stdout"
    },
    {
     "output_type": "stream",
     "text": [
      "100%|██████████| 11.9k/11.9k [00:02<00:00, 4.84kit/s]\n",
      "0.00it [00:00, ?it/s]\n"
     ],
     "name": "stderr"
    },
    {
     "output_type": "stream",
     "text": [
      "\n",
      "Epoch 00001: LearningRateScheduler reducing learning rate to 1e-06.\n",
      "372/372 [==============================] - 159s 428ms/step - acc: 0.9111 - loss: 0.3995 - lr: 1.0000e-06\n",
      "Epoch 2/5 Step 106/199\n",
      "Loading Data...\n"
     ],
     "name": "stdout"
    },
    {
     "output_type": "stream",
     "text": [
      "100%|██████████| 11.9k/11.9k [00:02<00:00, 4.84kit/s]\n",
      "0.00it [00:00, ?it/s]\n"
     ],
     "name": "stderr"
    },
    {
     "output_type": "stream",
     "text": [
      "\n",
      "Epoch 00001: LearningRateScheduler reducing learning rate to 1e-06.\n",
      "372/372 [==============================] - 159s 428ms/step - acc: 0.9077 - loss: 0.4033 - lr: 1.0000e-06\n",
      "Epoch 2/5 Step 107/199\n",
      "Loading Data...\n"
     ],
     "name": "stdout"
    },
    {
     "output_type": "stream",
     "text": [
      "100%|██████████| 11.9k/11.9k [00:02<00:00, 4.89kit/s]\n",
      "0.00it [00:00, ?it/s]\n"
     ],
     "name": "stderr"
    },
    {
     "output_type": "stream",
     "text": [
      "\n",
      "Epoch 00001: LearningRateScheduler reducing learning rate to 1e-06.\n",
      "372/372 [==============================] - 159s 428ms/step - acc: 0.9068 - loss: 0.4034 - lr: 1.0000e-06\n",
      "Epoch 2/5 Step 108/199\n",
      "Loading Data...\n"
     ],
     "name": "stdout"
    },
    {
     "output_type": "stream",
     "text": [
      "100%|██████████| 11.9k/11.9k [00:02<00:00, 4.92kit/s]\n",
      "0.00it [00:00, ?it/s]\n"
     ],
     "name": "stderr"
    },
    {
     "output_type": "stream",
     "text": [
      "\n",
      "Epoch 00001: LearningRateScheduler reducing learning rate to 1e-06.\n",
      "372/372 [==============================] - 159s 428ms/step - acc: 0.9057 - loss: 0.4059 - lr: 1.0000e-06\n",
      "Epoch 2/5 Step 109/199\n",
      "Loading Data...\n"
     ],
     "name": "stdout"
    },
    {
     "output_type": "stream",
     "text": [
      "100%|██████████| 11.9k/11.9k [00:02<00:00, 4.83kit/s]\n",
      "0.00it [00:00, ?it/s]\n"
     ],
     "name": "stderr"
    },
    {
     "output_type": "stream",
     "text": [
      "\n",
      "Epoch 00001: LearningRateScheduler reducing learning rate to 1e-06.\n",
      "372/372 [==============================] - 159s 428ms/step - acc: 0.9086 - loss: 0.4018 - lr: 1.0000e-06\n",
      "Epoch 2/5 Step 110/199\n",
      "Loading Data...\n"
     ],
     "name": "stdout"
    },
    {
     "output_type": "stream",
     "text": [
      "100%|██████████| 11.9k/11.9k [00:02<00:00, 4.80kit/s]\n",
      "0.00it [00:00, ?it/s]\n"
     ],
     "name": "stderr"
    },
    {
     "output_type": "stream",
     "text": [
      "\n",
      "Epoch 00001: LearningRateScheduler reducing learning rate to 1e-06.\n",
      "372/372 [==============================] - 159s 428ms/step - acc: 0.9093 - loss: 0.4025 - lr: 1.0000e-06\n",
      "Run Validation...\n",
      "3125/3125 [==============================] - 410s 131ms/step - acc: 0.8882 - loss: 0.4217\n",
      "Decreasing Learning Rate to: 1e-07\n",
      "Epoch 2/5 Step 111/199\n",
      "Loading Data...\n"
     ],
     "name": "stdout"
    },
    {
     "output_type": "stream",
     "text": [
      "100%|██████████| 11.9k/11.9k [00:02<00:00, 4.82kit/s]\n",
      "0.00it [00:00, ?it/s]\n"
     ],
     "name": "stderr"
    },
    {
     "output_type": "stream",
     "text": [
      "\n",
      "Epoch 00001: LearningRateScheduler reducing learning rate to 1e-07.\n",
      "372/372 [==============================] - 159s 428ms/step - acc: 0.9073 - loss: 0.4043 - lr: 1.0000e-07\n",
      "Epoch 2/5 Step 112/199\n",
      "Loading Data...\n"
     ],
     "name": "stdout"
    },
    {
     "output_type": "stream",
     "text": [
      "100%|██████████| 11.9k/11.9k [00:02<00:00, 4.83kit/s]\n",
      "0.00it [00:00, ?it/s]\n"
     ],
     "name": "stderr"
    },
    {
     "output_type": "stream",
     "text": [
      "\n",
      "Epoch 00001: LearningRateScheduler reducing learning rate to 1e-07.\n",
      "372/372 [==============================] - 159s 428ms/step - acc: 0.9071 - loss: 0.4032 - lr: 1.0000e-07\n",
      "Epoch 2/5 Step 113/199\n",
      "Loading Data...\n"
     ],
     "name": "stdout"
    },
    {
     "output_type": "stream",
     "text": [
      "100%|██████████| 11.9k/11.9k [00:02<00:00, 4.89kit/s]\n",
      "0.00it [00:00, ?it/s]\n"
     ],
     "name": "stderr"
    },
    {
     "output_type": "stream",
     "text": [
      "\n",
      "Epoch 00001: LearningRateScheduler reducing learning rate to 1e-07.\n",
      "372/372 [==============================] - 159s 428ms/step - acc: 0.9094 - loss: 0.4015 - lr: 1.0000e-07\n",
      "Epoch 2/5 Step 114/199\n",
      "Loading Data...\n"
     ],
     "name": "stdout"
    },
    {
     "output_type": "stream",
     "text": [
      "100%|██████████| 11.9k/11.9k [00:02<00:00, 4.87kit/s]\n",
      "0.00it [00:00, ?it/s]\n"
     ],
     "name": "stderr"
    },
    {
     "output_type": "stream",
     "text": [
      "\n",
      "Epoch 00001: LearningRateScheduler reducing learning rate to 1e-07.\n",
      "372/372 [==============================] - 159s 428ms/step - acc: 0.9078 - loss: 0.4032 - lr: 1.0000e-07\n",
      "Epoch 2/5 Step 115/199\n",
      "Loading Data...\n"
     ],
     "name": "stdout"
    },
    {
     "output_type": "stream",
     "text": [
      "100%|██████████| 11.9k/11.9k [00:02<00:00, 4.89kit/s]\n",
      "0.00it [00:00, ?it/s]\n"
     ],
     "name": "stderr"
    },
    {
     "output_type": "stream",
     "text": [
      "\n",
      "Epoch 00001: LearningRateScheduler reducing learning rate to 1e-07.\n",
      "372/372 [==============================] - 159s 428ms/step - acc: 0.9034 - loss: 0.4056 - lr: 1.0000e-07\n",
      "Epoch 2/5 Step 116/199\n",
      "Loading Data...\n"
     ],
     "name": "stdout"
    },
    {
     "output_type": "stream",
     "text": [
      "100%|██████████| 11.9k/11.9k [00:02<00:00, 4.68kit/s]\n",
      "0.00it [00:00, ?it/s]\n"
     ],
     "name": "stderr"
    },
    {
     "output_type": "stream",
     "text": [
      "\n",
      "Epoch 00001: LearningRateScheduler reducing learning rate to 1e-07.\n",
      "372/372 [==============================] - 159s 428ms/step - acc: 0.9085 - loss: 0.4020 - lr: 1.0000e-07\n",
      "Epoch 2/5 Step 117/199\n",
      "Loading Data...\n"
     ],
     "name": "stdout"
    },
    {
     "output_type": "stream",
     "text": [
      "100%|██████████| 11.9k/11.9k [00:02<00:00, 4.76kit/s]\n",
      "0.00it [00:00, ?it/s]\n"
     ],
     "name": "stderr"
    },
    {
     "output_type": "stream",
     "text": [
      "\n",
      "Epoch 00001: LearningRateScheduler reducing learning rate to 1e-07.\n",
      "372/372 [==============================] - 159s 428ms/step - acc: 0.9040 - loss: 0.4057 - lr: 1.0000e-07\n",
      "Epoch 2/5 Step 118/199\n",
      "Loading Data...\n"
     ],
     "name": "stdout"
    },
    {
     "output_type": "stream",
     "text": [
      "100%|██████████| 11.9k/11.9k [00:02<00:00, 4.80kit/s]\n",
      "0.00it [00:00, ?it/s]\n"
     ],
     "name": "stderr"
    },
    {
     "output_type": "stream",
     "text": [
      "\n",
      "Epoch 00001: LearningRateScheduler reducing learning rate to 1e-07.\n",
      "372/372 [==============================] - 159s 428ms/step - acc: 0.9091 - loss: 0.4009 - lr: 1.0000e-07\n",
      "Epoch 2/5 Step 119/199\n",
      "Loading Data...\n"
     ],
     "name": "stdout"
    },
    {
     "output_type": "stream",
     "text": [
      "100%|██████████| 11.9k/11.9k [00:02<00:00, 4.77kit/s]\n",
      "0.00it [00:00, ?it/s]\n"
     ],
     "name": "stderr"
    },
    {
     "output_type": "stream",
     "text": [
      "\n",
      "Epoch 00001: LearningRateScheduler reducing learning rate to 1e-07.\n",
      "372/372 [==============================] - 159s 428ms/step - acc: 0.9010 - loss: 0.4093 - lr: 1.0000e-07\n",
      "Epoch 2/5 Step 120/199\n",
      "Loading Data...\n"
     ],
     "name": "stdout"
    },
    {
     "output_type": "stream",
     "text": [
      "100%|██████████| 11.9k/11.9k [00:02<00:00, 4.80kit/s]\n",
      "0.00it [00:00, ?it/s]\n"
     ],
     "name": "stderr"
    },
    {
     "output_type": "stream",
     "text": [
      "\n",
      "Epoch 00001: LearningRateScheduler reducing learning rate to 1e-07.\n",
      "372/372 [==============================] - 159s 428ms/step - acc: 0.9038 - loss: 0.4068 - lr: 1.0000e-07\n",
      "Run Validation...\n",
      "3125/3125 [==============================] - 410s 131ms/step - acc: 0.8887 - loss: 0.4204\n",
      "No improvement since: 1\n",
      "Epoch 2/5 Step 121/199\n",
      "Loading Data...\n"
     ],
     "name": "stdout"
    },
    {
     "output_type": "stream",
     "text": [
      "100%|██████████| 11.9k/11.9k [00:02<00:00, 4.22kit/s]\n",
      "0.00it [00:00, ?it/s]\n"
     ],
     "name": "stderr"
    },
    {
     "output_type": "stream",
     "text": [
      "\n",
      "Epoch 00001: LearningRateScheduler reducing learning rate to 1e-07.\n",
      "372/372 [==============================] - 159s 428ms/step - acc: 0.9058 - loss: 0.4048 - lr: 1.0000e-07\n",
      "Epoch 2/5 Step 122/199\n",
      "Loading Data...\n"
     ],
     "name": "stdout"
    },
    {
     "output_type": "stream",
     "text": [
      "100%|██████████| 11.9k/11.9k [00:02<00:00, 4.80kit/s]\n",
      "0.00it [00:00, ?it/s]\n"
     ],
     "name": "stderr"
    },
    {
     "output_type": "stream",
     "text": [
      "\n",
      "Epoch 00001: LearningRateScheduler reducing learning rate to 1e-07.\n",
      "372/372 [==============================] - 159s 428ms/step - acc: 0.9046 - loss: 0.4047 - lr: 1.0000e-07\n",
      "Epoch 2/5 Step 123/199\n",
      "Loading Data...\n"
     ],
     "name": "stdout"
    },
    {
     "output_type": "stream",
     "text": [
      "100%|██████████| 11.9k/11.9k [00:02<00:00, 4.84kit/s]\n",
      "0.00it [00:00, ?it/s]\n"
     ],
     "name": "stderr"
    },
    {
     "output_type": "stream",
     "text": [
      "\n",
      "Epoch 00001: LearningRateScheduler reducing learning rate to 1e-07.\n",
      "372/372 [==============================] - 159s 428ms/step - acc: 0.9041 - loss: 0.4058 - lr: 1.0000e-07\n",
      "Epoch 2/5 Step 124/199\n",
      "Loading Data...\n"
     ],
     "name": "stdout"
    },
    {
     "output_type": "stream",
     "text": [
      "100%|██████████| 11.9k/11.9k [00:02<00:00, 4.77kit/s]\n",
      "0.00it [00:00, ?it/s]\n"
     ],
     "name": "stderr"
    },
    {
     "output_type": "stream",
     "text": [
      "\n",
      "Epoch 00001: LearningRateScheduler reducing learning rate to 1e-07.\n",
      "372/372 [==============================] - 159s 428ms/step - acc: 0.9050 - loss: 0.4054 - lr: 1.0000e-07\n",
      "Epoch 2/5 Step 125/199\n",
      "Loading Data...\n"
     ],
     "name": "stdout"
    },
    {
     "output_type": "stream",
     "text": [
      "100%|██████████| 11.9k/11.9k [00:02<00:00, 4.82kit/s]\n",
      "0.00it [00:00, ?it/s]\n"
     ],
     "name": "stderr"
    },
    {
     "output_type": "stream",
     "text": [
      "\n",
      "Epoch 00001: LearningRateScheduler reducing learning rate to 1e-07.\n",
      "372/372 [==============================] - 159s 428ms/step - acc: 0.9091 - loss: 0.4014 - lr: 1.0000e-07\n",
      "Epoch 2/5 Step 126/199\n",
      "Loading Data...\n"
     ],
     "name": "stdout"
    },
    {
     "output_type": "stream",
     "text": [
      "100%|██████████| 11.9k/11.9k [00:02<00:00, 4.80kit/s]\n",
      "0.00it [00:00, ?it/s]\n"
     ],
     "name": "stderr"
    },
    {
     "output_type": "stream",
     "text": [
      "\n",
      "Epoch 00001: LearningRateScheduler reducing learning rate to 1e-07.\n",
      "372/372 [==============================] - 159s 428ms/step - acc: 0.9080 - loss: 0.4032 - lr: 1.0000e-07\n",
      "Epoch 2/5 Step 127/199\n",
      "Loading Data...\n"
     ],
     "name": "stdout"
    },
    {
     "output_type": "stream",
     "text": [
      "100%|██████████| 11.9k/11.9k [00:02<00:00, 4.90kit/s]\n",
      "0.00it [00:00, ?it/s]\n"
     ],
     "name": "stderr"
    },
    {
     "output_type": "stream",
     "text": [
      "\n",
      "Epoch 00001: LearningRateScheduler reducing learning rate to 1e-07.\n",
      "372/372 [==============================] - 159s 428ms/step - acc: 0.9092 - loss: 0.4020 - lr: 1.0000e-07\n",
      "Epoch 2/5 Step 128/199\n",
      "Loading Data...\n"
     ],
     "name": "stdout"
    },
    {
     "output_type": "stream",
     "text": [
      "100%|██████████| 11.9k/11.9k [00:02<00:00, 4.85kit/s]\n",
      "0.00it [00:00, ?it/s]\n"
     ],
     "name": "stderr"
    },
    {
     "output_type": "stream",
     "text": [
      "\n",
      "Epoch 00001: LearningRateScheduler reducing learning rate to 1e-07.\n",
      "372/372 [==============================] - 159s 428ms/step - acc: 0.9068 - loss: 0.4035 - lr: 1.0000e-07\n",
      "Epoch 2/5 Step 129/199\n",
      "Loading Data...\n"
     ],
     "name": "stdout"
    },
    {
     "output_type": "stream",
     "text": [
      "100%|██████████| 11.9k/11.9k [00:02<00:00, 4.10kit/s]\n",
      "0.00it [00:00, ?it/s]\n"
     ],
     "name": "stderr"
    },
    {
     "output_type": "stream",
     "text": [
      "\n",
      "Epoch 00001: LearningRateScheduler reducing learning rate to 1e-07.\n",
      "372/372 [==============================] - 159s 428ms/step - acc: 0.9003 - loss: 0.4109 - lr: 1.0000e-07\n",
      "Epoch 2/5 Step 130/199\n",
      "Loading Data...\n"
     ],
     "name": "stdout"
    },
    {
     "output_type": "stream",
     "text": [
      "100%|██████████| 11.9k/11.9k [00:02<00:00, 4.72kit/s]\n",
      "0.00it [00:00, ?it/s]\n"
     ],
     "name": "stderr"
    },
    {
     "output_type": "stream",
     "text": [
      "\n",
      "Epoch 00001: LearningRateScheduler reducing learning rate to 1e-07.\n",
      "372/372 [==============================] - 159s 428ms/step - acc: 0.9017 - loss: 0.4079 - lr: 1.0000e-07\n",
      "Run Validation...\n",
      "3125/3125 [==============================] - 410s 131ms/step - acc: 0.8891 - loss: 0.4197\n",
      "Epoch 2/5 Step 131/199\n",
      "Loading Data...\n"
     ],
     "name": "stdout"
    },
    {
     "output_type": "stream",
     "text": [
      "100%|██████████| 11.9k/11.9k [00:02<00:00, 4.80kit/s]\n",
      "0.00it [00:00, ?it/s]\n"
     ],
     "name": "stderr"
    },
    {
     "output_type": "stream",
     "text": [
      "\n",
      "Epoch 00001: LearningRateScheduler reducing learning rate to 1e-07.\n",
      "372/372 [==============================] - 159s 428ms/step - acc: 0.9030 - loss: 0.4067 - lr: 1.0000e-07\n",
      "Epoch 2/5 Step 132/199\n",
      "Loading Data...\n"
     ],
     "name": "stdout"
    },
    {
     "output_type": "stream",
     "text": [
      "100%|██████████| 11.9k/11.9k [00:03<00:00, 3.91kit/s]\n",
      "0.00it [00:00, ?it/s]\n"
     ],
     "name": "stderr"
    },
    {
     "output_type": "stream",
     "text": [
      "\n",
      "Epoch 00001: LearningRateScheduler reducing learning rate to 1e-07.\n",
      "372/372 [==============================] - 159s 428ms/step - acc: 0.9045 - loss: 0.4056 - lr: 1.0000e-07\n",
      "Epoch 2/5 Step 133/199\n",
      "Loading Data...\n"
     ],
     "name": "stdout"
    },
    {
     "output_type": "stream",
     "text": [
      "100%|██████████| 11.9k/11.9k [00:02<00:00, 4.73kit/s]\n",
      "0.00it [00:00, ?it/s]\n"
     ],
     "name": "stderr"
    },
    {
     "output_type": "stream",
     "text": [
      "\n",
      "Epoch 00001: LearningRateScheduler reducing learning rate to 1e-07.\n",
      "372/372 [==============================] - 159s 428ms/step - acc: 0.9104 - loss: 0.4001 - lr: 1.0000e-07\n",
      "Epoch 2/5 Step 134/199\n",
      "Loading Data...\n"
     ],
     "name": "stdout"
    },
    {
     "output_type": "stream",
     "text": [
      "100%|██████████| 11.9k/11.9k [00:02<00:00, 4.25kit/s]\n",
      "0.00it [00:00, ?it/s]\n"
     ],
     "name": "stderr"
    },
    {
     "output_type": "stream",
     "text": [
      "\n",
      "Epoch 00001: LearningRateScheduler reducing learning rate to 1e-07.\n",
      "372/372 [==============================] - 159s 428ms/step - acc: 0.9068 - loss: 0.4027 - lr: 1.0000e-07\n",
      "Epoch 2/5 Step 135/199\n",
      "Loading Data...\n"
     ],
     "name": "stdout"
    },
    {
     "output_type": "stream",
     "text": [
      "100%|██████████| 11.9k/11.9k [00:02<00:00, 4.58kit/s]\n",
      "0.00it [00:00, ?it/s]\n"
     ],
     "name": "stderr"
    },
    {
     "output_type": "stream",
     "text": [
      "\n",
      "Epoch 00001: LearningRateScheduler reducing learning rate to 1e-07.\n",
      "372/372 [==============================] - 159s 428ms/step - acc: 0.9075 - loss: 0.4025 - lr: 1.0000e-07\n",
      "Epoch 2/5 Step 136/199\n",
      "Loading Data...\n"
     ],
     "name": "stdout"
    },
    {
     "output_type": "stream",
     "text": [
      "100%|██████████| 11.9k/11.9k [00:02<00:00, 4.79kit/s]\n",
      "0.00it [00:00, ?it/s]\n"
     ],
     "name": "stderr"
    },
    {
     "output_type": "stream",
     "text": [
      "\n",
      "Epoch 00001: LearningRateScheduler reducing learning rate to 1e-07.\n",
      "372/372 [==============================] - 159s 428ms/step - acc: 0.9061 - loss: 0.4044 - lr: 1.0000e-07\n",
      "Epoch 2/5 Step 137/199\n",
      "Loading Data...\n"
     ],
     "name": "stdout"
    },
    {
     "output_type": "stream",
     "text": [
      "100%|██████████| 11.9k/11.9k [00:02<00:00, 4.72kit/s]\n",
      "0.00it [00:00, ?it/s]\n"
     ],
     "name": "stderr"
    },
    {
     "output_type": "stream",
     "text": [
      "\n",
      "Epoch 00001: LearningRateScheduler reducing learning rate to 1e-07.\n",
      "372/372 [==============================] - 159s 428ms/step - acc: 0.9037 - loss: 0.4060 - lr: 1.0000e-07\n",
      "Epoch 2/5 Step 138/199\n",
      "Loading Data...\n"
     ],
     "name": "stdout"
    },
    {
     "output_type": "stream",
     "text": [
      "100%|██████████| 11.9k/11.9k [00:02<00:00, 4.76kit/s]\n",
      "0.00it [00:00, ?it/s]\n"
     ],
     "name": "stderr"
    },
    {
     "output_type": "stream",
     "text": [
      "\n",
      "Epoch 00001: LearningRateScheduler reducing learning rate to 1e-07.\n",
      "372/372 [==============================] - 159s 428ms/step - acc: 0.9123 - loss: 0.3988 - lr: 1.0000e-07\n",
      "Epoch 2/5 Step 139/199\n",
      "Loading Data...\n"
     ],
     "name": "stdout"
    },
    {
     "output_type": "stream",
     "text": [
      "100%|██████████| 11.9k/11.9k [00:02<00:00, 4.83kit/s]\n",
      "0.00it [00:00, ?it/s]\n"
     ],
     "name": "stderr"
    },
    {
     "output_type": "stream",
     "text": [
      "\n",
      "Epoch 00001: LearningRateScheduler reducing learning rate to 1e-07.\n",
      "372/372 [==============================] - 159s 428ms/step - acc: 0.9087 - loss: 0.4017 - lr: 1.0000e-07\n",
      "Epoch 2/5 Step 140/199\n",
      "Loading Data...\n"
     ],
     "name": "stdout"
    },
    {
     "output_type": "stream",
     "text": [
      "100%|██████████| 11.9k/11.9k [00:02<00:00, 4.85kit/s]\n",
      "0.00it [00:00, ?it/s]\n"
     ],
     "name": "stderr"
    },
    {
     "output_type": "stream",
     "text": [
      "\n",
      "Epoch 00001: LearningRateScheduler reducing learning rate to 1e-07.\n",
      "372/372 [==============================] - 159s 428ms/step - acc: 0.9033 - loss: 0.4070 - lr: 1.0000e-07\n",
      "Run Validation...\n",
      "3125/3125 [==============================] - 410s 131ms/step - acc: 0.8891 - loss: 0.4195\n",
      "Epoch 2/5 Step 141/199\n",
      "Loading Data...\n"
     ],
     "name": "stdout"
    },
    {
     "output_type": "stream",
     "text": [
      "100%|██████████| 11.9k/11.9k [00:02<00:00, 4.64kit/s]\n",
      "0.00it [00:00, ?it/s]\n"
     ],
     "name": "stderr"
    },
    {
     "output_type": "stream",
     "text": [
      "\n",
      "Epoch 00001: LearningRateScheduler reducing learning rate to 1e-07.\n",
      "372/372 [==============================] - 159s 428ms/step - acc: 0.9091 - loss: 0.4016 - lr: 1.0000e-07\n",
      "Epoch 2/5 Step 142/199\n",
      "Loading Data...\n"
     ],
     "name": "stdout"
    },
    {
     "output_type": "stream",
     "text": [
      "100%|██████████| 11.9k/11.9k [00:02<00:00, 4.77kit/s]\n",
      "0.00it [00:00, ?it/s]\n"
     ],
     "name": "stderr"
    },
    {
     "output_type": "stream",
     "text": [
      "\n",
      "Epoch 00001: LearningRateScheduler reducing learning rate to 1e-07.\n",
      "372/372 [==============================] - 159s 428ms/step - acc: 0.9047 - loss: 0.4049 - lr: 1.0000e-07\n",
      "Epoch 2/5 Step 143/199\n",
      "Loading Data...\n"
     ],
     "name": "stdout"
    },
    {
     "output_type": "stream",
     "text": [
      "100%|██████████| 11.9k/11.9k [00:02<00:00, 4.77kit/s]\n",
      "0.00it [00:00, ?it/s]\n"
     ],
     "name": "stderr"
    },
    {
     "output_type": "stream",
     "text": [
      "\n",
      "Epoch 00001: LearningRateScheduler reducing learning rate to 1e-07.\n",
      "372/372 [==============================] - 159s 428ms/step - acc: 0.9084 - loss: 0.4031 - lr: 1.0000e-07\n",
      "Epoch 2/5 Step 144/199\n",
      "Loading Data...\n"
     ],
     "name": "stdout"
    },
    {
     "output_type": "stream",
     "text": [
      "100%|██████████| 11.9k/11.9k [00:02<00:00, 4.79kit/s]\n",
      "0.00it [00:00, ?it/s]\n"
     ],
     "name": "stderr"
    },
    {
     "output_type": "stream",
     "text": [
      "\n",
      "Epoch 00001: LearningRateScheduler reducing learning rate to 1e-07.\n",
      "372/372 [==============================] - 159s 428ms/step - acc: 0.9088 - loss: 0.4022 - lr: 1.0000e-07\n",
      "Epoch 2/5 Step 145/199\n",
      "Loading Data...\n"
     ],
     "name": "stdout"
    },
    {
     "output_type": "stream",
     "text": [
      "100%|██████████| 11.9k/11.9k [00:02<00:00, 4.75kit/s]\n",
      "0.00it [00:00, ?it/s]\n"
     ],
     "name": "stderr"
    },
    {
     "output_type": "stream",
     "text": [
      "\n",
      "Epoch 00001: LearningRateScheduler reducing learning rate to 1e-07.\n",
      "372/372 [==============================] - 159s 428ms/step - acc: 0.9094 - loss: 0.4025 - lr: 1.0000e-07\n",
      "Epoch 2/5 Step 146/199\n",
      "Loading Data...\n"
     ],
     "name": "stdout"
    },
    {
     "output_type": "stream",
     "text": [
      "100%|██████████| 11.9k/11.9k [00:02<00:00, 4.82kit/s]\n",
      "0.00it [00:00, ?it/s]\n"
     ],
     "name": "stderr"
    },
    {
     "output_type": "stream",
     "text": [
      "\n",
      "Epoch 00001: LearningRateScheduler reducing learning rate to 1e-07.\n",
      "372/372 [==============================] - 159s 428ms/step - acc: 0.9072 - loss: 0.4044 - lr: 1.0000e-07\n",
      "Epoch 2/5 Step 147/199\n",
      "Loading Data...\n"
     ],
     "name": "stdout"
    },
    {
     "output_type": "stream",
     "text": [
      "100%|██████████| 11.9k/11.9k [00:02<00:00, 4.33kit/s]\n",
      "0.00it [00:00, ?it/s]\n"
     ],
     "name": "stderr"
    },
    {
     "output_type": "stream",
     "text": [
      "\n",
      "Epoch 00001: LearningRateScheduler reducing learning rate to 1e-07.\n",
      "372/372 [==============================] - 159s 428ms/step - acc: 0.9115 - loss: 0.3994 - lr: 1.0000e-07\n",
      "Epoch 2/5 Step 148/199\n",
      "Loading Data...\n"
     ],
     "name": "stdout"
    },
    {
     "output_type": "stream",
     "text": [
      "100%|██████████| 11.9k/11.9k [00:02<00:00, 4.79kit/s]\n",
      "0.00it [00:00, ?it/s]\n"
     ],
     "name": "stderr"
    },
    {
     "output_type": "stream",
     "text": [
      "\n",
      "Epoch 00001: LearningRateScheduler reducing learning rate to 1e-07.\n",
      "372/372 [==============================] - 159s 428ms/step - acc: 0.9123 - loss: 0.3991 - lr: 1.0000e-07\n",
      "Epoch 2/5 Step 149/199\n",
      "Loading Data...\n"
     ],
     "name": "stdout"
    },
    {
     "output_type": "stream",
     "text": [
      "100%|██████████| 11.9k/11.9k [00:02<00:00, 4.83kit/s]\n",
      "0.00it [00:00, ?it/s]\n"
     ],
     "name": "stderr"
    },
    {
     "output_type": "stream",
     "text": [
      "\n",
      "Epoch 00001: LearningRateScheduler reducing learning rate to 1e-07.\n",
      "372/372 [==============================] - 159s 428ms/step - acc: 0.9094 - loss: 0.4017 - lr: 1.0000e-07\n",
      "Epoch 2/5 Step 150/199\n",
      "Loading Data...\n"
     ],
     "name": "stdout"
    },
    {
     "output_type": "stream",
     "text": [
      "100%|██████████| 11.9k/11.9k [00:02<00:00, 4.74kit/s]\n",
      "0.00it [00:00, ?it/s]\n"
     ],
     "name": "stderr"
    },
    {
     "output_type": "stream",
     "text": [
      "\n",
      "Epoch 00001: LearningRateScheduler reducing learning rate to 1e-07.\n",
      "372/372 [==============================] - 159s 428ms/step - acc: 0.9071 - loss: 0.4027 - lr: 1.0000e-07\n",
      "Run Validation...\n",
      "3125/3125 [==============================] - 411s 131ms/step - acc: 0.8890 - loss: 0.4194\n",
      "Epoch 2/5 Step 151/199\n",
      "Loading Data...\n"
     ],
     "name": "stdout"
    },
    {
     "output_type": "stream",
     "text": [
      "100%|██████████| 11.9k/11.9k [00:02<00:00, 4.57kit/s]\n",
      "0.00it [00:00, ?it/s]\n"
     ],
     "name": "stderr"
    },
    {
     "output_type": "stream",
     "text": [
      "\n",
      "Epoch 00001: LearningRateScheduler reducing learning rate to 1e-07.\n",
      "372/372 [==============================] - 160s 429ms/step - acc: 0.9017 - loss: 0.4075 - lr: 1.0000e-07\n",
      "Epoch 2/5 Step 152/199\n",
      "Loading Data...\n"
     ],
     "name": "stdout"
    },
    {
     "output_type": "stream",
     "text": [
      "100%|██████████| 11.9k/11.9k [00:02<00:00, 4.74kit/s]\n",
      "0.00it [00:00, ?it/s]\n"
     ],
     "name": "stderr"
    },
    {
     "output_type": "stream",
     "text": [
      "\n",
      "Epoch 00001: LearningRateScheduler reducing learning rate to 1e-07.\n",
      "372/372 [==============================] - 159s 429ms/step - acc: 0.9076 - loss: 0.4026 - lr: 1.0000e-07\n",
      "Epoch 2/5 Step 153/199\n",
      "Loading Data...\n"
     ],
     "name": "stdout"
    },
    {
     "output_type": "stream",
     "text": [
      "100%|██████████| 11.9k/11.9k [00:02<00:00, 4.77kit/s]\n",
      "0.00it [00:00, ?it/s]\n"
     ],
     "name": "stderr"
    },
    {
     "output_type": "stream",
     "text": [
      "\n",
      "Epoch 00001: LearningRateScheduler reducing learning rate to 1e-07.\n",
      "372/372 [==============================] - 159s 428ms/step - acc: 0.9096 - loss: 0.4014 - lr: 1.0000e-07\n",
      "Epoch 2/5 Step 154/199\n",
      "Loading Data...\n"
     ],
     "name": "stdout"
    },
    {
     "output_type": "stream",
     "text": [
      "100%|██████████| 11.9k/11.9k [00:02<00:00, 4.76kit/s]\n",
      "0.00it [00:00, ?it/s]\n"
     ],
     "name": "stderr"
    },
    {
     "output_type": "stream",
     "text": [
      "\n",
      "Epoch 00001: LearningRateScheduler reducing learning rate to 1e-07.\n",
      "372/372 [==============================] - 159s 429ms/step - acc: 0.9062 - loss: 0.4048 - lr: 1.0000e-07\n",
      "Epoch 2/5 Step 155/199\n",
      "Loading Data...\n"
     ],
     "name": "stdout"
    },
    {
     "output_type": "stream",
     "text": [
      "100%|██████████| 11.9k/11.9k [00:02<00:00, 4.73kit/s]\n",
      "0.00it [00:00, ?it/s]\n"
     ],
     "name": "stderr"
    },
    {
     "output_type": "stream",
     "text": [
      "\n",
      "Epoch 00001: LearningRateScheduler reducing learning rate to 1e-07.\n",
      "372/372 [==============================] - 159s 428ms/step - acc: 0.9074 - loss: 0.4025 - lr: 1.0000e-07\n",
      "Epoch 2/5 Step 156/199\n",
      "Loading Data...\n"
     ],
     "name": "stdout"
    },
    {
     "output_type": "stream",
     "text": [
      "100%|██████████| 11.9k/11.9k [00:02<00:00, 4.68kit/s]\n",
      "0.00it [00:00, ?it/s]\n"
     ],
     "name": "stderr"
    },
    {
     "output_type": "stream",
     "text": [
      "\n",
      "Epoch 00001: LearningRateScheduler reducing learning rate to 1e-07.\n",
      "372/372 [==============================] - 159s 428ms/step - acc: 0.9073 - loss: 0.4024 - lr: 1.0000e-07\n",
      "Epoch 2/5 Step 157/199\n",
      "Loading Data...\n"
     ],
     "name": "stdout"
    },
    {
     "output_type": "stream",
     "text": [
      "100%|██████████| 11.9k/11.9k [00:02<00:00, 4.54kit/s]\n",
      "0.00it [00:00, ?it/s]\n"
     ],
     "name": "stderr"
    },
    {
     "output_type": "stream",
     "text": [
      "\n",
      "Epoch 00001: LearningRateScheduler reducing learning rate to 1e-07.\n",
      "372/372 [==============================] - 159s 428ms/step - acc: 0.9040 - loss: 0.4070 - lr: 1.0000e-07\n",
      "Epoch 2/5 Step 158/199\n",
      "Loading Data...\n"
     ],
     "name": "stdout"
    },
    {
     "output_type": "stream",
     "text": [
      "100%|██████████| 11.9k/11.9k [00:02<00:00, 4.79kit/s]\n",
      "0.00it [00:00, ?it/s]\n"
     ],
     "name": "stderr"
    },
    {
     "output_type": "stream",
     "text": [
      "\n",
      "Epoch 00001: LearningRateScheduler reducing learning rate to 1e-07.\n",
      "372/372 [==============================] - 159s 428ms/step - acc: 0.9087 - loss: 0.4012 - lr: 1.0000e-07\n",
      "Epoch 2/5 Step 159/199\n",
      "Loading Data...\n"
     ],
     "name": "stdout"
    },
    {
     "output_type": "stream",
     "text": [
      "100%|██████████| 11.9k/11.9k [00:02<00:00, 4.69kit/s]\n",
      "0.00it [00:00, ?it/s]\n"
     ],
     "name": "stderr"
    },
    {
     "output_type": "stream",
     "text": [
      "\n",
      "Epoch 00001: LearningRateScheduler reducing learning rate to 1e-07.\n",
      "290/372 [======================>.......] - ETA: 35s - acc: 0.9098 - loss: 0.4010"
     ],
     "name": "stdout"
    },
    {
     "output_type": "error",
     "ename": "KeyboardInterrupt",
     "evalue": "ignored",
     "traceback": [
      "\u001b[0;31m---------------------------------------------------------------------------\u001b[0m",
      "\u001b[0;31mKeyboardInterrupt\u001b[0m                         Traceback (most recent call last)",
      "\u001b[0;32m<ipython-input-8-d10c9022212b>\u001b[0m in \u001b[0;36m<module>\u001b[0;34m()\u001b[0m\n\u001b[1;32m     40\u001b[0m     train_history = model.fit(dataset_train,\n\u001b[1;32m     41\u001b[0m                     \u001b[0mepochs\u001b[0m\u001b[0;34m=\u001b[0m\u001b[0;36m1\u001b[0m\u001b[0;34m,\u001b[0m\u001b[0;34m\u001b[0m\u001b[0;34m\u001b[0m\u001b[0m\n\u001b[0;32m---> 42\u001b[0;31m                     callbacks=[create_learning_rate(learn_rate=current_learning_rate)])\n\u001b[0m\u001b[1;32m     43\u001b[0m \u001b[0;34m\u001b[0m\u001b[0m\n\u001b[1;32m     44\u001b[0m     \u001b[0mloss\u001b[0m \u001b[0;34m=\u001b[0m \u001b[0mtrain_history\u001b[0m\u001b[0;34m.\u001b[0m\u001b[0mhistory\u001b[0m\u001b[0;34m[\u001b[0m\u001b[0;34m'loss'\u001b[0m\u001b[0;34m]\u001b[0m\u001b[0;34m[\u001b[0m\u001b[0;36m0\u001b[0m\u001b[0;34m]\u001b[0m\u001b[0;34m\u001b[0m\u001b[0;34m\u001b[0m\u001b[0m\n",
      "\u001b[0;32m/usr/local/lib/python3.6/dist-packages/tensorflow/python/keras/engine/training.py\u001b[0m in \u001b[0;36m_method_wrapper\u001b[0;34m(self, *args, **kwargs)\u001b[0m\n\u001b[1;32m     64\u001b[0m   \u001b[0;32mdef\u001b[0m \u001b[0m_method_wrapper\u001b[0m\u001b[0;34m(\u001b[0m\u001b[0mself\u001b[0m\u001b[0;34m,\u001b[0m \u001b[0;34m*\u001b[0m\u001b[0margs\u001b[0m\u001b[0;34m,\u001b[0m \u001b[0;34m**\u001b[0m\u001b[0mkwargs\u001b[0m\u001b[0;34m)\u001b[0m\u001b[0;34m:\u001b[0m\u001b[0;34m\u001b[0m\u001b[0;34m\u001b[0m\u001b[0m\n\u001b[1;32m     65\u001b[0m     \u001b[0;32mif\u001b[0m \u001b[0;32mnot\u001b[0m \u001b[0mself\u001b[0m\u001b[0;34m.\u001b[0m\u001b[0m_in_multi_worker_mode\u001b[0m\u001b[0;34m(\u001b[0m\u001b[0;34m)\u001b[0m\u001b[0;34m:\u001b[0m  \u001b[0;31m# pylint: disable=protected-access\u001b[0m\u001b[0;34m\u001b[0m\u001b[0;34m\u001b[0m\u001b[0m\n\u001b[0;32m---> 66\u001b[0;31m       \u001b[0;32mreturn\u001b[0m \u001b[0mmethod\u001b[0m\u001b[0;34m(\u001b[0m\u001b[0mself\u001b[0m\u001b[0;34m,\u001b[0m \u001b[0;34m*\u001b[0m\u001b[0margs\u001b[0m\u001b[0;34m,\u001b[0m \u001b[0;34m**\u001b[0m\u001b[0mkwargs\u001b[0m\u001b[0;34m)\u001b[0m\u001b[0;34m\u001b[0m\u001b[0;34m\u001b[0m\u001b[0m\n\u001b[0m\u001b[1;32m     67\u001b[0m \u001b[0;34m\u001b[0m\u001b[0m\n\u001b[1;32m     68\u001b[0m     \u001b[0;31m# Running inside `run_distribute_coordinator` already.\u001b[0m\u001b[0;34m\u001b[0m\u001b[0;34m\u001b[0m\u001b[0;34m\u001b[0m\u001b[0m\n",
      "\u001b[0;32m/usr/local/lib/python3.6/dist-packages/tensorflow/python/keras/engine/training.py\u001b[0m in \u001b[0;36mfit\u001b[0;34m(self, x, y, batch_size, epochs, verbose, callbacks, validation_split, validation_data, shuffle, class_weight, sample_weight, initial_epoch, steps_per_epoch, validation_steps, validation_batch_size, validation_freq, max_queue_size, workers, use_multiprocessing)\u001b[0m\n\u001b[1;32m    853\u001b[0m                 \u001b[0mcontext\u001b[0m\u001b[0;34m.\u001b[0m\u001b[0masync_wait\u001b[0m\u001b[0;34m(\u001b[0m\u001b[0;34m)\u001b[0m\u001b[0;34m\u001b[0m\u001b[0;34m\u001b[0m\u001b[0m\n\u001b[1;32m    854\u001b[0m               \u001b[0mlogs\u001b[0m \u001b[0;34m=\u001b[0m \u001b[0mtmp_logs\u001b[0m  \u001b[0;31m# No error, now safe to assign to logs.\u001b[0m\u001b[0;34m\u001b[0m\u001b[0;34m\u001b[0m\u001b[0m\n\u001b[0;32m--> 855\u001b[0;31m               \u001b[0mcallbacks\u001b[0m\u001b[0;34m.\u001b[0m\u001b[0mon_train_batch_end\u001b[0m\u001b[0;34m(\u001b[0m\u001b[0mstep\u001b[0m\u001b[0;34m,\u001b[0m \u001b[0mlogs\u001b[0m\u001b[0;34m)\u001b[0m\u001b[0;34m\u001b[0m\u001b[0;34m\u001b[0m\u001b[0m\n\u001b[0m\u001b[1;32m    856\u001b[0m         \u001b[0mepoch_logs\u001b[0m \u001b[0;34m=\u001b[0m \u001b[0mcopy\u001b[0m\u001b[0;34m.\u001b[0m\u001b[0mcopy\u001b[0m\u001b[0;34m(\u001b[0m\u001b[0mlogs\u001b[0m\u001b[0;34m)\u001b[0m\u001b[0;34m\u001b[0m\u001b[0;34m\u001b[0m\u001b[0m\n\u001b[1;32m    857\u001b[0m \u001b[0;34m\u001b[0m\u001b[0m\n",
      "\u001b[0;32m/usr/local/lib/python3.6/dist-packages/tensorflow/python/keras/callbacks.py\u001b[0m in \u001b[0;36mon_train_batch_end\u001b[0;34m(self, batch, logs)\u001b[0m\n\u001b[1;32m    387\u001b[0m     \"\"\"\n\u001b[1;32m    388\u001b[0m     \u001b[0;32mif\u001b[0m \u001b[0mself\u001b[0m\u001b[0;34m.\u001b[0m\u001b[0m_should_call_train_batch_hooks\u001b[0m\u001b[0;34m:\u001b[0m\u001b[0;34m\u001b[0m\u001b[0;34m\u001b[0m\u001b[0m\n\u001b[0;32m--> 389\u001b[0;31m       \u001b[0mlogs\u001b[0m \u001b[0;34m=\u001b[0m \u001b[0mself\u001b[0m\u001b[0;34m.\u001b[0m\u001b[0m_process_logs\u001b[0m\u001b[0;34m(\u001b[0m\u001b[0mlogs\u001b[0m\u001b[0;34m)\u001b[0m\u001b[0;34m\u001b[0m\u001b[0;34m\u001b[0m\u001b[0m\n\u001b[0m\u001b[1;32m    390\u001b[0m       \u001b[0mself\u001b[0m\u001b[0;34m.\u001b[0m\u001b[0m_call_batch_hook\u001b[0m\u001b[0;34m(\u001b[0m\u001b[0mModeKeys\u001b[0m\u001b[0;34m.\u001b[0m\u001b[0mTRAIN\u001b[0m\u001b[0;34m,\u001b[0m \u001b[0;34m'end'\u001b[0m\u001b[0;34m,\u001b[0m \u001b[0mbatch\u001b[0m\u001b[0;34m,\u001b[0m \u001b[0mlogs\u001b[0m\u001b[0;34m=\u001b[0m\u001b[0mlogs\u001b[0m\u001b[0;34m)\u001b[0m\u001b[0;34m\u001b[0m\u001b[0;34m\u001b[0m\u001b[0m\n\u001b[1;32m    391\u001b[0m \u001b[0;34m\u001b[0m\u001b[0m\n",
      "\u001b[0;32m/usr/local/lib/python3.6/dist-packages/tensorflow/python/keras/callbacks.py\u001b[0m in \u001b[0;36m_process_logs\u001b[0;34m(self, logs)\u001b[0m\n\u001b[1;32m    263\u001b[0m     \u001b[0;34m\"\"\"Turns tensors into numpy arrays or Python scalars.\"\"\"\u001b[0m\u001b[0;34m\u001b[0m\u001b[0;34m\u001b[0m\u001b[0m\n\u001b[1;32m    264\u001b[0m     \u001b[0;32mif\u001b[0m \u001b[0mlogs\u001b[0m\u001b[0;34m:\u001b[0m\u001b[0;34m\u001b[0m\u001b[0;34m\u001b[0m\u001b[0m\n\u001b[0;32m--> 265\u001b[0;31m       \u001b[0;32mreturn\u001b[0m \u001b[0mtf_utils\u001b[0m\u001b[0;34m.\u001b[0m\u001b[0mto_numpy_or_python_type\u001b[0m\u001b[0;34m(\u001b[0m\u001b[0mlogs\u001b[0m\u001b[0;34m)\u001b[0m\u001b[0;34m\u001b[0m\u001b[0;34m\u001b[0m\u001b[0m\n\u001b[0m\u001b[1;32m    266\u001b[0m     \u001b[0;32mreturn\u001b[0m \u001b[0;34m{\u001b[0m\u001b[0;34m}\u001b[0m\u001b[0;34m\u001b[0m\u001b[0;34m\u001b[0m\u001b[0m\n\u001b[1;32m    267\u001b[0m \u001b[0;34m\u001b[0m\u001b[0m\n",
      "\u001b[0;32m/usr/local/lib/python3.6/dist-packages/tensorflow/python/keras/utils/tf_utils.py\u001b[0m in \u001b[0;36mto_numpy_or_python_type\u001b[0;34m(tensors)\u001b[0m\n\u001b[1;32m    521\u001b[0m     \u001b[0;32mreturn\u001b[0m \u001b[0mt\u001b[0m  \u001b[0;31m# Don't turn ragged or sparse tensors to NumPy.\u001b[0m\u001b[0;34m\u001b[0m\u001b[0;34m\u001b[0m\u001b[0m\n\u001b[1;32m    522\u001b[0m \u001b[0;34m\u001b[0m\u001b[0m\n\u001b[0;32m--> 523\u001b[0;31m   \u001b[0;32mreturn\u001b[0m \u001b[0mnest\u001b[0m\u001b[0;34m.\u001b[0m\u001b[0mmap_structure\u001b[0m\u001b[0;34m(\u001b[0m\u001b[0m_to_single_numpy_or_python_type\u001b[0m\u001b[0;34m,\u001b[0m \u001b[0mtensors\u001b[0m\u001b[0;34m)\u001b[0m\u001b[0;34m\u001b[0m\u001b[0;34m\u001b[0m\u001b[0m\n\u001b[0m\u001b[1;32m    524\u001b[0m \u001b[0;34m\u001b[0m\u001b[0m\n",
      "\u001b[0;32m/usr/local/lib/python3.6/dist-packages/tensorflow/python/util/nest.py\u001b[0m in \u001b[0;36mmap_structure\u001b[0;34m(func, *structure, **kwargs)\u001b[0m\n\u001b[1;32m    615\u001b[0m \u001b[0;34m\u001b[0m\u001b[0m\n\u001b[1;32m    616\u001b[0m   return pack_sequence_as(\n\u001b[0;32m--> 617\u001b[0;31m       \u001b[0mstructure\u001b[0m\u001b[0;34m[\u001b[0m\u001b[0;36m0\u001b[0m\u001b[0;34m]\u001b[0m\u001b[0;34m,\u001b[0m \u001b[0;34m[\u001b[0m\u001b[0mfunc\u001b[0m\u001b[0;34m(\u001b[0m\u001b[0;34m*\u001b[0m\u001b[0mx\u001b[0m\u001b[0;34m)\u001b[0m \u001b[0;32mfor\u001b[0m \u001b[0mx\u001b[0m \u001b[0;32min\u001b[0m \u001b[0mentries\u001b[0m\u001b[0;34m]\u001b[0m\u001b[0;34m,\u001b[0m\u001b[0;34m\u001b[0m\u001b[0;34m\u001b[0m\u001b[0m\n\u001b[0m\u001b[1;32m    618\u001b[0m       expand_composites=expand_composites)\n\u001b[1;32m    619\u001b[0m \u001b[0;34m\u001b[0m\u001b[0m\n",
      "\u001b[0;32m/usr/local/lib/python3.6/dist-packages/tensorflow/python/util/nest.py\u001b[0m in \u001b[0;36m<listcomp>\u001b[0;34m(.0)\u001b[0m\n\u001b[1;32m    615\u001b[0m \u001b[0;34m\u001b[0m\u001b[0m\n\u001b[1;32m    616\u001b[0m   return pack_sequence_as(\n\u001b[0;32m--> 617\u001b[0;31m       \u001b[0mstructure\u001b[0m\u001b[0;34m[\u001b[0m\u001b[0;36m0\u001b[0m\u001b[0;34m]\u001b[0m\u001b[0;34m,\u001b[0m \u001b[0;34m[\u001b[0m\u001b[0mfunc\u001b[0m\u001b[0;34m(\u001b[0m\u001b[0;34m*\u001b[0m\u001b[0mx\u001b[0m\u001b[0;34m)\u001b[0m \u001b[0;32mfor\u001b[0m \u001b[0mx\u001b[0m \u001b[0;32min\u001b[0m \u001b[0mentries\u001b[0m\u001b[0;34m]\u001b[0m\u001b[0;34m,\u001b[0m\u001b[0;34m\u001b[0m\u001b[0;34m\u001b[0m\u001b[0m\n\u001b[0m\u001b[1;32m    618\u001b[0m       expand_composites=expand_composites)\n\u001b[1;32m    619\u001b[0m \u001b[0;34m\u001b[0m\u001b[0m\n",
      "\u001b[0;32m/usr/local/lib/python3.6/dist-packages/tensorflow/python/keras/utils/tf_utils.py\u001b[0m in \u001b[0;36m_to_single_numpy_or_python_type\u001b[0;34m(t)\u001b[0m\n\u001b[1;32m    517\u001b[0m   \u001b[0;32mdef\u001b[0m \u001b[0m_to_single_numpy_or_python_type\u001b[0m\u001b[0;34m(\u001b[0m\u001b[0mt\u001b[0m\u001b[0;34m)\u001b[0m\u001b[0;34m:\u001b[0m\u001b[0;34m\u001b[0m\u001b[0;34m\u001b[0m\u001b[0m\n\u001b[1;32m    518\u001b[0m     \u001b[0;32mif\u001b[0m \u001b[0misinstance\u001b[0m\u001b[0;34m(\u001b[0m\u001b[0mt\u001b[0m\u001b[0;34m,\u001b[0m \u001b[0mops\u001b[0m\u001b[0;34m.\u001b[0m\u001b[0mTensor\u001b[0m\u001b[0;34m)\u001b[0m\u001b[0;34m:\u001b[0m\u001b[0;34m\u001b[0m\u001b[0;34m\u001b[0m\u001b[0m\n\u001b[0;32m--> 519\u001b[0;31m       \u001b[0mx\u001b[0m \u001b[0;34m=\u001b[0m \u001b[0mt\u001b[0m\u001b[0;34m.\u001b[0m\u001b[0mnumpy\u001b[0m\u001b[0;34m(\u001b[0m\u001b[0;34m)\u001b[0m\u001b[0;34m\u001b[0m\u001b[0;34m\u001b[0m\u001b[0m\n\u001b[0m\u001b[1;32m    520\u001b[0m       \u001b[0;32mreturn\u001b[0m \u001b[0mx\u001b[0m\u001b[0;34m.\u001b[0m\u001b[0mitem\u001b[0m\u001b[0;34m(\u001b[0m\u001b[0;34m)\u001b[0m \u001b[0;32mif\u001b[0m \u001b[0mnp\u001b[0m\u001b[0;34m.\u001b[0m\u001b[0mndim\u001b[0m\u001b[0;34m(\u001b[0m\u001b[0mx\u001b[0m\u001b[0;34m)\u001b[0m \u001b[0;34m==\u001b[0m \u001b[0;36m0\u001b[0m \u001b[0;32melse\u001b[0m \u001b[0mx\u001b[0m\u001b[0;34m\u001b[0m\u001b[0;34m\u001b[0m\u001b[0m\n\u001b[1;32m    521\u001b[0m     \u001b[0;32mreturn\u001b[0m \u001b[0mt\u001b[0m  \u001b[0;31m# Don't turn ragged or sparse tensors to NumPy.\u001b[0m\u001b[0;34m\u001b[0m\u001b[0;34m\u001b[0m\u001b[0m\n",
      "\u001b[0;32m/usr/local/lib/python3.6/dist-packages/tensorflow/python/framework/ops.py\u001b[0m in \u001b[0;36mnumpy\u001b[0;34m(self)\u001b[0m\n\u001b[1;32m    959\u001b[0m     \"\"\"\n\u001b[1;32m    960\u001b[0m     \u001b[0;31m# TODO(slebedev): Consider avoiding a copy for non-CPU or remote tensors.\u001b[0m\u001b[0;34m\u001b[0m\u001b[0;34m\u001b[0m\u001b[0;34m\u001b[0m\u001b[0m\n\u001b[0;32m--> 961\u001b[0;31m     \u001b[0mmaybe_arr\u001b[0m \u001b[0;34m=\u001b[0m \u001b[0mself\u001b[0m\u001b[0;34m.\u001b[0m\u001b[0m_numpy\u001b[0m\u001b[0;34m(\u001b[0m\u001b[0;34m)\u001b[0m  \u001b[0;31m# pylint: disable=protected-access\u001b[0m\u001b[0;34m\u001b[0m\u001b[0;34m\u001b[0m\u001b[0m\n\u001b[0m\u001b[1;32m    962\u001b[0m     \u001b[0;32mreturn\u001b[0m \u001b[0mmaybe_arr\u001b[0m\u001b[0;34m.\u001b[0m\u001b[0mcopy\u001b[0m\u001b[0;34m(\u001b[0m\u001b[0;34m)\u001b[0m \u001b[0;32mif\u001b[0m \u001b[0misinstance\u001b[0m\u001b[0;34m(\u001b[0m\u001b[0mmaybe_arr\u001b[0m\u001b[0;34m,\u001b[0m \u001b[0mnp\u001b[0m\u001b[0;34m.\u001b[0m\u001b[0mndarray\u001b[0m\u001b[0;34m)\u001b[0m \u001b[0;32melse\u001b[0m \u001b[0mmaybe_arr\u001b[0m\u001b[0;34m\u001b[0m\u001b[0;34m\u001b[0m\u001b[0m\n\u001b[1;32m    963\u001b[0m \u001b[0;34m\u001b[0m\u001b[0m\n",
      "\u001b[0;32m/usr/local/lib/python3.6/dist-packages/tensorflow/python/framework/ops.py\u001b[0m in \u001b[0;36m_numpy\u001b[0;34m(self)\u001b[0m\n\u001b[1;32m    925\u001b[0m     \u001b[0;31m# pylint: disable=protected-access\u001b[0m\u001b[0;34m\u001b[0m\u001b[0;34m\u001b[0m\u001b[0;34m\u001b[0m\u001b[0m\n\u001b[1;32m    926\u001b[0m     \u001b[0;32mtry\u001b[0m\u001b[0;34m:\u001b[0m\u001b[0;34m\u001b[0m\u001b[0;34m\u001b[0m\u001b[0m\n\u001b[0;32m--> 927\u001b[0;31m       \u001b[0;32mreturn\u001b[0m \u001b[0mself\u001b[0m\u001b[0;34m.\u001b[0m\u001b[0m_numpy_internal\u001b[0m\u001b[0;34m(\u001b[0m\u001b[0;34m)\u001b[0m\u001b[0;34m\u001b[0m\u001b[0;34m\u001b[0m\u001b[0m\n\u001b[0m\u001b[1;32m    928\u001b[0m     \u001b[0;32mexcept\u001b[0m \u001b[0mcore\u001b[0m\u001b[0;34m.\u001b[0m\u001b[0m_NotOkStatusException\u001b[0m \u001b[0;32mas\u001b[0m \u001b[0me\u001b[0m\u001b[0;34m:\u001b[0m\u001b[0;34m\u001b[0m\u001b[0;34m\u001b[0m\u001b[0m\n\u001b[1;32m    929\u001b[0m       \u001b[0msix\u001b[0m\u001b[0;34m.\u001b[0m\u001b[0mraise_from\u001b[0m\u001b[0;34m(\u001b[0m\u001b[0mcore\u001b[0m\u001b[0;34m.\u001b[0m\u001b[0m_status_to_exception\u001b[0m\u001b[0;34m(\u001b[0m\u001b[0me\u001b[0m\u001b[0;34m.\u001b[0m\u001b[0mcode\u001b[0m\u001b[0;34m,\u001b[0m \u001b[0me\u001b[0m\u001b[0;34m.\u001b[0m\u001b[0mmessage\u001b[0m\u001b[0;34m)\u001b[0m\u001b[0;34m,\u001b[0m \u001b[0;32mNone\u001b[0m\u001b[0;34m)\u001b[0m\u001b[0;34m\u001b[0m\u001b[0;34m\u001b[0m\u001b[0m\n",
      "\u001b[0;31mKeyboardInterrupt\u001b[0m: "
     ]
    }
   ]
  },
  {
   "cell_type": "markdown",
   "metadata": {
    "id": "L24eTyrfeyJM",
    "colab_type": "text"
   },
   "source": [
    "## Generate Plots"
   ]
  },
  {
   "cell_type": "code",
   "metadata": {
    "id": "Nmq0A3GXdm-4",
    "colab_type": "code",
    "colab": {
     "base_uri": "https://localhost:8080/",
     "height": 1000
    },
    "outputId": "94b17cf3-8020-4a11-e456-b716b3d778bb"
   },
   "source": [
    "save_label = 'comparison_albert'\n",
    "\n",
    "# Code to generate Plots from File\n",
    "import matplotlib.pyplot as plt\n",
    "\n",
    "file_paths = os.listdir('./results/results_final/')\n",
    "file_paths_train = None\n",
    "file_paths_validation = None\n",
    "# colors = ['b', 'g', 'r', 'c', 'm', 'y', 'k', 'b', 'g', 'r', 'c', 'm', 'y', 'k', 'b', 'g', 'r', 'c', 'm', 'y', 'k']\n",
    "\n",
    "if save_label == 'albert_bert':\n",
    "  file_paths_train = [file_name for file_name in file_paths if 'train' in file_name and 'final' in file_name and ('bert' in file_name or 'albert' in file_name) and not 'monoise' in file_name and not 'additional' in file_name]\n",
    "  file_paths_validation = [file_name for file_name in file_paths if 'validation' in file_name and 'final' in file_name and ('bert' in file_name or 'albert' in file_name) and not 'monoise' in file_name and not 'additional' in file_name]\n",
    "elif save_label == 'comparison_full':\n",
    "  file_paths_train = [file_name for file_name in file_paths if 'train' in file_name and 'final' in file_name and ('bert_base' in file_name or 'albert_xxlarge' in file_name) and not 'albert_base' in file_name]\n",
    "  file_paths_validation = [file_name for file_name in file_paths if 'validation' in file_name and 'final' in file_name and ('bert_base' in file_name or 'albert_xxlarge' in file_name) and not 'albert_base' in file_name]\n",
    "elif save_label == 'comparison_bert':\n",
    "  file_paths_train = [file_name for file_name in file_paths if 'train' in file_name and 'final' in file_name and ('bert_base' in file_name) and not 'albert_base' in file_name]\n",
    "  file_paths_validation = [file_name for file_name in file_paths if 'validation' in file_name and 'final' in file_name and ('bert_base' in file_name) and not 'albert_base' in file_name]\n",
    "elif save_label == 'comparison_albert':\n",
    "  file_paths_train = [file_name for file_name in file_paths if 'train' in file_name and 'final' in file_name and ('albert_xxlarge' in file_name)]\n",
    "  file_paths_validation = [file_name for file_name in file_paths if 'validation' in file_name and 'final' in file_name and ('albert_xxlarge' in file_name)]\n",
    "else:\n",
    "  raise NotImplementedError\n",
    "\n",
    "# Train Loss Accuracy Load Data\n",
    "train_losses = []\n",
    "train_accuracies = []\n",
    "train_steps = []\n",
    "\n",
    "label_names = []\n",
    "\n",
    "file_paths_train.sort()\n",
    "file_paths_validation.sort()\n",
    "\n",
    "print(file_paths_train)\n",
    "print(file_paths_validation)\n",
    "\n",
    "for file_index in range(min(len(file_paths_train), len(colors))):\n",
    "  current_step = 0\n",
    "  train_loss = []\n",
    "  train_accuracy = []\n",
    "  train_step = []\n",
    "  file_name = file_paths_train[file_index]\n",
    "  label_name = file_name.replace('_train_final.txt', '')\n",
    "  f = open('./results/results_final/{}'.format(file_name))\n",
    "  lines = f.readlines()\n",
    "  for line in lines:\n",
    "    step, current_loss, current_accuracy = line.split(' ')\n",
    "    train_loss.append(float(current_loss))\n",
    "    train_accuracy.append(float(current_accuracy))\n",
    "    train_step.append(current_step)\n",
    "    current_step += 1\n",
    "  train_losses.append(train_loss)\n",
    "  train_accuracies.append(train_accuracy)\n",
    "  train_steps.append(train_step)\n",
    "  label_names.append(label_name)\n",
    "  \n",
    "# Train Loss Plot Data\n",
    "for idx, train_loss in enumerate(train_losses):\n",
    "  plt.plot(train_steps[idx], train_loss, label=label_names[idx])\n",
    "\n",
    "plt.xlabel('Steps')\n",
    "plt.ylabel('Training Loss')\n",
    "plt.legend()\n",
    "plt.savefig('{}_training_loss.pdf'.format(save_label))\n",
    "plt.show()\n",
    "\n",
    "# Train Accuracy Plot Data\n",
    "for idx, train_accuracy in enumerate(train_accuracies):\n",
    "  plt.plot(train_steps[idx], train_accuracy, label=label_names[idx])\n",
    "\n",
    "plt.xlabel('Steps')\n",
    "plt.ylabel('Training Accuracy')\n",
    "plt.legend()\n",
    "plt.savefig('{}_training_accuracy.pdf'.format(save_label))\n",
    "plt.show()\n",
    "\n",
    "# Train Loss Accuracy Load Data\n",
    "val_losses = []\n",
    "val_accuracies = []\n",
    "val_steps = []\n",
    "label_names = []\n",
    "for file_index in range(min(len(file_paths_validation), len(colors))):\n",
    "  current_step = 0\n",
    "  val_loss = []\n",
    "  val_accuracy = []\n",
    "  val_step = []\n",
    "  file_name = file_paths_validation[file_index]\n",
    "  label_name = file_name.replace('_validation_final.txt', '')\n",
    "  f = open('./results/results_final/{}'.format(file_name))\n",
    "  lines = f.readlines()\n",
    "  for line in lines:\n",
    "    step, current_loss, current_accuracy = line.split(' ')\n",
    "    val_loss.append(float(current_loss))\n",
    "    val_accuracy.append(float(current_accuracy))\n",
    "    val_step.append(current_step)\n",
    "    current_step += 10\n",
    "  val_losses.append(val_loss)\n",
    "  val_accuracies.append(val_accuracy)\n",
    "  val_steps.append(val_step)\n",
    "  label_names.append(label_name)\n",
    "  \n",
    "# Validation Loss Plot Data\n",
    "for idx, val_loss in enumerate(val_losses):\n",
    "  plt.plot(val_steps[idx], val_loss, label=label_names[idx])\n",
    "  # plt.plot(val_loss, colors[idx], label=label_names[idx])\n",
    "\n",
    "plt.xlabel('Steps')\n",
    "plt.ylabel('Validation Loss')\n",
    "plt.legend()\n",
    "plt.savefig('{}_validation_loss.pdf'.format(save_label))\n",
    "plt.show()\n",
    "\n",
    "# Validation Accuracy Plot Data\n",
    "for idx, val_accuracy in enumerate(val_accuracies):\n",
    "  plt.plot(val_steps[idx], val_accuracy, label=label_names[idx])\n",
    "\n",
    "plt.xlabel('Steps')\n",
    "plt.ylabel('Validation Accuracy')\n",
    "plt.legend()\n",
    "plt.savefig('{}_validation_accuracy.pdf'.format(save_label))\n",
    "plt.show()"
   ],
   "execution_count": 22,
   "outputs": [
    {
     "output_type": "stream",
     "text": [
      "['albert_xxlarge_additional_monoise_train_final.txt', 'albert_xxlarge_additional_train_final.txt', 'albert_xxlarge_monoise_b_train_final.txt', 'albert_xxlarge_monoise_train_final.txt', 'albert_xxlarge_train_final.txt']\n",
      "['albert_xxlarge_additional_monoise_validation_final.txt', 'albert_xxlarge_additional_validation_final.txt', 'albert_xxlarge_monoise_b_validation_final.txt', 'albert_xxlarge_monoise_validation_final.txt', 'albert_xxlarge_validation_final.txt']\n"
     ],
     "name": "stdout"
    },
    {
     "output_type": "display_data",
     "data": {
      "image/png": "[encoded data removed]",
      "text/plain": [
       "<Figure size 432x288 with 1 Axes>"
      ]
     },
     "metadata": {
      "tags": [],
      "needs_background": "light"
     }
    },
    {
     "output_type": "display_data",
     "data": {
      "image/png": "[encoded data removed]",
      "text/plain": [
       "<Figure size 432x288 with 1 Axes>"
      ]
     },
     "metadata": {
      "tags": [],
      "needs_background": "light"
     }
    },
    {
     "output_type": "display_data",
     "data": {
      "image/png": "[encoded data removed]",
      "text/plain": [
       "<Figure size 432x288 with 1 Axes>"
      ]
     },
     "metadata": {
      "tags": [],
      "needs_background": "light"
     }
    },
    {
     "output_type": "display_data",
     "data": {
      "image/png": "[encoded data removed]",
      "text/plain": [
       "<Figure size 432x288 with 1 Axes>"
      ]
     },
     "metadata": {
      "tags": [],
      "needs_background": "light"
     }
    }
   ]
  },
  {
   "cell_type": "markdown",
   "metadata": {
    "id": "hXCGf-SMa-C5",
    "colab_type": "text"
   },
   "source": [
    "# Check How Many Duplicated Sentences we have"
   ]
  },
  {
   "cell_type": "code",
   "metadata": {
    "id": "wXimXVYua8u7",
    "colab_type": "code",
    "colab": {
     "base_uri": "https://localhost:8080/",
     "height": 85
    },
    "outputId": "0edc0534-7263-49d7-9bfd-8ef3f4384cbe"
   },
   "source": [
    "positive_data = []\n",
    "with open(DATASET_FILE_TRAIN_POS, \"r\") as f:\n",
    "  for x in f:\n",
    "    positive_data.append(x)\n",
    "\n",
    "negative_data = []\n",
    "with open(DATASET_FILE_TRAIN_NEG, \"r\") as f:\n",
    "  for x in f:\n",
    "    negative_data.append(x)\n",
    "\n",
    "print(len(positive_data))\n",
    "positive_data = list(dict.fromkeys(positive_data))\n",
    "print(len(positive_data))\n",
    "\n",
    "print(len(negative_data))\n",
    "negative_data = list(dict.fromkeys(negative_data))\n",
    "print(len(negative_data))"
   ],
   "execution_count": null,
   "outputs": [
    {
     "output_type": "stream",
     "text": [
      "1250000\n",
      "1123057\n",
      "1250000\n",
      "1139213\n"
     ],
     "name": "stdout"
    }
   ]
  },
  {
   "cell_type": "markdown",
   "metadata": {
    "id": "AUCypRRM4RjF",
    "colab_type": "text"
   },
   "source": [
    "## Preprocess test-set"
   ]
  },
  {
   "cell_type": "code",
   "metadata": {
    "id": "cWS4vv1VE87w",
    "colab_type": "code",
    "colab": {}
   },
   "source": [
    "test_data = []\n",
    "with open(DATASET_FILE_TEST, \"r\") as f:\n",
    "  for x in f:\n",
    "    test_data.append(x)\n",
    "\n",
    "encoded_test_data = []\n",
    "for x in test_data:\n",
    "  result, _ = pre_process_positive(tf.convert_to_tensor(x), 128)\n",
    "  encoded_test_data.append(tf.reshape(tf.convert_to_tensor(result), (1,128)))\n",
    "encoded_test_ds = tf.data.Dataset.from_tensor_slices(encoded_test_data)"
   ],
   "execution_count": null,
   "outputs": []
  },
  {
   "cell_type": "markdown",
   "metadata": {
    "id": "J4k1CZtJ4pS8",
    "colab_type": "text"
   },
   "source": [
    "## Predict test set"
   ]
  },
  {
   "cell_type": "code",
   "metadata": {
    "id": "oauQeQCvJ2Qq",
    "colab_type": "code",
    "colab": {}
   },
   "source": [
    "# use_checkpoint = 'albert_xxlarge_additional_monoise.h5'\n",
    "# model.load_weights(use_checkpoint)\n",
    "\n",
    "results = model.predict(encoded_test_ds)\n",
    "labels = np.argmax(results, axis=1)"
   ],
   "execution_count": null,
   "outputs": []
  },
  {
   "cell_type": "markdown",
   "metadata": {
    "id": "FE2UiBBn4x2X",
    "colab_type": "text"
   },
   "source": [
    "## Postprocessing"
   ]
  },
  {
   "cell_type": "code",
   "metadata": {
    "id": "LdNIjYFDKBU9",
    "colab_type": "code",
    "colab": {}
   },
   "source": [
    "labels = [1 if x == 1 else -1 for x in labels]\n",
    "\n",
    "#reverse labels\n",
    "# labels = [-1 if x == 1 else 1 for x in labels]\n",
    "#un-reverse labels\n",
    "# labels = [1 if x == -1 else -1 for x in labels]"
   ],
   "execution_count": null,
   "outputs": []
  },
  {
   "cell_type": "code",
   "metadata": {
    "id": "9vKSwMczRZCp",
    "colab_type": "code",
    "colab": {}
   },
   "source": [
    "df = pd.DataFrame({'Id': np.arange(1,10001),\n",
    "                  'Prediction': labels\n",
    "                   })\n",
    "df.to_csv(MODEL+identifier+'.csv', index=False)"
   ],
   "execution_count": null,
   "outputs": []
  },
  {
   "cell_type": "code",
   "metadata": {
    "id": "AqjuxhXMPkv7",
    "colab_type": "code",
    "colab": {}
   },
   "source": [
    ""
   ],
   "execution_count": null,
   "outputs": []
  }
 ],
 "metadata": {
  "colab": {
   "name": "CIL-Notebook.ipynb",
   "provenance": [],
   "collapsed_sections": [],
   "toc_visible": true,
   "machine_shape": "hm"
  },
  "kernelspec": {
   "name": "python3",
   "display_name": "Python 3"
  },
  "accelerator": "TPU",
  "pycharm": {
   "stem_cell": {
    "cell_type": "raw",
    "source": [],
    "metadata": {
     "collapsed": false
    }
   }
  }
 },
 "nbformat": 4,
 "nbformat_minor": 0
}