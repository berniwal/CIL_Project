{
  "nbformat": 4,
  "nbformat_minor": 0,
  "metadata": {
    "colab": {
      "name": "CIL-Notebook.ipynb",
      "provenance": [],
      "collapsed_sections": [],
      "toc_visible": true
    },
    "kernelspec": {
      "name": "python3",
      "display_name": "Python 3"
    },
    "accelerator": "TPU"
  },
  "cells": [
    {
      "cell_type": "markdown",
      "metadata": {
        "id": "view-in-github",
        "colab_type": "text"
      },
      "source": [
        "<a href=\"https://colab.research.google.com/github/berniwal/CIL_Project/blob/master/CIL-Notebook.ipynb\" target=\"_parent\"><img src=\"https://colab.research.google.com/assets/colab-badge.svg\" alt=\"Open In Colab\"/></a>"
      ]
    },
    {
      "cell_type": "markdown",
      "metadata": {
        "id": "e3SIsoqF2sKj",
        "colab_type": "text"
      },
      "source": [
        "## Go to correct directory"
      ]
    },
    {
      "cell_type": "code",
      "metadata": {
        "id": "3IzoDHLY-ykE",
        "colab_type": "code",
        "colab": {
          "base_uri": "https://localhost:8080/",
          "height": 145
        },
        "outputId": "78d858ee-425d-42d0-cee7-dc107f9c86f4"
      },
      "source": [
        "from google.colab import drive\n",
        "drive.mount('/content/drive')\n",
        "\n",
        "import os\n",
        "os.getcwd()\n",
        "os.chdir('/content/drive/My Drive/CIL')\n",
        "os.getcwd()"
      ],
      "execution_count": 1,
      "outputs": [
        {
          "output_type": "stream",
          "text": [
            "Go to this URL in a browser: https://accounts.google.com/o/oauth2/auth?client_id=947318989803-6bn6qk8qdgf4n4g3pfee6491hc0brc4i.apps.googleusercontent.com&redirect_uri=urn%3aietf%3awg%3aoauth%3a2.0%3aoob&response_type=code&scope=email%20https%3a%2f%2fwww.googleapis.com%2fauth%2fdocs.test%20https%3a%2f%2fwww.googleapis.com%2fauth%2fdrive%20https%3a%2f%2fwww.googleapis.com%2fauth%2fdrive.photos.readonly%20https%3a%2f%2fwww.googleapis.com%2fauth%2fpeopleapi.readonly\n",
            "\n",
            "Enter your authorization code:\n",
            "··········\n",
            "Mounted at /content/drive\n"
          ],
          "name": "stdout"
        },
        {
          "output_type": "execute_result",
          "data": {
            "application/vnd.google.colaboratory.intrinsic": {
              "type": "string"
            },
            "text/plain": [
              "'/content/drive/My Drive/CIL'"
            ]
          },
          "metadata": {
            "tags": []
          },
          "execution_count": 1
        }
      ]
    },
    {
      "cell_type": "markdown",
      "metadata": {
        "id": "RXAkBoig2yy-",
        "colab_type": "text"
      },
      "source": [
        "## install + import libraries"
      ]
    },
    {
      "cell_type": "code",
      "metadata": {
        "id": "Ep6izaAW_JwK",
        "colab_type": "code",
        "colab": {
          "base_uri": "https://localhost:8080/",
          "height": 1000
        },
        "outputId": "f9e37701-f31d-428b-8d2c-33bac2b18305"
      },
      "source": [
        "!pip install params_flow==0.7.1\n",
        "!pip install py-params==0.7.3\n",
        "!pip install sentencepiece\n",
        "import sentencepiece as spm\n",
        "%tensorflow_version 2.x\n",
        "import tensorflow as tf\n",
        "print(\"Tensorflow version \" + tf.__version__)\n",
        "\n",
        "try:\n",
        "  tpu = tf.distribute.cluster_resolver.TPUClusterResolver()  # TPU detection\n",
        "  print('Running on TPU ', tpu.cluster_spec().as_dict()['worker'])\n",
        "except ValueError:\n",
        "  raise BaseException('ERROR: Not connected to a TPU runtime; please see the previous cell in this notebook for instructions!')\n",
        "\n",
        "tf.config.experimental_connect_to_cluster(tpu)\n",
        "tf.tpu.experimental.initialize_tpu_system(tpu)\n",
        "tpu_strategy = tf.distribute.experimental.TPUStrategy(tpu)\n",
        "\n",
        "import tensorflow as tf\n",
        "from tensorflow import keras\n",
        "import pandas as pd\n",
        "import os\n",
        "from datetime import datetime\n",
        "\n",
        "import bert\n",
        "#different Tokenizer for Albert\n",
        "from bert.tokenization.bert_tokenization import FullTokenizer\n",
        "from bert.tokenization.albert_tokenization import AlbertFullTokenizer\n",
        "from bert.loader import StockBertConfig, map_stock_config_to_params, load_stock_weights\n",
        "from bert import BertModelLayer\n",
        "import sentencepiece as spm\n",
        "\n",
        "from tqdm import tqdm\n",
        "import numpy as np\n",
        "\n",
        "from sklearn.utils import shuffle"
      ],
      "execution_count": 2,
      "outputs": [
        {
          "output_type": "stream",
          "text": [
            "Collecting params_flow==0.7.1\n",
            "  Downloading https://files.pythonhosted.org/packages/81/ae/c286650d720d3b3f7e6c758d5af9ab62dc5b4c0d1c3d910baccb1be6f70f/params-flow-0.7.1.tar.gz\n",
            "Collecting py-params>=0.6.4\n",
            "  Downloading https://files.pythonhosted.org/packages/a4/bf/c1c70d5315a8677310ea10a41cfc41c5970d9b37c31f9c90d4ab98021fd1/py-params-0.9.7.tar.gz\n",
            "Requirement already satisfied: numpy in /usr/local/lib/python3.6/dist-packages (from params_flow==0.7.1) (1.18.5)\n",
            "Requirement already satisfied: tqdm in /usr/local/lib/python3.6/dist-packages (from params_flow==0.7.1) (4.41.1)\n",
            "Building wheels for collected packages: params-flow, py-params\n",
            "  Building wheel for params-flow (setup.py) ... \u001b[?25l\u001b[?25hdone\n",
            "  Created wheel for params-flow: filename=params_flow-0.7.1-cp36-none-any.whl size=15376 sha256=5a86f8e8f887bdbdae116d1d99107576358d951f9b5d12bd93750f9031242f04\n",
            "  Stored in directory: /root/.cache/pip/wheels/e2/7b/2a/b411aaa219132a68b17937fc9431fd9eb9c23c12a7df3d134f\n",
            "  Building wheel for py-params (setup.py) ... \u001b[?25l\u001b[?25hdone\n",
            "  Created wheel for py-params: filename=py_params-0.9.7-cp36-none-any.whl size=7302 sha256=0429cdf9f6f99ddb3c6cf8e539567a1cf7b4c87606d86bf1aea956f6bad39a4a\n",
            "  Stored in directory: /root/.cache/pip/wheels/67/f5/19/b461849a50aefdf4bab47c4756596e82ee2118b8278e5a1980\n",
            "Successfully built params-flow py-params\n",
            "Installing collected packages: py-params, params-flow\n",
            "Successfully installed params-flow-0.7.1 py-params-0.9.7\n",
            "Collecting py-params==0.7.3\n",
            "  Downloading https://files.pythonhosted.org/packages/89/7b/b7d25e0f262599cab01ab7a3c1fd2d380566fc5bb4617fb725ddbbb8964d/py-params-0.7.3.tar.gz\n",
            "Building wheels for collected packages: py-params\n",
            "  Building wheel for py-params (setup.py) ... \u001b[?25l\u001b[?25hdone\n",
            "  Created wheel for py-params: filename=py_params-0.7.3-cp36-none-any.whl size=4346 sha256=b0bf75021f334731cfc79e0c55425993fb2e801858964af5e8c8d39d4d06c6c5\n",
            "  Stored in directory: /root/.cache/pip/wheels/a3/9f/a1/e7e79bd92eecef952a46b16d0bc93ffdc91d4b619f79777d27\n",
            "Successfully built py-params\n",
            "Installing collected packages: py-params\n",
            "  Found existing installation: py-params 0.9.7\n",
            "    Uninstalling py-params-0.9.7:\n",
            "      Successfully uninstalled py-params-0.9.7\n",
            "Successfully installed py-params-0.7.3\n",
            "Collecting sentencepiece\n",
            "\u001b[?25l  Downloading https://files.pythonhosted.org/packages/d4/a4/d0a884c4300004a78cca907a6ff9a5e9fe4f090f5d95ab341c53d28cbc58/sentencepiece-0.1.91-cp36-cp36m-manylinux1_x86_64.whl (1.1MB)\n",
            "\u001b[K     |████████████████████████████████| 1.1MB 3.4MB/s \n",
            "\u001b[?25hInstalling collected packages: sentencepiece\n",
            "Successfully installed sentencepiece-0.1.91\n",
            "Tensorflow version 2.2.0\n",
            "Running on TPU  ['10.75.246.74:8470']\n",
            "INFO:tensorflow:Initializing the TPU system: grpc://10.75.246.74:8470\n"
          ],
          "name": "stdout"
        },
        {
          "output_type": "stream",
          "text": [
            "INFO:tensorflow:Initializing the TPU system: grpc://10.75.246.74:8470\n"
          ],
          "name": "stderr"
        },
        {
          "output_type": "stream",
          "text": [
            "INFO:tensorflow:Clearing out eager caches\n"
          ],
          "name": "stdout"
        },
        {
          "output_type": "stream",
          "text": [
            "INFO:tensorflow:Clearing out eager caches\n"
          ],
          "name": "stderr"
        },
        {
          "output_type": "stream",
          "text": [
            "INFO:tensorflow:Finished initializing TPU system.\n"
          ],
          "name": "stdout"
        },
        {
          "output_type": "stream",
          "text": [
            "INFO:tensorflow:Finished initializing TPU system.\n"
          ],
          "name": "stderr"
        },
        {
          "output_type": "stream",
          "text": [
            "INFO:tensorflow:Found TPU system:\n"
          ],
          "name": "stdout"
        },
        {
          "output_type": "stream",
          "text": [
            "INFO:tensorflow:Found TPU system:\n"
          ],
          "name": "stderr"
        },
        {
          "output_type": "stream",
          "text": [
            "INFO:tensorflow:*** Num TPU Cores: 8\n"
          ],
          "name": "stdout"
        },
        {
          "output_type": "stream",
          "text": [
            "INFO:tensorflow:*** Num TPU Cores: 8\n"
          ],
          "name": "stderr"
        },
        {
          "output_type": "stream",
          "text": [
            "INFO:tensorflow:*** Num TPU Workers: 1\n"
          ],
          "name": "stdout"
        },
        {
          "output_type": "stream",
          "text": [
            "INFO:tensorflow:*** Num TPU Workers: 1\n"
          ],
          "name": "stderr"
        },
        {
          "output_type": "stream",
          "text": [
            "INFO:tensorflow:*** Num TPU Cores Per Worker: 8\n"
          ],
          "name": "stdout"
        },
        {
          "output_type": "stream",
          "text": [
            "INFO:tensorflow:*** Num TPU Cores Per Worker: 8\n"
          ],
          "name": "stderr"
        },
        {
          "output_type": "stream",
          "text": [
            "INFO:tensorflow:*** Available Device: _DeviceAttributes(/job:localhost/replica:0/task:0/device:CPU:0, CPU, 0, 0)\n"
          ],
          "name": "stdout"
        },
        {
          "output_type": "stream",
          "text": [
            "INFO:tensorflow:*** Available Device: _DeviceAttributes(/job:localhost/replica:0/task:0/device:CPU:0, CPU, 0, 0)\n"
          ],
          "name": "stderr"
        },
        {
          "output_type": "stream",
          "text": [
            "INFO:tensorflow:*** Available Device: _DeviceAttributes(/job:localhost/replica:0/task:0/device:XLA_CPU:0, XLA_CPU, 0, 0)\n"
          ],
          "name": "stdout"
        },
        {
          "output_type": "stream",
          "text": [
            "INFO:tensorflow:*** Available Device: _DeviceAttributes(/job:localhost/replica:0/task:0/device:XLA_CPU:0, XLA_CPU, 0, 0)\n"
          ],
          "name": "stderr"
        },
        {
          "output_type": "stream",
          "text": [
            "INFO:tensorflow:*** Available Device: _DeviceAttributes(/job:worker/replica:0/task:0/device:CPU:0, CPU, 0, 0)\n"
          ],
          "name": "stdout"
        },
        {
          "output_type": "stream",
          "text": [
            "INFO:tensorflow:*** Available Device: _DeviceAttributes(/job:worker/replica:0/task:0/device:CPU:0, CPU, 0, 0)\n"
          ],
          "name": "stderr"
        },
        {
          "output_type": "stream",
          "text": [
            "INFO:tensorflow:*** Available Device: _DeviceAttributes(/job:worker/replica:0/task:0/device:TPU:0, TPU, 0, 0)\n"
          ],
          "name": "stdout"
        },
        {
          "output_type": "stream",
          "text": [
            "INFO:tensorflow:*** Available Device: _DeviceAttributes(/job:worker/replica:0/task:0/device:TPU:0, TPU, 0, 0)\n"
          ],
          "name": "stderr"
        },
        {
          "output_type": "stream",
          "text": [
            "INFO:tensorflow:*** Available Device: _DeviceAttributes(/job:worker/replica:0/task:0/device:TPU:1, TPU, 0, 0)\n"
          ],
          "name": "stdout"
        },
        {
          "output_type": "stream",
          "text": [
            "INFO:tensorflow:*** Available Device: _DeviceAttributes(/job:worker/replica:0/task:0/device:TPU:1, TPU, 0, 0)\n"
          ],
          "name": "stderr"
        },
        {
          "output_type": "stream",
          "text": [
            "INFO:tensorflow:*** Available Device: _DeviceAttributes(/job:worker/replica:0/task:0/device:TPU:2, TPU, 0, 0)\n"
          ],
          "name": "stdout"
        },
        {
          "output_type": "stream",
          "text": [
            "INFO:tensorflow:*** Available Device: _DeviceAttributes(/job:worker/replica:0/task:0/device:TPU:2, TPU, 0, 0)\n"
          ],
          "name": "stderr"
        },
        {
          "output_type": "stream",
          "text": [
            "INFO:tensorflow:*** Available Device: _DeviceAttributes(/job:worker/replica:0/task:0/device:TPU:3, TPU, 0, 0)\n"
          ],
          "name": "stdout"
        },
        {
          "output_type": "stream",
          "text": [
            "INFO:tensorflow:*** Available Device: _DeviceAttributes(/job:worker/replica:0/task:0/device:TPU:3, TPU, 0, 0)\n"
          ],
          "name": "stderr"
        },
        {
          "output_type": "stream",
          "text": [
            "INFO:tensorflow:*** Available Device: _DeviceAttributes(/job:worker/replica:0/task:0/device:TPU:4, TPU, 0, 0)\n"
          ],
          "name": "stdout"
        },
        {
          "output_type": "stream",
          "text": [
            "INFO:tensorflow:*** Available Device: _DeviceAttributes(/job:worker/replica:0/task:0/device:TPU:4, TPU, 0, 0)\n"
          ],
          "name": "stderr"
        },
        {
          "output_type": "stream",
          "text": [
            "INFO:tensorflow:*** Available Device: _DeviceAttributes(/job:worker/replica:0/task:0/device:TPU:5, TPU, 0, 0)\n"
          ],
          "name": "stdout"
        },
        {
          "output_type": "stream",
          "text": [
            "INFO:tensorflow:*** Available Device: _DeviceAttributes(/job:worker/replica:0/task:0/device:TPU:5, TPU, 0, 0)\n"
          ],
          "name": "stderr"
        },
        {
          "output_type": "stream",
          "text": [
            "INFO:tensorflow:*** Available Device: _DeviceAttributes(/job:worker/replica:0/task:0/device:TPU:6, TPU, 0, 0)\n"
          ],
          "name": "stdout"
        },
        {
          "output_type": "stream",
          "text": [
            "INFO:tensorflow:*** Available Device: _DeviceAttributes(/job:worker/replica:0/task:0/device:TPU:6, TPU, 0, 0)\n"
          ],
          "name": "stderr"
        },
        {
          "output_type": "stream",
          "text": [
            "INFO:tensorflow:*** Available Device: _DeviceAttributes(/job:worker/replica:0/task:0/device:TPU:7, TPU, 0, 0)\n"
          ],
          "name": "stdout"
        },
        {
          "output_type": "stream",
          "text": [
            "INFO:tensorflow:*** Available Device: _DeviceAttributes(/job:worker/replica:0/task:0/device:TPU:7, TPU, 0, 0)\n"
          ],
          "name": "stderr"
        },
        {
          "output_type": "stream",
          "text": [
            "INFO:tensorflow:*** Available Device: _DeviceAttributes(/job:worker/replica:0/task:0/device:TPU_SYSTEM:0, TPU_SYSTEM, 0, 0)\n"
          ],
          "name": "stdout"
        },
        {
          "output_type": "stream",
          "text": [
            "INFO:tensorflow:*** Available Device: _DeviceAttributes(/job:worker/replica:0/task:0/device:TPU_SYSTEM:0, TPU_SYSTEM, 0, 0)\n"
          ],
          "name": "stderr"
        },
        {
          "output_type": "stream",
          "text": [
            "INFO:tensorflow:*** Available Device: _DeviceAttributes(/job:worker/replica:0/task:0/device:XLA_CPU:0, XLA_CPU, 0, 0)\n"
          ],
          "name": "stdout"
        },
        {
          "output_type": "stream",
          "text": [
            "INFO:tensorflow:*** Available Device: _DeviceAttributes(/job:worker/replica:0/task:0/device:XLA_CPU:0, XLA_CPU, 0, 0)\n"
          ],
          "name": "stderr"
        }
      ]
    },
    {
      "cell_type": "markdown",
      "metadata": {
        "id": "FmM2Svrp24tN",
        "colab_type": "text"
      },
      "source": [
        "## Fix Directories for BERT\n",
        "First part of selecting which model"
      ]
    },
    {
      "cell_type": "code",
      "metadata": {
        "id": "AXaYCPNl_HQh",
        "colab_type": "code",
        "colab": {}
      },
      "source": [
        "# 'bert' or 'bert_large' or 'albert'\n",
        "MODEL = 'bert'\n",
        "ADDITIONAL_DATA = True\n",
        "identifier='additional_data' # for naming the output csv, weights and validation scores for graph\n",
        "\n",
        "# '' or '_monoise' or '_monoise_b'\n",
        "DATASET_PREPROCESSING = '' \n",
        "\n",
        "#Learning parameters\n",
        "epochs = 4\n",
        "last_val_loss = None\n",
        "patience = 5\n",
        "no_improvement_since = 0\n",
        "current_learning_rate = 1e-5\n",
        "minimum_learning_rate = 1e-7\n",
        "reload_training = False\n",
        "reload_checkpoint = './twitter_bert_large_second.h5'\n",
        "\n",
        "CHECKPOINT = None\n",
        "CHECKPOINT_CKPT = None\n",
        "CHECKPOINT_VOCAB = None\n",
        "CHECKPOINT_CONFIG = None\n",
        "\n",
        "if MODEL == 'bert':\n",
        "  CHECKPOINT = './bert/checkpoints/bert_base'\n",
        "if MODEL == 'bert_large':\n",
        "  CHECKPOINT = './bert/checkpoints/bert_large_wwm'\n",
        "if MODEL == 'albert':\n",
        "  CHECKPOINT = './bert/checkpoints/albert_xlarge'\n",
        "\n",
        "if MODEL == 'bert' or MODEL == 'bert_large':\n",
        "  CHECKPOINT_CKPT = os.path.join(CHECKPOINT, 'bert_model.ckpt')\n",
        "  CHECKPOINT_VOCAB = os.path.join(CHECKPOINT, 'vocab.txt')\n",
        "  CHECKPOINT_CONFIG = os.path.join(CHECKPOINT, 'bert_config.json')\n",
        "if MODEL == 'albert':\n",
        "  CHECKPOINT_VOCAB = os.path.join(CHECKPOINT, '30k-clean.model')\n",
        "  CHECKPOINT_CKPT = os.path.join(CHECKPOINT, 'model.ckpt-best')\n",
        "  CHECKPOINT_CONFIG = os.path.join(CHECKPOINT, 'albert_config.json')\n",
        "\n",
        "DATASET_DIR = './'\n",
        "DATASET_FILE_TRAIN_NEG = os.path.join(DATASET_DIR, 'twitter-datasets/train_neg_full{}.txt'.format(DATASET_PREPROCESSING))\n",
        "DATASET_FILE_TRAIN_POS = os.path.join(DATASET_DIR, 'twitter-datasets/train_pos_full{}.txt'.format(DATASET_PREPROCESSING))\n",
        "DATASET_FILE_TEST = os.path.join(DATASET_DIR, 'twitter-datasets/test_data{}.txt'.format(DATASET_PREPROCESSING))\n",
        "\n",
        "DATASET_FILE_NEG_EXTRA = os.path.join(DATASET_DIR, 'twitter-datasets/extra_neg{}.txt'.format(DATASET_PREPROCESSING))\n",
        "DATASET_FILE_POS_EXTRA = os.path.join(DATASET_DIR, 'twitter-datasets/extra_pos{}.txt'.format(DATASET_PREPROCESSING))\n",
        "\n",
        "FILE_PATHS = [DATASET_FILE_TRAIN_POS, DATASET_FILE_TRAIN_NEG]\n",
        "\n",
        "steps = None\n",
        "if ADDITIONAL_DATA:\n",
        "  steps = 336\n",
        "else:\n",
        "  steps = 200"
      ],
      "execution_count": 3,
      "outputs": []
    },
    {
      "cell_type": "markdown",
      "metadata": {
        "id": "E43YtU-B29JL",
        "colab_type": "text"
      },
      "source": [
        "## methods to create BERT layer\n",
        "change name=\"albert\" for other model, have to adjust paths above too"
      ]
    },
    {
      "cell_type": "code",
      "metadata": {
        "id": "lXnr4jwJ_T1D",
        "colab_type": "code",
        "colab": {}
      },
      "source": [
        "def flatten_layers(root_layer):\n",
        "    if isinstance(root_layer, keras.layers.Layer):\n",
        "        yield root_layer\n",
        "    for layer in root_layer._layers:\n",
        "        for sub_layer in flatten_layers(layer):\n",
        "            yield sub_layer\n",
        "\n",
        "\n",
        "def freeze_bert_layers(l_bert):\n",
        "    \"\"\"\n",
        "    Freezes all but LayerNorm and adapter layers - see arXiv:1902.00751.\n",
        "    \"\"\"\n",
        "    for layer in flatten_layers(l_bert):\n",
        "        if layer.name in [\"LayerNorm\", \"adapter-down\", \"adapter-up\"]:\n",
        "            layer.trainable = True\n",
        "        elif len(layer._layers) == 0:\n",
        "            layer.trainable = False\n",
        "        l_bert.embeddings_layer.trainable = False\n",
        "\n",
        "\n",
        "def create_learning_rate(learn_rate=5e-5):\n",
        "\n",
        "    def lr_scheduler(epoch):\n",
        "        return float(learn_rate)\n",
        "    learning_rate_scheduler = tf.keras.callbacks.LearningRateScheduler(lr_scheduler, verbose=1)\n",
        "\n",
        "    return learning_rate_scheduler\n",
        "\n",
        "def create_learning_rate_scheduler(max_learn_rate=5e-5,\n",
        "                                   end_learn_rate=1e-7,\n",
        "                                   warmup_epoch_count=10,\n",
        "                                   total_epoch_count=90):\n",
        "\n",
        "    def lr_scheduler(epoch):\n",
        "        if epoch < warmup_epoch_count:\n",
        "            #res = (max_learn_rate/warmup_epoch_count) * (epoch + 1)\n",
        "            res = end_learn_rate\n",
        "        else:\n",
        "            res = max_learn_rate*math.exp(math.log(end_learn_rate/max_learn_rate)*(epoch-warmup_epoch_count+1)/(total_epoch_count-warmup_epoch_count+1))\n",
        "        return float(res)\n",
        "    learning_rate_scheduler = tf.keras.callbacks.LearningRateScheduler(lr_scheduler, verbose=1)\n",
        "\n",
        "    return learning_rate_scheduler\n",
        "\n",
        "\n",
        "def create_model(max_seq_len, adapter_size=64):\n",
        "    \"\"\"Creates a classification model.\"\"\"\n",
        "\n",
        "    # adapter_size = 64  # see - arXiv:1902.00751\n",
        "\n",
        "    # create the bert layer\n",
        "    with tf.io.gfile.GFile(CHECKPOINT_CONFIG, \"r\") as reader:\n",
        "        #Download from Google\n",
        "        #model_dir    = bert.fetch_tfhub_albert_model(model_name, \".models\")\n",
        "        #bert_params = bert.albert_params(model_name)\n",
        "        #bert_l = BertModelLayer.from_params(bert_params, name=\"albert\", shared_layer=True, embedding_size=128)\n",
        "        \n",
        "        bc = StockBertConfig.from_json_string(reader.read())\n",
        "        bert_params = map_stock_config_to_params(bc)\n",
        "        bert_params.adapter_size = adapter_size\n",
        "        bert_l = None\n",
        "        if MODEL[:4] == 'bert':\n",
        "          bert_l = BertModelLayer.from_params(bert_params, name=\"bert\")\n",
        "        else:\n",
        "          bert_l = BertModelLayer.from_params(bert_params, name=\"albert\", shared_layer=True, embedding_size=128)\n",
        "\n",
        "    input_ids = keras.layers.Input(shape=(max_seq_len,), dtype='int32', name=\"input_ids\")\n",
        "    # token_type_ids = keras.layers.Input(shape=(max_seq_len,), dtype='int32', name=\"token_type_ids\")\n",
        "    # output         = bert([input_ids, token_type_ids])\n",
        "    output = bert_l(input_ids)\n",
        "\n",
        "    print(\"bert shape\", output.shape)\n",
        "    cls_out = keras.layers.Lambda(lambda seq: seq[:, 0, :])(output)\n",
        "    cls_out = keras.layers.Dropout(0.5)(cls_out)\n",
        "    logits = keras.layers.Dense(units=768, activation=\"tanh\")(cls_out)\n",
        "    logits = keras.layers.Dropout(0.5)(logits)\n",
        "    logits = keras.layers.Dense(units=2, activation=\"softmax\")(logits)\n",
        "\n",
        "    # model = keras.Model(inputs=[input_ids, token_type_ids], outputs=logits)\n",
        "    # model.build(input_shape=[(None, max_seq_len), (None, max_seq_len)])\n",
        "    model = keras.Model(inputs=input_ids, outputs=logits)\n",
        "    model.build(input_shape=(None, max_seq_len))\n",
        "\n",
        "    # load the pre-trained model weights\n",
        "    if MODEL[:4] == 'bert':\n",
        "      load_stock_weights(bert_l, CHECKPOINT_CKPT)\n",
        "    else:\n",
        "      bert.load_albert_weights(bert_l, CHECKPOINT_CKPT)\n",
        "\n",
        "    # freeze weights if adapter-BERT is used\n",
        "    if adapter_size is not None:\n",
        "        freeze_bert_layers(bert_l)\n",
        "\n",
        "    model.compile(optimizer=keras.optimizers.Adam(),\n",
        "                  loss=keras.losses.SparseCategoricalCrossentropy(from_logits=True),\n",
        "                  metrics=[keras.metrics.SparseCategoricalAccuracy(name=\"acc\")])\n",
        "\n",
        "    return model"
      ],
      "execution_count": 4,
      "outputs": []
    },
    {
      "cell_type": "markdown",
      "metadata": {
        "id": "brlQdmnfqSUh",
        "colab_type": "text"
      },
      "source": [
        "# Define Dataloading Class\n",
        "Also loading data into array\n"
      ]
    },
    {
      "cell_type": "code",
      "metadata": {
        "id": "fQiotBTjltcC",
        "colab_type": "code",
        "colab": {}
      },
      "source": [
        "import logging\n",
        "logging.getLogger(\"tensorflow\").setLevel(logging.WARNING)\n",
        "\n",
        "def load_data(file_path):\n",
        "    data = {}\n",
        "    data[\"sentence\"] = []\n",
        "    with open(file_path, \"r\") as f:\n",
        "        data[\"sentence\"] = f.readlines()\n",
        "\n",
        "    #longest_string = max(data[\"sentence\"], key=len)\n",
        "    #print(longest_string)\n",
        "    #print(len(longest_string))\n",
        "\n",
        "    return pd.DataFrame.from_dict(data)\n",
        "\n",
        "def load_dataset(pos_directory, neg_directory):\n",
        "    pos_df = load_data(pos_directory)\n",
        "    neg_df = load_data(neg_directory)\n",
        "\n",
        "    pos_df[\"sentiment\"] = 1\n",
        "    neg_df[\"sentiment\"] = 0\n",
        "\n",
        "    return pd.concat([pos_df, neg_df])\n",
        "\n",
        "class MovieReviewData:\n",
        "    DATA_COLUMN = \"sentence\"\n",
        "    LABEL_COLUMN = \"sentiment\"\n",
        "\n",
        "    def __init__(self, tokenizer= FullTokenizer, max_seq_len=128, steps=200, extra_data=False):\n",
        "        self.tokenizer = tokenizer\n",
        "        self.step = None\n",
        "        self.sample_size= 128*937\n",
        "        self.max_seq_len = max_seq_len\n",
        "        self.train_x = None\n",
        "        self.train_x_token_types = None\n",
        "        self.test_x = None\n",
        "        self.test_x_token_types = None\n",
        "        self.train_y = None\n",
        "        self.test_y = None\n",
        "        self.steps = steps\n",
        "        self.extra_data = extra_data\n",
        "        \n",
        "    def _prepare(self, df):\n",
        "        x, y = [], []\n",
        "        with tqdm(total=df.shape[0], unit_scale=True) as pbar:\n",
        "            for ndx, row in df.iterrows():\n",
        "                text, label = row[MovieReviewData.DATA_COLUMN], row[MovieReviewData.LABEL_COLUMN]\n",
        "                tokens = self.tokenizer.tokenize(text)\n",
        "                tokens = [\"[CLS]\"] + tokens + [\"[SEP]\"]\n",
        "                token_ids = self.tokenizer.convert_tokens_to_ids(tokens)\n",
        "                # self.max_seq_len = max(self.max_seq_len, len(token_ids))\n",
        "                x.append(token_ids)\n",
        "                y.append(int(label))\n",
        "                pbar.update()\n",
        "        return np.array(x), np.array(y)\n",
        "\n",
        "    def _pad(self, ids):\n",
        "        x, t = [], []\n",
        "        token_type_ids = [0] * self.max_seq_len\n",
        "        for input_ids in ids:\n",
        "            input_ids = input_ids[:min(len(input_ids), self.max_seq_len - 2)]\n",
        "            input_ids = input_ids + [0] * (self.max_seq_len - len(input_ids))\n",
        "            x.append(np.array(input_ids))\n",
        "            t.append(token_type_ids)\n",
        "        return np.array(x), np.array(t)\n",
        "\n",
        "    def load_data(self, step, update_test=True):\n",
        "        trainset = load_dataset(DATASET_FILE_TRAIN_POS, DATASET_FILE_TRAIN_NEG)\n",
        "\n",
        "        step = step % self.steps\n",
        "\n",
        "        trainset = shuffle(trainset, random_state=5)\n",
        "        #remove already processed data\n",
        "        train = trainset.head(2400000)\n",
        "\n",
        "        if self.extra_data:\n",
        "          trainset_extra = load_dataset(DATASET_FILE_POS_EXTRA, DATASET_FILE_NEG_EXTRA)\n",
        "          trainset_extra = shuffle(trainset_extra, random_state=5)\n",
        "          train = pd.concat([train, trainset_extra], ignore_index=True)\n",
        "        \n",
        "        train = train.head(self.steps*128*93)\n",
        "        train = train.tail(self.steps*128*93 - step*128*93)\n",
        "        train = train.head(128*93)\n",
        "        test = trainset.tail(100000)\n",
        "        #train = trainset.head(10*128)\n",
        "        #test = trainset.tail(10*128)\n",
        "\n",
        "        train = shuffle(train)\n",
        "        test = shuffle(test)\n",
        "\n",
        "        train.reset_index(inplace=True, drop=True)\n",
        "        test.reset_index(inplace=True, drop=True)\n",
        "\n",
        "        if update_test:\n",
        "          ((self.train_x, self.train_y),\n",
        "          (self.test_x, self.test_y)) = map(self._prepare, [train, test])\n",
        "\n",
        "          ((self.train_x, self.train_x_token_types),\n",
        "          (self.test_x, self.test_x_token_types)) = map(self._pad,\n",
        "                                                        [self.train_x, self.test_x])\n",
        "        else:\n",
        "          df_empty = pd.DataFrame({'empty' : []})\n",
        "          ((self.train_x, self.train_y),\n",
        "          (_, _)) = map(self._prepare, [train, df_empty])\n",
        "\n",
        "          ((self.train_x, self.train_x_token_types),\n",
        "          (_, _)) = map(self._pad, [self.train_x, []])\n",
        "\n",
        "spm_model = None\n",
        "sp = None\n",
        "\n",
        "if MODEL == 'albert':\n",
        "  spm_model = os.path.join('./bert/checkpoints/albert_xlarge/', \"30k-clean.model\")\n",
        "  sp = spm.SentencePieceProcessor()\n",
        "  sp.load(spm_model)\n",
        "\n",
        "tokenizer = None\n",
        "if MODEL[:4] == 'bert':\n",
        "  tokenizer = FullTokenizer(vocab_file=CHECKPOINT_VOCAB, do_lower_case=True)\n",
        "else:\n",
        "  tokenizer = AlbertFullTokenizer(vocab_file=None, do_lower_case=True, spm_model_file=CHECKPOINT_VOCAB)"
      ],
      "execution_count": 5,
      "outputs": []
    },
    {
      "cell_type": "markdown",
      "metadata": {
        "id": "1efXrHjE3CG4",
        "colab_type": "text"
      },
      "source": [
        "## BERT text preprocessing"
      ]
    },
    {
      "cell_type": "code",
      "metadata": {
        "id": "0E4uy1eZCOgS",
        "colab_type": "code",
        "colab": {}
      },
      "source": [
        "def pre_process_positive(x, max_seq_len):\n",
        "  tokens = tokenizer.tokenize(x.numpy())\n",
        "  tokens = [\"[CLS]\"] + tokens + [\"[SEP]\"]\n",
        "  token_ids = tokenizer.convert_tokens_to_ids(tokens)\n",
        "  token_ids = token_ids[:min(len(token_ids), max_seq_len - 2)]\n",
        "  token_ids = np.concatenate((token_ids, np.zeros((max_seq_len - len(token_ids))))).astype(np.int32)\n",
        "  return token_ids, int(1)\n",
        "\n",
        "def pre_process_negative(x, max_seq_len):\n",
        "  tokens = tokenizer.tokenize(x.numpy())\n",
        "  tokens = [\"[CLS]\"] + tokens + [\"[SEP]\"]\n",
        "  token_ids = tokenizer.convert_tokens_to_ids(tokens)\n",
        "  token_ids = token_ids[:min(len(token_ids), max_seq_len - 2)]\n",
        "  token_ids = np.concatenate((token_ids, np.zeros((max_seq_len - len(token_ids))))).astype(np.int32)\n",
        "  return token_ids, int(0)\n",
        "\n",
        "def pre_process_text(x):\n",
        "  tokens = tokenizer.tokenize(x.numpy())\n",
        "  tokens = [\"[CLS]\"] + tokens + [\"[SEP]\"]\n",
        "  return tokens\n",
        "\n",
        "def dummy_pre_process(x):\n",
        "   return tf.constant(3, shape=(128,))"
      ],
      "execution_count": 6,
      "outputs": []
    },
    {
      "cell_type": "markdown",
      "metadata": {
        "id": "RR2PNyhBSa-5",
        "colab_type": "text"
      },
      "source": [
        "## Build Model"
      ]
    },
    {
      "cell_type": "code",
      "metadata": {
        "id": "UaJfqna-xPbs",
        "colab_type": "code",
        "colab": {
          "base_uri": "https://localhost:8080/",
          "height": 667
        },
        "outputId": "080541a6-4375-4ec9-dca3-1bbd402863b5"
      },
      "source": [
        "max_seq_len = 128\n",
        "adapter_size = None\n",
        "\n",
        "with tpu_strategy.scope():\n",
        "    model = create_model(max_seq_len, adapter_size=adapter_size)\n",
        "\n",
        "model.summary()\n",
        "\n",
        "total_epoch_count = 1"
      ],
      "execution_count": 7,
      "outputs": [
        {
          "output_type": "stream",
          "text": [
            "bert shape (None, 128, 768)\n",
            "Done loading 196 BERT weights from: ./bert/checkpoints/bert_base/bert_model.ckpt into <bert.model.BertModelLayer object at 0x7f8c9e770390> (prefix:bert). Count of weights not found in the checkpoint was: [0]. Count of weights with mismatched shape: [0]\n",
            "Unused weights from checkpoint: \n",
            "\tbert/embeddings/token_type_embeddings\n",
            "\tbert/pooler/dense/bias\n",
            "\tbert/pooler/dense/kernel\n",
            "\tcls/predictions/output_bias\n",
            "\tcls/predictions/transform/LayerNorm/beta\n",
            "\tcls/predictions/transform/LayerNorm/gamma\n",
            "\tcls/predictions/transform/dense/bias\n",
            "\tcls/predictions/transform/dense/kernel\n",
            "\tcls/seq_relationship/output_bias\n",
            "\tcls/seq_relationship/output_weights\n",
            "Model: \"model\"\n",
            "_________________________________________________________________\n",
            "Layer (type)                 Output Shape              Param #   \n",
            "=================================================================\n",
            "input_ids (InputLayer)       [(None, 128)]             0         \n",
            "_________________________________________________________________\n",
            "bert (BertModelLayer)        (None, 128, 768)          108890112 \n",
            "_________________________________________________________________\n",
            "lambda (Lambda)              (None, 768)               0         \n",
            "_________________________________________________________________\n",
            "dropout (Dropout)            (None, 768)               0         \n",
            "_________________________________________________________________\n",
            "dense (Dense)                (None, 768)               590592    \n",
            "_________________________________________________________________\n",
            "dropout_1 (Dropout)          (None, 768)               0         \n",
            "_________________________________________________________________\n",
            "dense_1 (Dense)              (None, 2)                 1538      \n",
            "=================================================================\n",
            "Total params: 109,482,242\n",
            "Trainable params: 109,482,242\n",
            "Non-trainable params: 0\n",
            "_________________________________________________________________\n"
          ],
          "name": "stdout"
        }
      ]
    },
    {
      "cell_type": "markdown",
      "metadata": {
        "id": "Idw95IXg3_yM",
        "colab_type": "text"
      },
      "source": [
        "\n",
        "## Train model/fit+save weights"
      ]
    },
    {
      "cell_type": "code",
      "metadata": {
        "id": "GmI1kXiOxUYi",
        "colab_type": "code",
        "colab": {
          "base_uri": "https://localhost:8080/",
          "height": 1000
        },
        "outputId": "d08adc56-d5b8-4d77-d286-716bada35c31"
      },
      "source": [
        "data = MovieReviewData(tokenizer, max_seq_len=128, steps=steps, extra_data=ADDITIONAL_DATA)\n",
        "\n",
        "val_losses = []\n",
        "val_accuracy = []\n",
        "train_losses = []\n",
        "train_accuracy = []\n",
        "\n",
        "if reload_training:\n",
        "  model.load_weights(reload_checkpoint) \n",
        "\n",
        "finished_learning = False\n",
        "update_test = True\n",
        "for epoch in range(epochs):\n",
        "  for step in range(steps):\n",
        "    print('Epoch {}/{} Step {}/{}'.format(epoch, epochs-1, step, steps-1))\n",
        "    print('Loading Data...')\n",
        "    data.load_data(step, update_test)\n",
        "    if update_test:\n",
        "      update_test = False\n",
        "\n",
        "    dataset_train = tf.data.Dataset.from_tensor_slices((data.train_x, data.train_y))\n",
        "    dataset_train = dataset_train.batch(32, drop_remainder=True)\n",
        "\n",
        "    dataset_test = tf.data.Dataset.from_tensor_slices((data.test_x, data.test_y))\n",
        "    dataset_test = dataset_test.batch(32, drop_remainder=True)\n",
        "\n",
        "    train_history = model.fit(dataset_train,\n",
        "                    epochs=1,\n",
        "                    callbacks=[create_learning_rate(learn_rate=current_learning_rate)])\n",
        "    \n",
        "    loss = train_history.history['loss'][0]\n",
        "    accuracy = train_history.history['acc'][0]\n",
        "\n",
        "    train_losses.append(loss)\n",
        "    train_accuracy.append(accuracy)\n",
        "\n",
        "    if step % 10 == 0:\n",
        "      print('Run Validation...')\n",
        "      results = model.evaluate(dataset_test)\n",
        "      val_loss = results[0]\n",
        "      val_acc = results[1]\n",
        "      val_losses.append(val_loss)\n",
        "      val_accuracy.append(val_acc)\n",
        "\n",
        "      if last_val_loss is None or last_val_loss > val_loss:\n",
        "        last_val_loss = val_loss\n",
        "        no_improvement_since = 0\n",
        "      else:\n",
        "        no_improvement_since += 1\n",
        "        if no_improvement_since >= patience:\n",
        "          current_learning_rate = current_learning_rate * 0.1\n",
        "          if current_learning_rate < minimum_learning_rate:\n",
        "            print('Learning Finished Early')\n",
        "            finished_learning = True\n",
        "            break\n",
        "          print('Decreasing Learning Rate to: {}'.format(current_learning_rate))\n",
        "          no_improvement_since = 0\n",
        "        else:\n",
        "          print('No improvement since: {}'.format(no_improvement_since))\n",
        "\n",
        "\n",
        "    if step != 0 and step % 100 == 0:\n",
        "      model.save_weights('./'+MODEL+identifier+'_epoch_{}_step_{}.h5'.format(epoch, step), overwrite=True)\n",
        "\n",
        "  model.save_weights('./'+MODEL+identifier+'_epoch_{}.h5'.format(epoch), overwrite=True)\n",
        "  \n",
        "  # Write Results Intermediate\n",
        "  if not os.path.exists('./results'):\n",
        "    os.mkdir('./results')\n",
        "\n",
        "  f = open('./results/'+MODEL+identifier+'_epoch_{}_train.txt'.format(epoch), 'w')\n",
        "  for x in range(len(train_losses)):\n",
        "    f.write('{} {} {}\\n'.format(x, train_losses[x], train_accuracy[x]))\n",
        "  f.close()\n",
        "\n",
        "  f = open('./results/'+MODEL+identifier+'_epoch_{}_validation.txt'.format(epoch), 'w')\n",
        "  for x in range(len(val_losses)):\n",
        "    f.write('{} {} {}\\n'.format(x * 100, val_losses[x], val_accuracy[x]))\n",
        "  f.close()\n",
        "\n",
        "  if finished_learning: \n",
        "    break\n",
        "\n",
        "model.save_weights('./'+MODEL+identifier+'.h5', overwrite=True)\n",
        "\n",
        "# Write Results\n",
        "if not os.path.exists('./results'):\n",
        "  os.mkdir('./results')\n",
        "\n",
        "f = open('./results/'+MODEL+identifier+'_train.txt', 'w')\n",
        "for x in range(len(train_losses)):\n",
        "  f.write('{} {} {}\\n'.format(x, train_losses[x], train_accuracy[x]))\n",
        "f.close()\n",
        "\n",
        "f = open('./results/'+MODEL+identifier+'_validation.txt', 'w')\n",
        "for x in range(len(val_losses)):\n",
        "  f.write('{} {} {}\\n'.format(x * 100, val_losses[x], val_accuracy[x]))\n",
        "f.close()"
      ],
      "execution_count": 8,
      "outputs": [
        {
          "output_type": "stream",
          "text": [
            "Epoch 0/3 Step 0/335\n",
            "Loading Data...\n"
          ],
          "name": "stdout"
        },
        {
          "output_type": "stream",
          "text": [
            "100%|██████████| 11.9k/11.9k [00:05<00:00, 2.23kit/s]\n",
            "100%|██████████| 100k/100k [00:44<00:00, 2.23kit/s] \n"
          ],
          "name": "stderr"
        },
        {
          "output_type": "stream",
          "text": [
            "\n",
            "Epoch 00001: LearningRateScheduler reducing learning rate to 1e-05.\n",
            "372/372 [==============================] - 29s 77ms/step - acc: 0.6129 - loss: 0.6552 - lr: 1.0000e-05\n",
            "Run Validation...\n",
            "3125/3125 [==============================] - 66s 21ms/step - acc: 0.7121 - loss: 0.5816\n",
            "Epoch 0/3 Step 1/335\n",
            "Loading Data...\n"
          ],
          "name": "stdout"
        },
        {
          "output_type": "stream",
          "text": [
            "100%|██████████| 11.9k/11.9k [00:05<00:00, 2.26kit/s]\n",
            "0.00it [00:00, ?it/s]\n"
          ],
          "name": "stderr"
        },
        {
          "output_type": "stream",
          "text": [
            "\n",
            "Epoch 00001: LearningRateScheduler reducing learning rate to 1e-05.\n",
            "372/372 [==============================] - 28s 76ms/step - acc: 0.7904 - loss: 0.5138 - lr: 1.0000e-05\n",
            "Epoch 0/3 Step 2/335\n",
            "Loading Data...\n"
          ],
          "name": "stdout"
        },
        {
          "output_type": "stream",
          "text": [
            "100%|██████████| 11.9k/11.9k [00:05<00:00, 2.20kit/s]\n",
            "0.00it [00:00, ?it/s]\n"
          ],
          "name": "stderr"
        },
        {
          "output_type": "stream",
          "text": [
            "\n",
            "Epoch 00001: LearningRateScheduler reducing learning rate to 1e-05.\n",
            "372/372 [==============================] - 28s 76ms/step - acc: 0.8264 - loss: 0.4799 - lr: 1.0000e-05\n",
            "Epoch 0/3 Step 3/335\n",
            "Loading Data...\n"
          ],
          "name": "stdout"
        },
        {
          "output_type": "stream",
          "text": [
            "100%|██████████| 11.9k/11.9k [00:05<00:00, 2.23kit/s]\n",
            "0.00it [00:00, ?it/s]\n"
          ],
          "name": "stderr"
        },
        {
          "output_type": "stream",
          "text": [
            "\n",
            "Epoch 00001: LearningRateScheduler reducing learning rate to 1e-05.\n",
            "372/372 [==============================] - 28s 76ms/step - acc: 0.8227 - loss: 0.4831 - lr: 1.0000e-05\n",
            "Epoch 0/3 Step 4/335\n",
            "Loading Data...\n"
          ],
          "name": "stdout"
        },
        {
          "output_type": "stream",
          "text": [
            "100%|██████████| 11.9k/11.9k [00:05<00:00, 2.21kit/s]\n",
            "0.00it [00:00, ?it/s]\n"
          ],
          "name": "stderr"
        },
        {
          "output_type": "stream",
          "text": [
            "\n",
            "Epoch 00001: LearningRateScheduler reducing learning rate to 1e-05.\n",
            "372/372 [==============================] - 28s 76ms/step - acc: 0.8339 - loss: 0.4727 - lr: 1.0000e-05\n",
            "Epoch 0/3 Step 5/335\n",
            "Loading Data...\n"
          ],
          "name": "stdout"
        },
        {
          "output_type": "stream",
          "text": [
            "100%|██████████| 11.9k/11.9k [00:05<00:00, 2.24kit/s]\n",
            "0.00it [00:00, ?it/s]\n"
          ],
          "name": "stderr"
        },
        {
          "output_type": "stream",
          "text": [
            "\n",
            "Epoch 00001: LearningRateScheduler reducing learning rate to 1e-05.\n",
            "372/372 [==============================] - 28s 76ms/step - acc: 0.8330 - loss: 0.4716 - lr: 1.0000e-05\n",
            "Epoch 0/3 Step 6/335\n",
            "Loading Data...\n"
          ],
          "name": "stdout"
        },
        {
          "output_type": "stream",
          "text": [
            "100%|██████████| 11.9k/11.9k [00:05<00:00, 2.22kit/s]\n",
            "0.00it [00:00, ?it/s]\n"
          ],
          "name": "stderr"
        },
        {
          "output_type": "stream",
          "text": [
            "\n",
            "Epoch 00001: LearningRateScheduler reducing learning rate to 1e-05.\n",
            "372/372 [==============================] - 28s 76ms/step - acc: 0.8381 - loss: 0.4676 - lr: 1.0000e-05\n",
            "Epoch 0/3 Step 7/335\n",
            "Loading Data...\n"
          ],
          "name": "stdout"
        },
        {
          "output_type": "stream",
          "text": [
            "100%|██████████| 11.9k/11.9k [00:05<00:00, 2.23kit/s]\n",
            "0.00it [00:00, ?it/s]\n"
          ],
          "name": "stderr"
        },
        {
          "output_type": "stream",
          "text": [
            "\n",
            "Epoch 00001: LearningRateScheduler reducing learning rate to 1e-05.\n",
            "372/372 [==============================] - 28s 77ms/step - acc: 0.8487 - loss: 0.4596 - lr: 1.0000e-05\n",
            "Epoch 0/3 Step 8/335\n",
            "Loading Data...\n"
          ],
          "name": "stdout"
        },
        {
          "output_type": "stream",
          "text": [
            "100%|██████████| 11.9k/11.9k [00:05<00:00, 2.23kit/s]\n",
            "0.00it [00:00, ?it/s]\n"
          ],
          "name": "stderr"
        },
        {
          "output_type": "stream",
          "text": [
            "\n",
            "Epoch 00001: LearningRateScheduler reducing learning rate to 1e-05.\n",
            "372/372 [==============================] - 28s 75ms/step - acc: 0.8505 - loss: 0.4560 - lr: 1.0000e-05\n",
            "Epoch 0/3 Step 9/335\n",
            "Loading Data...\n"
          ],
          "name": "stdout"
        },
        {
          "output_type": "stream",
          "text": [
            "100%|██████████| 11.9k/11.9k [00:05<00:00, 2.19kit/s]\n",
            "0.00it [00:00, ?it/s]\n"
          ],
          "name": "stderr"
        },
        {
          "output_type": "stream",
          "text": [
            "\n",
            "Epoch 00001: LearningRateScheduler reducing learning rate to 1e-05.\n",
            "372/372 [==============================] - 28s 76ms/step - acc: 0.8411 - loss: 0.4666 - lr: 1.0000e-05\n",
            "Epoch 0/3 Step 10/335\n",
            "Loading Data...\n"
          ],
          "name": "stdout"
        },
        {
          "output_type": "stream",
          "text": [
            "100%|██████████| 11.9k/11.9k [00:05<00:00, 2.01kit/s]\n",
            "0.00it [00:00, ?it/s]\n"
          ],
          "name": "stderr"
        },
        {
          "output_type": "stream",
          "text": [
            "\n",
            "Epoch 00001: LearningRateScheduler reducing learning rate to 1e-05.\n",
            "372/372 [==============================] - 30s 80ms/step - acc: 0.8481 - loss: 0.4589 - lr: 1.0000e-05\n",
            "Run Validation...\n",
            "3125/3125 [==============================] - 64s 21ms/step - acc: 0.8557 - loss: 0.4520\n",
            "Epoch 0/3 Step 11/335\n",
            "Loading Data...\n"
          ],
          "name": "stdout"
        },
        {
          "output_type": "stream",
          "text": [
            "100%|██████████| 11.9k/11.9k [00:05<00:00, 2.19kit/s]\n",
            "0.00it [00:00, ?it/s]\n"
          ],
          "name": "stderr"
        },
        {
          "output_type": "stream",
          "text": [
            "\n",
            "Epoch 00001: LearningRateScheduler reducing learning rate to 1e-05.\n",
            "372/372 [==============================] - 28s 76ms/step - acc: 0.8479 - loss: 0.4597 - lr: 1.0000e-05\n",
            "Epoch 0/3 Step 12/335\n",
            "Loading Data...\n"
          ],
          "name": "stdout"
        },
        {
          "output_type": "stream",
          "text": [
            "100%|██████████| 11.9k/11.9k [00:05<00:00, 2.23kit/s]\n",
            "0.00it [00:00, ?it/s]\n"
          ],
          "name": "stderr"
        },
        {
          "output_type": "stream",
          "text": [
            "\n",
            "Epoch 00001: LearningRateScheduler reducing learning rate to 1e-05.\n",
            "372/372 [==============================] - 29s 78ms/step - acc: 0.8477 - loss: 0.4588 - lr: 1.0000e-05\n",
            "Epoch 0/3 Step 13/335\n",
            "Loading Data...\n"
          ],
          "name": "stdout"
        },
        {
          "output_type": "stream",
          "text": [
            "100%|██████████| 11.9k/11.9k [00:05<00:00, 2.22kit/s]\n",
            "0.00it [00:00, ?it/s]\n"
          ],
          "name": "stderr"
        },
        {
          "output_type": "stream",
          "text": [
            "\n",
            "Epoch 00001: LearningRateScheduler reducing learning rate to 1e-05.\n",
            "372/372 [==============================] - 28s 77ms/step - acc: 0.8521 - loss: 0.4549 - lr: 1.0000e-05\n",
            "Epoch 0/3 Step 14/335\n",
            "Loading Data...\n"
          ],
          "name": "stdout"
        },
        {
          "output_type": "stream",
          "text": [
            "100%|██████████| 11.9k/11.9k [00:05<00:00, 2.22kit/s]\n",
            "0.00it [00:00, ?it/s]\n"
          ],
          "name": "stderr"
        },
        {
          "output_type": "stream",
          "text": [
            "\n",
            "Epoch 00001: LearningRateScheduler reducing learning rate to 1e-05.\n",
            "372/372 [==============================] - 29s 79ms/step - acc: 0.8566 - loss: 0.4512 - lr: 1.0000e-05\n",
            "Epoch 0/3 Step 15/335\n",
            "Loading Data...\n"
          ],
          "name": "stdout"
        },
        {
          "output_type": "stream",
          "text": [
            "100%|██████████| 11.9k/11.9k [00:05<00:00, 2.25kit/s]\n",
            "0.00it [00:00, ?it/s]\n"
          ],
          "name": "stderr"
        },
        {
          "output_type": "stream",
          "text": [
            "\n",
            "Epoch 00001: LearningRateScheduler reducing learning rate to 1e-05.\n",
            "372/372 [==============================] - 30s 80ms/step - acc: 0.8547 - loss: 0.4515 - lr: 1.0000e-05\n",
            "Epoch 0/3 Step 16/335\n",
            "Loading Data...\n"
          ],
          "name": "stdout"
        },
        {
          "output_type": "stream",
          "text": [
            "100%|██████████| 11.9k/11.9k [00:07<00:00, 1.62kit/s]\n",
            "0.00it [00:00, ?it/s]\n"
          ],
          "name": "stderr"
        },
        {
          "output_type": "stream",
          "text": [
            "\n",
            "Epoch 00001: LearningRateScheduler reducing learning rate to 1e-05.\n",
            "372/372 [==============================] - 30s 79ms/step - acc: 0.8571 - loss: 0.4503 - lr: 1.0000e-05\n",
            "Epoch 0/3 Step 17/335\n",
            "Loading Data...\n"
          ],
          "name": "stdout"
        },
        {
          "output_type": "stream",
          "text": [
            "100%|██████████| 11.9k/11.9k [00:05<00:00, 2.20kit/s]\n",
            "0.00it [00:00, ?it/s]\n"
          ],
          "name": "stderr"
        },
        {
          "output_type": "stream",
          "text": [
            "\n",
            "Epoch 00001: LearningRateScheduler reducing learning rate to 1e-05.\n",
            "372/372 [==============================] - 29s 78ms/step - acc: 0.8528 - loss: 0.4542 - lr: 1.0000e-05\n",
            "Epoch 0/3 Step 18/335\n",
            "Loading Data...\n"
          ],
          "name": "stdout"
        },
        {
          "output_type": "stream",
          "text": [
            "100%|██████████| 11.9k/11.9k [00:05<00:00, 2.23kit/s]\n",
            "0.00it [00:00, ?it/s]\n"
          ],
          "name": "stderr"
        },
        {
          "output_type": "stream",
          "text": [
            "\n",
            "Epoch 00001: LearningRateScheduler reducing learning rate to 1e-05.\n",
            "372/372 [==============================] - 30s 80ms/step - acc: 0.8531 - loss: 0.4538 - lr: 1.0000e-05\n",
            "Epoch 0/3 Step 19/335\n",
            "Loading Data...\n"
          ],
          "name": "stdout"
        },
        {
          "output_type": "stream",
          "text": [
            "100%|██████████| 11.9k/11.9k [00:05<00:00, 2.22kit/s]\n",
            "0.00it [00:00, ?it/s]\n"
          ],
          "name": "stderr"
        },
        {
          "output_type": "stream",
          "text": [
            "\n",
            "Epoch 00001: LearningRateScheduler reducing learning rate to 1e-05.\n",
            "372/372 [==============================] - 30s 79ms/step - acc: 0.8550 - loss: 0.4510 - lr: 1.0000e-05\n",
            "Epoch 0/3 Step 20/335\n",
            "Loading Data...\n"
          ],
          "name": "stdout"
        },
        {
          "output_type": "stream",
          "text": [
            "100%|██████████| 11.9k/11.9k [00:05<00:00, 2.24kit/s]\n",
            "0.00it [00:00, ?it/s]\n"
          ],
          "name": "stderr"
        },
        {
          "output_type": "stream",
          "text": [
            "\n",
            "Epoch 00001: LearningRateScheduler reducing learning rate to 1e-05.\n",
            "372/372 [==============================] - 28s 76ms/step - acc: 0.8600 - loss: 0.4489 - lr: 1.0000e-05\n",
            "Run Validation...\n",
            "3125/3125 [==============================] - 65s 21ms/step - acc: 0.8670 - loss: 0.4411\n",
            "Epoch 0/3 Step 21/335\n",
            "Loading Data...\n"
          ],
          "name": "stdout"
        },
        {
          "output_type": "stream",
          "text": [
            "100%|██████████| 11.9k/11.9k [00:05<00:00, 2.22kit/s]\n",
            "0.00it [00:00, ?it/s]\n"
          ],
          "name": "stderr"
        },
        {
          "output_type": "stream",
          "text": [
            "\n",
            "Epoch 00001: LearningRateScheduler reducing learning rate to 1e-05.\n",
            "372/372 [==============================] - 29s 78ms/step - acc: 0.8614 - loss: 0.4468 - lr: 1.0000e-05\n",
            "Epoch 0/3 Step 22/335\n",
            "Loading Data...\n"
          ],
          "name": "stdout"
        },
        {
          "output_type": "stream",
          "text": [
            "100%|██████████| 11.9k/11.9k [00:05<00:00, 2.20kit/s]\n",
            "0.00it [00:00, ?it/s]\n"
          ],
          "name": "stderr"
        },
        {
          "output_type": "stream",
          "text": [
            "\n",
            "Epoch 00001: LearningRateScheduler reducing learning rate to 1e-05.\n",
            "372/372 [==============================] - 28s 76ms/step - acc: 0.8593 - loss: 0.4484 - lr: 1.0000e-05\n",
            "Epoch 0/3 Step 23/335\n",
            "Loading Data...\n"
          ],
          "name": "stdout"
        },
        {
          "output_type": "stream",
          "text": [
            "100%|██████████| 11.9k/11.9k [00:05<00:00, 2.21kit/s]\n",
            "0.00it [00:00, ?it/s]\n"
          ],
          "name": "stderr"
        },
        {
          "output_type": "stream",
          "text": [
            "\n",
            "Epoch 00001: LearningRateScheduler reducing learning rate to 1e-05.\n",
            "372/372 [==============================] - 29s 77ms/step - acc: 0.8591 - loss: 0.4478 - lr: 1.0000e-05\n",
            "Epoch 0/3 Step 24/335\n",
            "Loading Data...\n"
          ],
          "name": "stdout"
        },
        {
          "output_type": "stream",
          "text": [
            "100%|██████████| 11.9k/11.9k [00:05<00:00, 2.26kit/s]\n",
            "0.00it [00:00, ?it/s]\n"
          ],
          "name": "stderr"
        },
        {
          "output_type": "stream",
          "text": [
            "\n",
            "Epoch 00001: LearningRateScheduler reducing learning rate to 1e-05.\n",
            "372/372 [==============================] - 29s 77ms/step - acc: 0.8642 - loss: 0.4445 - lr: 1.0000e-05\n",
            "Epoch 0/3 Step 25/335\n",
            "Loading Data...\n"
          ],
          "name": "stdout"
        },
        {
          "output_type": "stream",
          "text": [
            "100%|██████████| 11.9k/11.9k [00:05<00:00, 2.19kit/s]\n",
            "0.00it [00:00, ?it/s]\n"
          ],
          "name": "stderr"
        },
        {
          "output_type": "stream",
          "text": [
            "\n",
            "Epoch 00001: LearningRateScheduler reducing learning rate to 1e-05.\n",
            "372/372 [==============================] - 29s 78ms/step - acc: 0.8590 - loss: 0.4476 - lr: 1.0000e-05\n",
            "Epoch 0/3 Step 26/335\n",
            "Loading Data...\n"
          ],
          "name": "stdout"
        },
        {
          "output_type": "stream",
          "text": [
            "100%|██████████| 11.9k/11.9k [00:05<00:00, 2.27kit/s]\n",
            "0.00it [00:00, ?it/s]\n"
          ],
          "name": "stderr"
        },
        {
          "output_type": "stream",
          "text": [
            "\n",
            "Epoch 00001: LearningRateScheduler reducing learning rate to 1e-05.\n",
            "372/372 [==============================] - 29s 77ms/step - acc: 0.8693 - loss: 0.4400 - lr: 1.0000e-05\n",
            "Epoch 0/3 Step 27/335\n",
            "Loading Data...\n"
          ],
          "name": "stdout"
        },
        {
          "output_type": "stream",
          "text": [
            "100%|██████████| 11.9k/11.9k [00:05<00:00, 2.21kit/s]\n",
            "0.00it [00:00, ?it/s]\n"
          ],
          "name": "stderr"
        },
        {
          "output_type": "stream",
          "text": [
            "\n",
            "Epoch 00001: LearningRateScheduler reducing learning rate to 1e-05.\n",
            "372/372 [==============================] - 29s 79ms/step - acc: 0.8641 - loss: 0.4447 - lr: 1.0000e-05\n",
            "Epoch 0/3 Step 28/335\n",
            "Loading Data...\n"
          ],
          "name": "stdout"
        },
        {
          "output_type": "stream",
          "text": [
            "100%|██████████| 11.9k/11.9k [00:05<00:00, 2.21kit/s]\n",
            "0.00it [00:00, ?it/s]\n"
          ],
          "name": "stderr"
        },
        {
          "output_type": "stream",
          "text": [
            "\n",
            "Epoch 00001: LearningRateScheduler reducing learning rate to 1e-05.\n",
            "372/372 [==============================] - 29s 79ms/step - acc: 0.8661 - loss: 0.4420 - lr: 1.0000e-05\n",
            "Epoch 0/3 Step 29/335\n",
            "Loading Data...\n"
          ],
          "name": "stdout"
        },
        {
          "output_type": "stream",
          "text": [
            "100%|██████████| 11.9k/11.9k [00:05<00:00, 2.27kit/s]\n",
            "0.00it [00:00, ?it/s]\n"
          ],
          "name": "stderr"
        },
        {
          "output_type": "stream",
          "text": [
            "\n",
            "Epoch 00001: LearningRateScheduler reducing learning rate to 1e-05.\n",
            "372/372 [==============================] - 29s 79ms/step - acc: 0.8679 - loss: 0.4408 - lr: 1.0000e-05\n",
            "Epoch 0/3 Step 30/335\n",
            "Loading Data...\n"
          ],
          "name": "stdout"
        },
        {
          "output_type": "stream",
          "text": [
            "100%|██████████| 11.9k/11.9k [00:05<00:00, 2.20kit/s]\n",
            "0.00it [00:00, ?it/s]\n"
          ],
          "name": "stderr"
        },
        {
          "output_type": "stream",
          "text": [
            "\n",
            "Epoch 00001: LearningRateScheduler reducing learning rate to 1e-05.\n",
            "372/372 [==============================] - 30s 80ms/step - acc: 0.8670 - loss: 0.4418 - lr: 1.0000e-05\n",
            "Run Validation...\n",
            "3125/3125 [==============================] - 67s 21ms/step - acc: 0.8675 - loss: 0.4406\n",
            "Epoch 0/3 Step 31/335\n",
            "Loading Data...\n"
          ],
          "name": "stdout"
        },
        {
          "output_type": "stream",
          "text": [
            "100%|██████████| 11.9k/11.9k [00:05<00:00, 2.23kit/s]\n",
            "0.00it [00:00, ?it/s]\n"
          ],
          "name": "stderr"
        },
        {
          "output_type": "stream",
          "text": [
            "\n",
            "Epoch 00001: LearningRateScheduler reducing learning rate to 1e-05.\n",
            "372/372 [==============================] - 29s 78ms/step - acc: 0.8595 - loss: 0.4459 - lr: 1.0000e-05\n",
            "Epoch 0/3 Step 32/335\n",
            "Loading Data...\n"
          ],
          "name": "stdout"
        },
        {
          "output_type": "stream",
          "text": [
            "100%|██████████| 11.9k/11.9k [00:05<00:00, 2.18kit/s]\n",
            "0.00it [00:00, ?it/s]\n"
          ],
          "name": "stderr"
        },
        {
          "output_type": "stream",
          "text": [
            "\n",
            "Epoch 00001: LearningRateScheduler reducing learning rate to 1e-05.\n",
            "372/372 [==============================] - 29s 78ms/step - acc: 0.8658 - loss: 0.4411 - lr: 1.0000e-05\n",
            "Epoch 0/3 Step 33/335\n",
            "Loading Data...\n"
          ],
          "name": "stdout"
        },
        {
          "output_type": "stream",
          "text": [
            "100%|██████████| 11.9k/11.9k [00:05<00:00, 2.20kit/s]\n",
            "0.00it [00:00, ?it/s]\n"
          ],
          "name": "stderr"
        },
        {
          "output_type": "stream",
          "text": [
            "\n",
            "Epoch 00001: LearningRateScheduler reducing learning rate to 1e-05.\n",
            "372/372 [==============================] - 29s 78ms/step - acc: 0.8645 - loss: 0.4423 - lr: 1.0000e-05\n",
            "Epoch 0/3 Step 34/335\n",
            "Loading Data...\n"
          ],
          "name": "stdout"
        },
        {
          "output_type": "stream",
          "text": [
            "100%|██████████| 11.9k/11.9k [00:05<00:00, 2.17kit/s]\n",
            "0.00it [00:00, ?it/s]\n"
          ],
          "name": "stderr"
        },
        {
          "output_type": "stream",
          "text": [
            "\n",
            "Epoch 00001: LearningRateScheduler reducing learning rate to 1e-05.\n",
            "372/372 [==============================] - 29s 77ms/step - acc: 0.8626 - loss: 0.4438 - lr: 1.0000e-05\n",
            "Epoch 0/3 Step 35/335\n",
            "Loading Data...\n"
          ],
          "name": "stdout"
        },
        {
          "output_type": "stream",
          "text": [
            "100%|██████████| 11.9k/11.9k [00:06<00:00, 1.93kit/s]\n",
            "0.00it [00:00, ?it/s]\n"
          ],
          "name": "stderr"
        },
        {
          "output_type": "stream",
          "text": [
            "\n",
            "Epoch 00001: LearningRateScheduler reducing learning rate to 1e-05.\n",
            "372/372 [==============================] - 29s 79ms/step - acc: 0.8682 - loss: 0.4394 - lr: 1.0000e-05\n",
            "Epoch 0/3 Step 36/335\n",
            "Loading Data...\n"
          ],
          "name": "stdout"
        },
        {
          "output_type": "stream",
          "text": [
            "100%|██████████| 11.9k/11.9k [00:05<00:00, 2.24kit/s]\n",
            "0.00it [00:00, ?it/s]\n"
          ],
          "name": "stderr"
        },
        {
          "output_type": "stream",
          "text": [
            "\n",
            "Epoch 00001: LearningRateScheduler reducing learning rate to 1e-05.\n",
            "372/372 [==============================] - 29s 79ms/step - acc: 0.8705 - loss: 0.4377 - lr: 1.0000e-05\n",
            "Epoch 0/3 Step 37/335\n",
            "Loading Data...\n"
          ],
          "name": "stdout"
        },
        {
          "output_type": "stream",
          "text": [
            "100%|██████████| 11.9k/11.9k [00:05<00:00, 2.25kit/s]\n",
            "0.00it [00:00, ?it/s]\n"
          ],
          "name": "stderr"
        },
        {
          "output_type": "stream",
          "text": [
            "\n",
            "Epoch 00001: LearningRateScheduler reducing learning rate to 1e-05.\n",
            "372/372 [==============================] - 30s 80ms/step - acc: 0.8648 - loss: 0.4432 - lr: 1.0000e-05\n",
            "Epoch 0/3 Step 38/335\n",
            "Loading Data...\n"
          ],
          "name": "stdout"
        },
        {
          "output_type": "stream",
          "text": [
            "100%|██████████| 11.9k/11.9k [00:05<00:00, 2.23kit/s]\n",
            "0.00it [00:00, ?it/s]\n"
          ],
          "name": "stderr"
        },
        {
          "output_type": "stream",
          "text": [
            "\n",
            "Epoch 00001: LearningRateScheduler reducing learning rate to 1e-05.\n",
            "372/372 [==============================] - 30s 80ms/step - acc: 0.8672 - loss: 0.4413 - lr: 1.0000e-05\n",
            "Epoch 0/3 Step 39/335\n",
            "Loading Data...\n"
          ],
          "name": "stdout"
        },
        {
          "output_type": "stream",
          "text": [
            "100%|██████████| 11.9k/11.9k [00:05<00:00, 2.30kit/s]\n",
            "0.00it [00:00, ?it/s]\n"
          ],
          "name": "stderr"
        },
        {
          "output_type": "stream",
          "text": [
            "\n",
            "Epoch 00001: LearningRateScheduler reducing learning rate to 1e-05.\n",
            "372/372 [==============================] - 29s 79ms/step - acc: 0.8661 - loss: 0.4411 - lr: 1.0000e-05\n",
            "Epoch 0/3 Step 40/335\n",
            "Loading Data...\n"
          ],
          "name": "stdout"
        },
        {
          "output_type": "stream",
          "text": [
            "100%|██████████| 11.9k/11.9k [00:05<00:00, 2.20kit/s]\n",
            "0.00it [00:00, ?it/s]\n"
          ],
          "name": "stderr"
        },
        {
          "output_type": "stream",
          "text": [
            "\n",
            "Epoch 00001: LearningRateScheduler reducing learning rate to 1e-05.\n",
            "372/372 [==============================] - 30s 79ms/step - acc: 0.8664 - loss: 0.4417 - lr: 1.0000e-05\n",
            "Run Validation...\n",
            "3125/3125 [==============================] - 66s 21ms/step - acc: 0.8712 - loss: 0.4364\n",
            "Epoch 0/3 Step 41/335\n",
            "Loading Data...\n"
          ],
          "name": "stdout"
        },
        {
          "output_type": "stream",
          "text": [
            "100%|██████████| 11.9k/11.9k [00:05<00:00, 2.24kit/s]\n",
            "0.00it [00:00, ?it/s]\n"
          ],
          "name": "stderr"
        },
        {
          "output_type": "stream",
          "text": [
            "\n",
            "Epoch 00001: LearningRateScheduler reducing learning rate to 1e-05.\n",
            "372/372 [==============================] - 30s 80ms/step - acc: 0.8758 - loss: 0.4325 - lr: 1.0000e-05\n",
            "Epoch 0/3 Step 42/335\n",
            "Loading Data...\n"
          ],
          "name": "stdout"
        },
        {
          "output_type": "stream",
          "text": [
            "100%|██████████| 11.9k/11.9k [00:05<00:00, 2.21kit/s]\n",
            "0.00it [00:00, ?it/s]\n"
          ],
          "name": "stderr"
        },
        {
          "output_type": "stream",
          "text": [
            "\n",
            "Epoch 00001: LearningRateScheduler reducing learning rate to 1e-05.\n",
            "372/372 [==============================] - 30s 80ms/step - acc: 0.8698 - loss: 0.4390 - lr: 1.0000e-05\n",
            "Epoch 0/3 Step 43/335\n",
            "Loading Data...\n"
          ],
          "name": "stdout"
        },
        {
          "output_type": "stream",
          "text": [
            "100%|██████████| 11.9k/11.9k [00:05<00:00, 2.21kit/s]\n",
            "0.00it [00:00, ?it/s]\n"
          ],
          "name": "stderr"
        },
        {
          "output_type": "stream",
          "text": [
            "\n",
            "Epoch 00001: LearningRateScheduler reducing learning rate to 1e-05.\n",
            "372/372 [==============================] - 30s 80ms/step - acc: 0.8674 - loss: 0.4398 - lr: 1.0000e-05\n",
            "Epoch 0/3 Step 44/335\n",
            "Loading Data...\n"
          ],
          "name": "stdout"
        },
        {
          "output_type": "stream",
          "text": [
            "100%|██████████| 11.9k/11.9k [00:05<00:00, 2.19kit/s]\n",
            "0.00it [00:00, ?it/s]\n"
          ],
          "name": "stderr"
        },
        {
          "output_type": "stream",
          "text": [
            "\n",
            "Epoch 00001: LearningRateScheduler reducing learning rate to 1e-05.\n",
            "372/372 [==============================] - 29s 79ms/step - acc: 0.8726 - loss: 0.4353 - lr: 1.0000e-05\n",
            "Epoch 0/3 Step 45/335\n",
            "Loading Data...\n"
          ],
          "name": "stdout"
        },
        {
          "output_type": "stream",
          "text": [
            "100%|██████████| 11.9k/11.9k [00:05<00:00, 2.21kit/s]\n",
            "0.00it [00:00, ?it/s]\n"
          ],
          "name": "stderr"
        },
        {
          "output_type": "stream",
          "text": [
            "\n",
            "Epoch 00001: LearningRateScheduler reducing learning rate to 1e-05.\n",
            "372/372 [==============================] - 31s 83ms/step - acc: 0.8649 - loss: 0.4415 - lr: 1.0000e-05\n",
            "Epoch 0/3 Step 46/335\n",
            "Loading Data...\n"
          ],
          "name": "stdout"
        },
        {
          "output_type": "stream",
          "text": [
            "100%|██████████| 11.9k/11.9k [00:05<00:00, 2.20kit/s]\n",
            "0.00it [00:00, ?it/s]\n"
          ],
          "name": "stderr"
        },
        {
          "output_type": "stream",
          "text": [
            "\n",
            "Epoch 00001: LearningRateScheduler reducing learning rate to 1e-05.\n",
            "372/372 [==============================] - 30s 80ms/step - acc: 0.8717 - loss: 0.4355 - lr: 1.0000e-05\n",
            "Epoch 0/3 Step 47/335\n",
            "Loading Data...\n"
          ],
          "name": "stdout"
        },
        {
          "output_type": "stream",
          "text": [
            "100%|██████████| 11.9k/11.9k [00:05<00:00, 2.06kit/s]\n",
            "0.00it [00:00, ?it/s]\n"
          ],
          "name": "stderr"
        },
        {
          "output_type": "stream",
          "text": [
            "\n",
            "Epoch 00001: LearningRateScheduler reducing learning rate to 1e-05.\n",
            "372/372 [==============================] - 30s 82ms/step - acc: 0.8721 - loss: 0.4344 - lr: 1.0000e-05\n",
            "Epoch 0/3 Step 48/335\n",
            "Loading Data...\n"
          ],
          "name": "stdout"
        },
        {
          "output_type": "stream",
          "text": [
            "100%|██████████| 11.9k/11.9k [00:05<00:00, 2.22kit/s]\n",
            "0.00it [00:00, ?it/s]\n"
          ],
          "name": "stderr"
        },
        {
          "output_type": "stream",
          "text": [
            "\n",
            "Epoch 00001: LearningRateScheduler reducing learning rate to 1e-05.\n",
            "372/372 [==============================] - 30s 80ms/step - acc: 0.8730 - loss: 0.4343 - lr: 1.0000e-05\n",
            "Epoch 0/3 Step 49/335\n",
            "Loading Data...\n"
          ],
          "name": "stdout"
        },
        {
          "output_type": "stream",
          "text": [
            "100%|██████████| 11.9k/11.9k [00:05<00:00, 2.31kit/s]\n",
            "0.00it [00:00, ?it/s]\n"
          ],
          "name": "stderr"
        },
        {
          "output_type": "stream",
          "text": [
            "\n",
            "Epoch 00001: LearningRateScheduler reducing learning rate to 1e-05.\n",
            "372/372 [==============================] - 30s 82ms/step - acc: 0.8716 - loss: 0.4351 - lr: 1.0000e-05\n",
            "Epoch 0/3 Step 50/335\n",
            "Loading Data...\n"
          ],
          "name": "stdout"
        },
        {
          "output_type": "stream",
          "text": [
            "100%|██████████| 11.9k/11.9k [00:05<00:00, 2.25kit/s]\n",
            "0.00it [00:00, ?it/s]\n"
          ],
          "name": "stderr"
        },
        {
          "output_type": "stream",
          "text": [
            "\n",
            "Epoch 00001: LearningRateScheduler reducing learning rate to 1e-05.\n",
            "372/372 [==============================] - 30s 80ms/step - acc: 0.8744 - loss: 0.4328 - lr: 1.0000e-05\n",
            "Run Validation...\n",
            "3125/3125 [==============================] - 67s 21ms/step - acc: 0.8771 - loss: 0.4314\n",
            "Epoch 0/3 Step 51/335\n",
            "Loading Data...\n"
          ],
          "name": "stdout"
        },
        {
          "output_type": "stream",
          "text": [
            "100%|██████████| 11.9k/11.9k [00:05<00:00, 2.20kit/s]\n",
            "0.00it [00:00, ?it/s]\n"
          ],
          "name": "stderr"
        },
        {
          "output_type": "stream",
          "text": [
            "\n",
            "Epoch 00001: LearningRateScheduler reducing learning rate to 1e-05.\n",
            "372/372 [==============================] - 29s 77ms/step - acc: 0.8687 - loss: 0.4383 - lr: 1.0000e-05\n",
            "Epoch 0/3 Step 52/335\n",
            "Loading Data...\n"
          ],
          "name": "stdout"
        },
        {
          "output_type": "stream",
          "text": [
            "100%|██████████| 11.9k/11.9k [00:05<00:00, 2.21kit/s]\n",
            "0.00it [00:00, ?it/s]\n"
          ],
          "name": "stderr"
        },
        {
          "output_type": "stream",
          "text": [
            "\n",
            "Epoch 00001: LearningRateScheduler reducing learning rate to 1e-05.\n",
            "372/372 [==============================] - 29s 77ms/step - acc: 0.8707 - loss: 0.4350 - lr: 1.0000e-05\n",
            "Epoch 0/3 Step 53/335\n",
            "Loading Data...\n"
          ],
          "name": "stdout"
        },
        {
          "output_type": "stream",
          "text": [
            "100%|██████████| 11.9k/11.9k [00:05<00:00, 2.23kit/s]\n",
            "0.00it [00:00, ?it/s]\n"
          ],
          "name": "stderr"
        },
        {
          "output_type": "stream",
          "text": [
            "\n",
            "Epoch 00001: LearningRateScheduler reducing learning rate to 1e-05.\n",
            "372/372 [==============================] - 29s 78ms/step - acc: 0.8726 - loss: 0.4346 - lr: 1.0000e-05\n",
            "Epoch 0/3 Step 54/335\n",
            "Loading Data...\n"
          ],
          "name": "stdout"
        },
        {
          "output_type": "stream",
          "text": [
            "100%|██████████| 11.9k/11.9k [00:05<00:00, 2.22kit/s]\n",
            "0.00it [00:00, ?it/s]\n"
          ],
          "name": "stderr"
        },
        {
          "output_type": "stream",
          "text": [
            "\n",
            "Epoch 00001: LearningRateScheduler reducing learning rate to 1e-05.\n",
            "372/372 [==============================] - 29s 78ms/step - acc: 0.8705 - loss: 0.4366 - lr: 1.0000e-05\n",
            "Epoch 0/3 Step 55/335\n",
            "Loading Data...\n"
          ],
          "name": "stdout"
        },
        {
          "output_type": "stream",
          "text": [
            "100%|██████████| 11.9k/11.9k [00:05<00:00, 2.22kit/s]\n",
            "0.00it [00:00, ?it/s]\n"
          ],
          "name": "stderr"
        },
        {
          "output_type": "stream",
          "text": [
            "\n",
            "Epoch 00001: LearningRateScheduler reducing learning rate to 1e-05.\n",
            "372/372 [==============================] - 29s 78ms/step - acc: 0.8700 - loss: 0.4363 - lr: 1.0000e-05\n",
            "Epoch 0/3 Step 56/335\n",
            "Loading Data...\n"
          ],
          "name": "stdout"
        },
        {
          "output_type": "stream",
          "text": [
            "100%|██████████| 11.9k/11.9k [00:05<00:00, 2.20kit/s]\n",
            "0.00it [00:00, ?it/s]\n"
          ],
          "name": "stderr"
        },
        {
          "output_type": "stream",
          "text": [
            "\n",
            "Epoch 00001: LearningRateScheduler reducing learning rate to 1e-05.\n",
            "372/372 [==============================] - 30s 81ms/step - acc: 0.8745 - loss: 0.4330 - lr: 1.0000e-05\n",
            "Epoch 0/3 Step 57/335\n",
            "Loading Data...\n"
          ],
          "name": "stdout"
        },
        {
          "output_type": "stream",
          "text": [
            "100%|██████████| 11.9k/11.9k [00:05<00:00, 2.11kit/s]\n",
            "0.00it [00:00, ?it/s]\n"
          ],
          "name": "stderr"
        },
        {
          "output_type": "stream",
          "text": [
            "\n",
            "Epoch 00001: LearningRateScheduler reducing learning rate to 1e-05.\n",
            "372/372 [==============================] - 30s 82ms/step - acc: 0.8734 - loss: 0.4348 - lr: 1.0000e-05\n",
            "Epoch 0/3 Step 58/335\n",
            "Loading Data...\n"
          ],
          "name": "stdout"
        },
        {
          "output_type": "stream",
          "text": [
            "100%|██████████| 11.9k/11.9k [00:05<00:00, 2.16kit/s]\n",
            "0.00it [00:00, ?it/s]\n"
          ],
          "name": "stderr"
        },
        {
          "output_type": "stream",
          "text": [
            "\n",
            "Epoch 00001: LearningRateScheduler reducing learning rate to 1e-05.\n",
            "372/372 [==============================] - 30s 80ms/step - acc: 0.8773 - loss: 0.4322 - lr: 1.0000e-05\n",
            "Epoch 0/3 Step 59/335\n",
            "Loading Data...\n"
          ],
          "name": "stdout"
        },
        {
          "output_type": "stream",
          "text": [
            "100%|██████████| 11.9k/11.9k [00:05<00:00, 2.24kit/s]\n",
            "0.00it [00:00, ?it/s]\n"
          ],
          "name": "stderr"
        },
        {
          "output_type": "stream",
          "text": [
            "\n",
            "Epoch 00001: LearningRateScheduler reducing learning rate to 1e-05.\n",
            "372/372 [==============================] - 30s 80ms/step - acc: 0.8711 - loss: 0.4359 - lr: 1.0000e-05\n",
            "Epoch 0/3 Step 60/335\n",
            "Loading Data...\n"
          ],
          "name": "stdout"
        },
        {
          "output_type": "stream",
          "text": [
            "100%|██████████| 11.9k/11.9k [00:05<00:00, 2.14kit/s]\n",
            "0.00it [00:00, ?it/s]\n"
          ],
          "name": "stderr"
        },
        {
          "output_type": "stream",
          "text": [
            "\n",
            "Epoch 00001: LearningRateScheduler reducing learning rate to 1e-05.\n",
            "372/372 [==============================] - 30s 80ms/step - acc: 0.8750 - loss: 0.4301 - lr: 1.0000e-05\n",
            "Run Validation...\n",
            "3125/3125 [==============================] - 68s 22ms/step - acc: 0.8773 - loss: 0.4305\n",
            "Epoch 0/3 Step 61/335\n",
            "Loading Data...\n"
          ],
          "name": "stdout"
        },
        {
          "output_type": "stream",
          "text": [
            "100%|██████████| 11.9k/11.9k [00:05<00:00, 2.23kit/s]\n",
            "0.00it [00:00, ?it/s]\n"
          ],
          "name": "stderr"
        },
        {
          "output_type": "stream",
          "text": [
            "\n",
            "Epoch 00001: LearningRateScheduler reducing learning rate to 1e-05.\n",
            "372/372 [==============================] - 29s 79ms/step - acc: 0.8715 - loss: 0.4356 - lr: 1.0000e-05\n",
            "Epoch 0/3 Step 62/335\n",
            "Loading Data...\n"
          ],
          "name": "stdout"
        },
        {
          "output_type": "stream",
          "text": [
            "100%|██████████| 11.9k/11.9k [00:05<00:00, 2.22kit/s]\n",
            "0.00it [00:00, ?it/s]\n"
          ],
          "name": "stderr"
        },
        {
          "output_type": "stream",
          "text": [
            "\n",
            "Epoch 00001: LearningRateScheduler reducing learning rate to 1e-05.\n",
            "372/372 [==============================] - 31s 82ms/step - acc: 0.8781 - loss: 0.4288 - lr: 1.0000e-05\n",
            "Epoch 0/3 Step 63/335\n",
            "Loading Data...\n"
          ],
          "name": "stdout"
        },
        {
          "output_type": "stream",
          "text": [
            "100%|██████████| 11.9k/11.9k [00:05<00:00, 2.17kit/s]\n",
            "0.00it [00:00, ?it/s]\n"
          ],
          "name": "stderr"
        },
        {
          "output_type": "stream",
          "text": [
            "\n",
            "Epoch 00001: LearningRateScheduler reducing learning rate to 1e-05.\n",
            "372/372 [==============================] - 31s 82ms/step - acc: 0.8763 - loss: 0.4308 - lr: 1.0000e-05\n",
            "Epoch 0/3 Step 64/335\n",
            "Loading Data...\n"
          ],
          "name": "stdout"
        },
        {
          "output_type": "stream",
          "text": [
            "100%|██████████| 11.9k/11.9k [00:05<00:00, 2.19kit/s]\n",
            "0.00it [00:00, ?it/s]\n"
          ],
          "name": "stderr"
        },
        {
          "output_type": "stream",
          "text": [
            "\n",
            "Epoch 00001: LearningRateScheduler reducing learning rate to 1e-05.\n",
            "372/372 [==============================] - 30s 80ms/step - acc: 0.8763 - loss: 0.4323 - lr: 1.0000e-05\n",
            "Epoch 0/3 Step 65/335\n",
            "Loading Data...\n"
          ],
          "name": "stdout"
        },
        {
          "output_type": "stream",
          "text": [
            "100%|██████████| 11.9k/11.9k [00:05<00:00, 2.22kit/s]\n",
            "0.00it [00:00, ?it/s]\n"
          ],
          "name": "stderr"
        },
        {
          "output_type": "stream",
          "text": [
            "\n",
            "Epoch 00001: LearningRateScheduler reducing learning rate to 1e-05.\n",
            "372/372 [==============================] - 30s 81ms/step - acc: 0.8726 - loss: 0.4350 - lr: 1.0000e-05\n",
            "Epoch 0/3 Step 66/335\n",
            "Loading Data...\n"
          ],
          "name": "stdout"
        },
        {
          "output_type": "stream",
          "text": [
            "100%|██████████| 11.9k/11.9k [00:05<00:00, 2.08kit/s]\n",
            "0.00it [00:00, ?it/s]\n"
          ],
          "name": "stderr"
        },
        {
          "output_type": "stream",
          "text": [
            "\n",
            "Epoch 00001: LearningRateScheduler reducing learning rate to 1e-05.\n",
            "372/372 [==============================] - 30s 81ms/step - acc: 0.8761 - loss: 0.4301 - lr: 1.0000e-05\n",
            "Epoch 0/3 Step 67/335\n",
            "Loading Data...\n"
          ],
          "name": "stdout"
        },
        {
          "output_type": "stream",
          "text": [
            "100%|██████████| 11.9k/11.9k [00:05<00:00, 2.21kit/s]\n",
            "0.00it [00:00, ?it/s]\n"
          ],
          "name": "stderr"
        },
        {
          "output_type": "stream",
          "text": [
            "\n",
            "Epoch 00001: LearningRateScheduler reducing learning rate to 1e-05.\n",
            "372/372 [==============================] - 30s 79ms/step - acc: 0.8750 - loss: 0.4331 - lr: 1.0000e-05\n",
            "Epoch 0/3 Step 68/335\n",
            "Loading Data...\n"
          ],
          "name": "stdout"
        },
        {
          "output_type": "stream",
          "text": [
            "100%|██████████| 11.9k/11.9k [00:05<00:00, 2.27kit/s]\n",
            "0.00it [00:00, ?it/s]\n"
          ],
          "name": "stderr"
        },
        {
          "output_type": "stream",
          "text": [
            "\n",
            "Epoch 00001: LearningRateScheduler reducing learning rate to 1e-05.\n",
            "372/372 [==============================] - 30s 80ms/step - acc: 0.8768 - loss: 0.4302 - lr: 1.0000e-05\n",
            "Epoch 0/3 Step 69/335\n",
            "Loading Data...\n"
          ],
          "name": "stdout"
        },
        {
          "output_type": "stream",
          "text": [
            "100%|██████████| 11.9k/11.9k [00:05<00:00, 2.22kit/s]\n",
            "0.00it [00:00, ?it/s]\n"
          ],
          "name": "stderr"
        },
        {
          "output_type": "stream",
          "text": [
            "\n",
            "Epoch 00001: LearningRateScheduler reducing learning rate to 1e-05.\n",
            "372/372 [==============================] - 30s 80ms/step - acc: 0.8768 - loss: 0.4296 - lr: 1.0000e-05\n",
            "Epoch 0/3 Step 70/335\n",
            "Loading Data...\n"
          ],
          "name": "stdout"
        },
        {
          "output_type": "stream",
          "text": [
            "100%|██████████| 11.9k/11.9k [00:05<00:00, 2.17kit/s]\n",
            "0.00it [00:00, ?it/s]\n"
          ],
          "name": "stderr"
        },
        {
          "output_type": "stream",
          "text": [
            "\n",
            "Epoch 00001: LearningRateScheduler reducing learning rate to 1e-05.\n",
            "372/372 [==============================] - 30s 80ms/step - acc: 0.8788 - loss: 0.4298 - lr: 1.0000e-05\n",
            "Run Validation...\n",
            "3125/3125 [==============================] - 68s 22ms/step - acc: 0.8803 - loss: 0.4279\n",
            "Epoch 0/3 Step 71/335\n",
            "Loading Data...\n"
          ],
          "name": "stdout"
        },
        {
          "output_type": "stream",
          "text": [
            "100%|██████████| 11.9k/11.9k [00:05<00:00, 2.20kit/s]\n",
            "0.00it [00:00, ?it/s]\n"
          ],
          "name": "stderr"
        },
        {
          "output_type": "stream",
          "text": [
            "\n",
            "Epoch 00001: LearningRateScheduler reducing learning rate to 1e-05.\n",
            "372/372 [==============================] - 30s 82ms/step - acc: 0.8716 - loss: 0.4344 - lr: 1.0000e-05\n",
            "Epoch 0/3 Step 72/335\n",
            "Loading Data...\n"
          ],
          "name": "stdout"
        },
        {
          "output_type": "stream",
          "text": [
            "100%|██████████| 11.9k/11.9k [00:05<00:00, 2.17kit/s]\n",
            "0.00it [00:00, ?it/s]\n"
          ],
          "name": "stderr"
        },
        {
          "output_type": "stream",
          "text": [
            "\n",
            "Epoch 00001: LearningRateScheduler reducing learning rate to 1e-05.\n",
            "372/372 [==============================] - 30s 79ms/step - acc: 0.8800 - loss: 0.4275 - lr: 1.0000e-05\n",
            "Epoch 0/3 Step 73/335\n",
            "Loading Data...\n"
          ],
          "name": "stdout"
        },
        {
          "output_type": "stream",
          "text": [
            "100%|██████████| 11.9k/11.9k [00:05<00:00, 2.17kit/s]\n",
            "0.00it [00:00, ?it/s]\n"
          ],
          "name": "stderr"
        },
        {
          "output_type": "stream",
          "text": [
            "\n",
            "Epoch 00001: LearningRateScheduler reducing learning rate to 1e-05.\n",
            "372/372 [==============================] - 31s 83ms/step - acc: 0.8774 - loss: 0.4291 - lr: 1.0000e-05\n",
            "Epoch 0/3 Step 74/335\n",
            "Loading Data...\n"
          ],
          "name": "stdout"
        },
        {
          "output_type": "stream",
          "text": [
            "100%|██████████| 11.9k/11.9k [00:05<00:00, 2.21kit/s]\n",
            "0.00it [00:00, ?it/s]\n"
          ],
          "name": "stderr"
        },
        {
          "output_type": "stream",
          "text": [
            "\n",
            "Epoch 00001: LearningRateScheduler reducing learning rate to 1e-05.\n",
            "372/372 [==============================] - 30s 80ms/step - acc: 0.8763 - loss: 0.4316 - lr: 1.0000e-05\n",
            "Epoch 0/3 Step 75/335\n",
            "Loading Data...\n"
          ],
          "name": "stdout"
        },
        {
          "output_type": "stream",
          "text": [
            "100%|██████████| 11.9k/11.9k [00:05<00:00, 2.22kit/s]\n",
            "0.00it [00:00, ?it/s]\n"
          ],
          "name": "stderr"
        },
        {
          "output_type": "stream",
          "text": [
            "\n",
            "Epoch 00001: LearningRateScheduler reducing learning rate to 1e-05.\n",
            "372/372 [==============================] - 30s 80ms/step - acc: 0.8726 - loss: 0.4348 - lr: 1.0000e-05\n",
            "Epoch 0/3 Step 76/335\n",
            "Loading Data...\n"
          ],
          "name": "stdout"
        },
        {
          "output_type": "stream",
          "text": [
            "100%|██████████| 11.9k/11.9k [00:05<00:00, 2.19kit/s]\n",
            "0.00it [00:00, ?it/s]\n"
          ],
          "name": "stderr"
        },
        {
          "output_type": "stream",
          "text": [
            "\n",
            "Epoch 00001: LearningRateScheduler reducing learning rate to 1e-05.\n",
            "372/372 [==============================] - 31s 82ms/step - acc: 0.8777 - loss: 0.4285 - lr: 1.0000e-05\n",
            "Epoch 0/3 Step 77/335\n",
            "Loading Data...\n"
          ],
          "name": "stdout"
        },
        {
          "output_type": "stream",
          "text": [
            "100%|██████████| 11.9k/11.9k [00:05<00:00, 2.21kit/s]\n",
            "0.00it [00:00, ?it/s]\n"
          ],
          "name": "stderr"
        },
        {
          "output_type": "stream",
          "text": [
            "\n",
            "Epoch 00001: LearningRateScheduler reducing learning rate to 1e-05.\n",
            "372/372 [==============================] - 30s 82ms/step - acc: 0.8820 - loss: 0.4262 - lr: 1.0000e-05\n",
            "Epoch 0/3 Step 78/335\n",
            "Loading Data...\n"
          ],
          "name": "stdout"
        },
        {
          "output_type": "stream",
          "text": [
            "100%|██████████| 11.9k/11.9k [00:05<00:00, 2.17kit/s]\n",
            "0.00it [00:00, ?it/s]\n"
          ],
          "name": "stderr"
        },
        {
          "output_type": "stream",
          "text": [
            "\n",
            "Epoch 00001: LearningRateScheduler reducing learning rate to 1e-05.\n",
            "372/372 [==============================] - 30s 81ms/step - acc: 0.8816 - loss: 0.4257 - lr: 1.0000e-05\n",
            "Epoch 0/3 Step 79/335\n",
            "Loading Data...\n"
          ],
          "name": "stdout"
        },
        {
          "output_type": "stream",
          "text": [
            "100%|██████████| 11.9k/11.9k [00:05<00:00, 2.19kit/s]\n",
            "0.00it [00:00, ?it/s]\n"
          ],
          "name": "stderr"
        },
        {
          "output_type": "stream",
          "text": [
            "\n",
            "Epoch 00001: LearningRateScheduler reducing learning rate to 1e-05.\n",
            "372/372 [==============================] - 31s 82ms/step - acc: 0.8799 - loss: 0.4268 - lr: 1.0000e-05\n",
            "Epoch 0/3 Step 80/335\n",
            "Loading Data...\n"
          ],
          "name": "stdout"
        },
        {
          "output_type": "stream",
          "text": [
            "100%|██████████| 11.9k/11.9k [00:05<00:00, 2.21kit/s]\n",
            "0.00it [00:00, ?it/s]\n"
          ],
          "name": "stderr"
        },
        {
          "output_type": "stream",
          "text": [
            "\n",
            "Epoch 00001: LearningRateScheduler reducing learning rate to 1e-05.\n",
            "372/372 [==============================] - 29s 77ms/step - acc: 0.8808 - loss: 0.4269 - lr: 1.0000e-05\n",
            "Run Validation...\n",
            "3125/3125 [==============================] - 67s 21ms/step - acc: 0.8709 - loss: 0.4362\n",
            "No improvement since: 1\n",
            "Epoch 0/3 Step 81/335\n",
            "Loading Data...\n"
          ],
          "name": "stdout"
        },
        {
          "output_type": "stream",
          "text": [
            "100%|██████████| 11.9k/11.9k [00:05<00:00, 2.23kit/s]\n",
            "0.00it [00:00, ?it/s]\n"
          ],
          "name": "stderr"
        },
        {
          "output_type": "stream",
          "text": [
            "\n",
            "Epoch 00001: LearningRateScheduler reducing learning rate to 1e-05.\n",
            "372/372 [==============================] - 29s 79ms/step - acc: 0.8800 - loss: 0.4262 - lr: 1.0000e-05\n",
            "Epoch 0/3 Step 82/335\n",
            "Loading Data...\n"
          ],
          "name": "stdout"
        },
        {
          "output_type": "stream",
          "text": [
            "100%|██████████| 11.9k/11.9k [00:05<00:00, 2.21kit/s]\n",
            "0.00it [00:00, ?it/s]\n"
          ],
          "name": "stderr"
        },
        {
          "output_type": "stream",
          "text": [
            "\n",
            "Epoch 00001: LearningRateScheduler reducing learning rate to 1e-05.\n",
            "372/372 [==============================] - 30s 80ms/step - acc: 0.8780 - loss: 0.4299 - lr: 1.0000e-05\n",
            "Epoch 0/3 Step 83/335\n",
            "Loading Data...\n"
          ],
          "name": "stdout"
        },
        {
          "output_type": "stream",
          "text": [
            "100%|██████████| 11.9k/11.9k [00:05<00:00, 2.22kit/s]\n",
            "0.00it [00:00, ?it/s]\n"
          ],
          "name": "stderr"
        },
        {
          "output_type": "stream",
          "text": [
            "\n",
            "Epoch 00001: LearningRateScheduler reducing learning rate to 1e-05.\n",
            "372/372 [==============================] - 30s 80ms/step - acc: 0.8761 - loss: 0.4302 - lr: 1.0000e-05\n",
            "Epoch 0/3 Step 84/335\n",
            "Loading Data...\n"
          ],
          "name": "stdout"
        },
        {
          "output_type": "stream",
          "text": [
            "100%|██████████| 11.9k/11.9k [00:05<00:00, 2.20kit/s]\n",
            "0.00it [00:00, ?it/s]\n"
          ],
          "name": "stderr"
        },
        {
          "output_type": "stream",
          "text": [
            "\n",
            "Epoch 00001: LearningRateScheduler reducing learning rate to 1e-05.\n",
            "372/372 [==============================] - 31s 82ms/step - acc: 0.8753 - loss: 0.4283 - lr: 1.0000e-05\n",
            "Epoch 0/3 Step 85/335\n",
            "Loading Data...\n"
          ],
          "name": "stdout"
        },
        {
          "output_type": "stream",
          "text": [
            "100%|██████████| 11.9k/11.9k [00:05<00:00, 2.19kit/s]\n",
            "0.00it [00:00, ?it/s]\n"
          ],
          "name": "stderr"
        },
        {
          "output_type": "stream",
          "text": [
            "\n",
            "Epoch 00001: LearningRateScheduler reducing learning rate to 1e-05.\n",
            "372/372 [==============================] - 29s 78ms/step - acc: 0.8796 - loss: 0.4280 - lr: 1.0000e-05\n",
            "Epoch 0/3 Step 86/335\n",
            "Loading Data...\n"
          ],
          "name": "stdout"
        },
        {
          "output_type": "stream",
          "text": [
            "100%|██████████| 11.9k/11.9k [00:05<00:00, 2.21kit/s]\n",
            "0.00it [00:00, ?it/s]\n"
          ],
          "name": "stderr"
        },
        {
          "output_type": "stream",
          "text": [
            "\n",
            "Epoch 00001: LearningRateScheduler reducing learning rate to 1e-05.\n",
            "372/372 [==============================] - 31s 83ms/step - acc: 0.8742 - loss: 0.4318 - lr: 1.0000e-05\n",
            "Epoch 0/3 Step 87/335\n",
            "Loading Data...\n"
          ],
          "name": "stdout"
        },
        {
          "output_type": "stream",
          "text": [
            "100%|██████████| 11.9k/11.9k [00:05<00:00, 2.23kit/s]\n",
            "0.00it [00:00, ?it/s]\n"
          ],
          "name": "stderr"
        },
        {
          "output_type": "stream",
          "text": [
            "\n",
            "Epoch 00001: LearningRateScheduler reducing learning rate to 1e-05.\n",
            "372/372 [==============================] - 30s 80ms/step - acc: 0.8769 - loss: 0.4291 - lr: 1.0000e-05\n",
            "Epoch 0/3 Step 88/335\n",
            "Loading Data...\n"
          ],
          "name": "stdout"
        },
        {
          "output_type": "stream",
          "text": [
            "100%|██████████| 11.9k/11.9k [00:05<00:00, 2.22kit/s]\n",
            "0.00it [00:00, ?it/s]\n"
          ],
          "name": "stderr"
        },
        {
          "output_type": "stream",
          "text": [
            "\n",
            "Epoch 00001: LearningRateScheduler reducing learning rate to 1e-05.\n",
            "372/372 [==============================] - 30s 81ms/step - acc: 0.8786 - loss: 0.4293 - lr: 1.0000e-05\n",
            "Epoch 0/3 Step 89/335\n",
            "Loading Data...\n"
          ],
          "name": "stdout"
        },
        {
          "output_type": "stream",
          "text": [
            "100%|██████████| 11.9k/11.9k [00:05<00:00, 2.21kit/s]\n",
            "0.00it [00:00, ?it/s]\n"
          ],
          "name": "stderr"
        },
        {
          "output_type": "stream",
          "text": [
            "\n",
            "Epoch 00001: LearningRateScheduler reducing learning rate to 1e-05.\n",
            "372/372 [==============================] - 29s 78ms/step - acc: 0.8752 - loss: 0.4306 - lr: 1.0000e-05\n",
            "Epoch 0/3 Step 90/335\n",
            "Loading Data...\n"
          ],
          "name": "stdout"
        },
        {
          "output_type": "stream",
          "text": [
            "100%|██████████| 11.9k/11.9k [00:05<00:00, 2.20kit/s]\n",
            "0.00it [00:00, ?it/s]\n"
          ],
          "name": "stderr"
        },
        {
          "output_type": "stream",
          "text": [
            "\n",
            "Epoch 00001: LearningRateScheduler reducing learning rate to 1e-05.\n",
            "372/372 [==============================] - 30s 79ms/step - acc: 0.8781 - loss: 0.4289 - lr: 1.0000e-05\n",
            "Run Validation...\n",
            "3125/3125 [==============================] - 67s 21ms/step - acc: 0.8831 - loss: 0.4241\n",
            "Epoch 0/3 Step 91/335\n",
            "Loading Data...\n"
          ],
          "name": "stdout"
        },
        {
          "output_type": "stream",
          "text": [
            "100%|██████████| 11.9k/11.9k [00:05<00:00, 2.20kit/s]\n",
            "0.00it [00:00, ?it/s]\n"
          ],
          "name": "stderr"
        },
        {
          "output_type": "stream",
          "text": [
            "\n",
            "Epoch 00001: LearningRateScheduler reducing learning rate to 1e-05.\n",
            "372/372 [==============================] - 29s 79ms/step - acc: 0.8833 - loss: 0.4246 - lr: 1.0000e-05\n",
            "Epoch 0/3 Step 92/335\n",
            "Loading Data...\n"
          ],
          "name": "stdout"
        },
        {
          "output_type": "stream",
          "text": [
            "100%|██████████| 11.9k/11.9k [00:05<00:00, 2.20kit/s]\n",
            "0.00it [00:00, ?it/s]\n"
          ],
          "name": "stderr"
        },
        {
          "output_type": "stream",
          "text": [
            "\n",
            "Epoch 00001: LearningRateScheduler reducing learning rate to 1e-05.\n",
            "372/372 [==============================] - 30s 80ms/step - acc: 0.8716 - loss: 0.4341 - lr: 1.0000e-05\n",
            "Epoch 0/3 Step 93/335\n",
            "Loading Data...\n"
          ],
          "name": "stdout"
        },
        {
          "output_type": "stream",
          "text": [
            "100%|██████████| 11.9k/11.9k [00:05<00:00, 2.18kit/s]\n",
            "0.00it [00:00, ?it/s]\n"
          ],
          "name": "stderr"
        },
        {
          "output_type": "stream",
          "text": [
            "\n",
            "Epoch 00001: LearningRateScheduler reducing learning rate to 1e-05.\n",
            "372/372 [==============================] - 30s 80ms/step - acc: 0.8794 - loss: 0.4262 - lr: 1.0000e-05\n",
            "Epoch 0/3 Step 94/335\n",
            "Loading Data...\n"
          ],
          "name": "stdout"
        },
        {
          "output_type": "stream",
          "text": [
            "100%|██████████| 11.9k/11.9k [00:05<00:00, 2.21kit/s]\n",
            "0.00it [00:00, ?it/s]\n"
          ],
          "name": "stderr"
        },
        {
          "output_type": "stream",
          "text": [
            "\n",
            "Epoch 00001: LearningRateScheduler reducing learning rate to 1e-05.\n",
            "372/372 [==============================] - 30s 80ms/step - acc: 0.8795 - loss: 0.4283 - lr: 1.0000e-05\n",
            "Epoch 0/3 Step 95/335\n",
            "Loading Data...\n"
          ],
          "name": "stdout"
        },
        {
          "output_type": "stream",
          "text": [
            "100%|██████████| 11.9k/11.9k [00:05<00:00, 2.06kit/s]\n",
            "0.00it [00:00, ?it/s]\n"
          ],
          "name": "stderr"
        },
        {
          "output_type": "stream",
          "text": [
            "\n",
            "Epoch 00001: LearningRateScheduler reducing learning rate to 1e-05.\n",
            "372/372 [==============================] - 29s 78ms/step - acc: 0.8772 - loss: 0.4295 - lr: 1.0000e-05\n",
            "Epoch 0/3 Step 96/335\n",
            "Loading Data...\n"
          ],
          "name": "stdout"
        },
        {
          "output_type": "stream",
          "text": [
            "100%|██████████| 11.9k/11.9k [00:05<00:00, 2.19kit/s]\n",
            "0.00it [00:00, ?it/s]\n"
          ],
          "name": "stderr"
        },
        {
          "output_type": "stream",
          "text": [
            "\n",
            "Epoch 00001: LearningRateScheduler reducing learning rate to 1e-05.\n",
            "372/372 [==============================] - 30s 79ms/step - acc: 0.8833 - loss: 0.4253 - lr: 1.0000e-05\n",
            "Epoch 0/3 Step 97/335\n",
            "Loading Data...\n"
          ],
          "name": "stdout"
        },
        {
          "output_type": "stream",
          "text": [
            "100%|██████████| 11.9k/11.9k [00:05<00:00, 2.20kit/s]\n",
            "0.00it [00:00, ?it/s]\n"
          ],
          "name": "stderr"
        },
        {
          "output_type": "stream",
          "text": [
            "\n",
            "Epoch 00001: LearningRateScheduler reducing learning rate to 1e-05.\n",
            "372/372 [==============================] - 29s 79ms/step - acc: 0.8804 - loss: 0.4265 - lr: 1.0000e-05\n",
            "Epoch 0/3 Step 98/335\n",
            "Loading Data...\n"
          ],
          "name": "stdout"
        },
        {
          "output_type": "stream",
          "text": [
            "100%|██████████| 11.9k/11.9k [00:05<00:00, 2.24kit/s]\n",
            "0.00it [00:00, ?it/s]\n"
          ],
          "name": "stderr"
        },
        {
          "output_type": "stream",
          "text": [
            "\n",
            "Epoch 00001: LearningRateScheduler reducing learning rate to 1e-05.\n",
            "372/372 [==============================] - 29s 79ms/step - acc: 0.8748 - loss: 0.4320 - lr: 1.0000e-05\n",
            "Epoch 0/3 Step 99/335\n",
            "Loading Data...\n"
          ],
          "name": "stdout"
        },
        {
          "output_type": "stream",
          "text": [
            "100%|██████████| 11.9k/11.9k [00:05<00:00, 2.19kit/s]\n",
            "0.00it [00:00, ?it/s]\n"
          ],
          "name": "stderr"
        },
        {
          "output_type": "stream",
          "text": [
            "\n",
            "Epoch 00001: LearningRateScheduler reducing learning rate to 1e-05.\n",
            "372/372 [==============================] - 30s 80ms/step - acc: 0.8798 - loss: 0.4280 - lr: 1.0000e-05\n",
            "Epoch 0/3 Step 100/335\n",
            "Loading Data...\n"
          ],
          "name": "stdout"
        },
        {
          "output_type": "stream",
          "text": [
            "100%|██████████| 11.9k/11.9k [00:05<00:00, 2.20kit/s]\n",
            "0.00it [00:00, ?it/s]\n"
          ],
          "name": "stderr"
        },
        {
          "output_type": "stream",
          "text": [
            "\n",
            "Epoch 00001: LearningRateScheduler reducing learning rate to 1e-05.\n",
            "372/372 [==============================] - 30s 80ms/step - acc: 0.8811 - loss: 0.4270 - lr: 1.0000e-05\n",
            "Run Validation...\n",
            "3125/3125 [==============================] - 66s 21ms/step - acc: 0.8843 - loss: 0.4230\n",
            "Epoch 0/3 Step 101/335\n",
            "Loading Data...\n"
          ],
          "name": "stdout"
        },
        {
          "output_type": "stream",
          "text": [
            "100%|██████████| 11.9k/11.9k [00:06<00:00, 1.93kit/s]\n",
            "0.00it [00:00, ?it/s]\n"
          ],
          "name": "stderr"
        },
        {
          "output_type": "stream",
          "text": [
            "\n",
            "Epoch 00001: LearningRateScheduler reducing learning rate to 1e-05.\n",
            "372/372 [==============================] - 29s 79ms/step - acc: 0.8795 - loss: 0.4284 - lr: 1.0000e-05\n",
            "Epoch 0/3 Step 102/335\n",
            "Loading Data...\n"
          ],
          "name": "stdout"
        },
        {
          "output_type": "stream",
          "text": [
            "100%|██████████| 11.9k/11.9k [00:05<00:00, 2.21kit/s]\n",
            "0.00it [00:00, ?it/s]\n"
          ],
          "name": "stderr"
        },
        {
          "output_type": "stream",
          "text": [
            "\n",
            "Epoch 00001: LearningRateScheduler reducing learning rate to 1e-05.\n",
            "372/372 [==============================] - 30s 81ms/step - acc: 0.8804 - loss: 0.4272 - lr: 1.0000e-05\n",
            "Epoch 0/3 Step 103/335\n",
            "Loading Data...\n"
          ],
          "name": "stdout"
        },
        {
          "output_type": "stream",
          "text": [
            "100%|██████████| 11.9k/11.9k [00:05<00:00, 2.18kit/s]\n",
            "0.00it [00:00, ?it/s]\n"
          ],
          "name": "stderr"
        },
        {
          "output_type": "stream",
          "text": [
            "\n",
            "Epoch 00001: LearningRateScheduler reducing learning rate to 1e-05.\n",
            "372/372 [==============================] - 29s 79ms/step - acc: 0.8791 - loss: 0.4271 - lr: 1.0000e-05\n",
            "Epoch 0/3 Step 104/335\n",
            "Loading Data...\n"
          ],
          "name": "stdout"
        },
        {
          "output_type": "stream",
          "text": [
            "100%|██████████| 11.9k/11.9k [00:05<00:00, 2.06kit/s]\n",
            "0.00it [00:00, ?it/s]\n"
          ],
          "name": "stderr"
        },
        {
          "output_type": "stream",
          "text": [
            "\n",
            "Epoch 00001: LearningRateScheduler reducing learning rate to 1e-05.\n",
            "372/372 [==============================] - 29s 79ms/step - acc: 0.8776 - loss: 0.4302 - lr: 1.0000e-05\n",
            "Epoch 0/3 Step 105/335\n",
            "Loading Data...\n"
          ],
          "name": "stdout"
        },
        {
          "output_type": "stream",
          "text": [
            "100%|██████████| 11.9k/11.9k [00:05<00:00, 2.22kit/s]\n",
            "0.00it [00:00, ?it/s]\n"
          ],
          "name": "stderr"
        },
        {
          "output_type": "stream",
          "text": [
            "\n",
            "Epoch 00001: LearningRateScheduler reducing learning rate to 1e-05.\n",
            "372/372 [==============================] - 29s 79ms/step - acc: 0.8847 - loss: 0.4223 - lr: 1.0000e-05\n",
            "Epoch 0/3 Step 106/335\n",
            "Loading Data...\n"
          ],
          "name": "stdout"
        },
        {
          "output_type": "stream",
          "text": [
            "100%|██████████| 11.9k/11.9k [00:05<00:00, 2.19kit/s]\n",
            "0.00it [00:00, ?it/s]\n"
          ],
          "name": "stderr"
        },
        {
          "output_type": "stream",
          "text": [
            "\n",
            "Epoch 00001: LearningRateScheduler reducing learning rate to 1e-05.\n",
            "372/372 [==============================] - 29s 79ms/step - acc: 0.8818 - loss: 0.4245 - lr: 1.0000e-05\n",
            "Epoch 0/3 Step 107/335\n",
            "Loading Data...\n"
          ],
          "name": "stdout"
        },
        {
          "output_type": "stream",
          "text": [
            "100%|██████████| 11.9k/11.9k [00:05<00:00, 2.21kit/s]\n",
            "0.00it [00:00, ?it/s]\n"
          ],
          "name": "stderr"
        },
        {
          "output_type": "stream",
          "text": [
            "\n",
            "Epoch 00001: LearningRateScheduler reducing learning rate to 1e-05.\n",
            "372/372 [==============================] - 29s 78ms/step - acc: 0.8803 - loss: 0.4260 - lr: 1.0000e-05\n",
            "Epoch 0/3 Step 108/335\n",
            "Loading Data...\n"
          ],
          "name": "stdout"
        },
        {
          "output_type": "stream",
          "text": [
            "100%|██████████| 11.9k/11.9k [00:05<00:00, 2.20kit/s]\n",
            "0.00it [00:00, ?it/s]\n"
          ],
          "name": "stderr"
        },
        {
          "output_type": "stream",
          "text": [
            "\n",
            "Epoch 00001: LearningRateScheduler reducing learning rate to 1e-05.\n",
            "372/372 [==============================] - 30s 81ms/step - acc: 0.8807 - loss: 0.4264 - lr: 1.0000e-05\n",
            "Epoch 0/3 Step 109/335\n",
            "Loading Data...\n"
          ],
          "name": "stdout"
        },
        {
          "output_type": "stream",
          "text": [
            "100%|██████████| 11.9k/11.9k [00:05<00:00, 2.16kit/s]\n",
            "0.00it [00:00, ?it/s]\n"
          ],
          "name": "stderr"
        },
        {
          "output_type": "stream",
          "text": [
            "\n",
            "Epoch 00001: LearningRateScheduler reducing learning rate to 1e-05.\n",
            "372/372 [==============================] - 30s 80ms/step - acc: 0.8796 - loss: 0.4274 - lr: 1.0000e-05\n",
            "Epoch 0/3 Step 110/335\n",
            "Loading Data...\n"
          ],
          "name": "stdout"
        },
        {
          "output_type": "stream",
          "text": [
            "100%|██████████| 11.9k/11.9k [00:05<00:00, 2.17kit/s]\n",
            "0.00it [00:00, ?it/s]\n"
          ],
          "name": "stderr"
        },
        {
          "output_type": "stream",
          "text": [
            "\n",
            "Epoch 00001: LearningRateScheduler reducing learning rate to 1e-05.\n",
            "372/372 [==============================] - 30s 80ms/step - acc: 0.8844 - loss: 0.4234 - lr: 1.0000e-05\n",
            "Run Validation...\n",
            "3125/3125 [==============================] - 66s 21ms/step - acc: 0.8871 - loss: 0.4209\n",
            "Epoch 0/3 Step 111/335\n",
            "Loading Data...\n"
          ],
          "name": "stdout"
        },
        {
          "output_type": "stream",
          "text": [
            "100%|██████████| 11.9k/11.9k [00:05<00:00, 2.17kit/s]\n",
            "0.00it [00:00, ?it/s]\n"
          ],
          "name": "stderr"
        },
        {
          "output_type": "stream",
          "text": [
            "\n",
            "Epoch 00001: LearningRateScheduler reducing learning rate to 1e-05.\n",
            "372/372 [==============================] - 30s 80ms/step - acc: 0.8812 - loss: 0.4248 - lr: 1.0000e-05\n",
            "Epoch 0/3 Step 112/335\n",
            "Loading Data...\n"
          ],
          "name": "stdout"
        },
        {
          "output_type": "stream",
          "text": [
            "100%|██████████| 11.9k/11.9k [00:07<00:00, 1.62kit/s]\n",
            "0.00it [00:00, ?it/s]\n"
          ],
          "name": "stderr"
        },
        {
          "output_type": "stream",
          "text": [
            "\n",
            "Epoch 00001: LearningRateScheduler reducing learning rate to 1e-05.\n",
            "372/372 [==============================] - 29s 79ms/step - acc: 0.8805 - loss: 0.4258 - lr: 1.0000e-05\n",
            "Epoch 0/3 Step 113/335\n",
            "Loading Data...\n"
          ],
          "name": "stdout"
        },
        {
          "output_type": "stream",
          "text": [
            "100%|██████████| 11.9k/11.9k [00:05<00:00, 2.21kit/s]\n",
            "0.00it [00:00, ?it/s]\n"
          ],
          "name": "stderr"
        },
        {
          "output_type": "stream",
          "text": [
            "\n",
            "Epoch 00001: LearningRateScheduler reducing learning rate to 1e-05.\n",
            "372/372 [==============================] - 30s 80ms/step - acc: 0.8835 - loss: 0.4236 - lr: 1.0000e-05\n",
            "Epoch 0/3 Step 114/335\n",
            "Loading Data...\n"
          ],
          "name": "stdout"
        },
        {
          "output_type": "stream",
          "text": [
            "100%|██████████| 11.9k/11.9k [00:05<00:00, 2.23kit/s]\n",
            "0.00it [00:00, ?it/s]\n"
          ],
          "name": "stderr"
        },
        {
          "output_type": "stream",
          "text": [
            "\n",
            "Epoch 00001: LearningRateScheduler reducing learning rate to 1e-05.\n",
            "372/372 [==============================] - 30s 81ms/step - acc: 0.8811 - loss: 0.4259 - lr: 1.0000e-05\n",
            "Epoch 0/3 Step 115/335\n",
            "Loading Data...\n"
          ],
          "name": "stdout"
        },
        {
          "output_type": "stream",
          "text": [
            "100%|██████████| 11.9k/11.9k [00:05<00:00, 2.20kit/s]\n",
            "0.00it [00:00, ?it/s]\n"
          ],
          "name": "stderr"
        },
        {
          "output_type": "stream",
          "text": [
            "\n",
            "Epoch 00001: LearningRateScheduler reducing learning rate to 1e-05.\n",
            "372/372 [==============================] - 30s 80ms/step - acc: 0.8820 - loss: 0.4255 - lr: 1.0000e-05\n",
            "Epoch 0/3 Step 116/335\n",
            "Loading Data...\n"
          ],
          "name": "stdout"
        },
        {
          "output_type": "stream",
          "text": [
            "100%|██████████| 11.9k/11.9k [00:05<00:00, 2.17kit/s]\n",
            "0.00it [00:00, ?it/s]\n"
          ],
          "name": "stderr"
        },
        {
          "output_type": "stream",
          "text": [
            "\n",
            "Epoch 00001: LearningRateScheduler reducing learning rate to 1e-05.\n",
            "372/372 [==============================] - 29s 79ms/step - acc: 0.8889 - loss: 0.4188 - lr: 1.0000e-05\n",
            "Epoch 0/3 Step 117/335\n",
            "Loading Data...\n"
          ],
          "name": "stdout"
        },
        {
          "output_type": "stream",
          "text": [
            "100%|██████████| 11.9k/11.9k [00:05<00:00, 2.19kit/s]\n",
            "0.00it [00:00, ?it/s]\n"
          ],
          "name": "stderr"
        },
        {
          "output_type": "stream",
          "text": [
            "\n",
            "Epoch 00001: LearningRateScheduler reducing learning rate to 1e-05.\n",
            "372/372 [==============================] - 29s 78ms/step - acc: 0.8816 - loss: 0.4253 - lr: 1.0000e-05\n",
            "Epoch 0/3 Step 118/335\n",
            "Loading Data...\n"
          ],
          "name": "stdout"
        },
        {
          "output_type": "stream",
          "text": [
            "100%|██████████| 11.9k/11.9k [00:05<00:00, 2.21kit/s]\n",
            "0.00it [00:00, ?it/s]\n"
          ],
          "name": "stderr"
        },
        {
          "output_type": "stream",
          "text": [
            "\n",
            "Epoch 00001: LearningRateScheduler reducing learning rate to 1e-05.\n",
            "372/372 [==============================] - 29s 77ms/step - acc: 0.8836 - loss: 0.4231 - lr: 1.0000e-05\n",
            "Epoch 0/3 Step 119/335\n",
            "Loading Data...\n"
          ],
          "name": "stdout"
        },
        {
          "output_type": "stream",
          "text": [
            "100%|██████████| 11.9k/11.9k [00:05<00:00, 2.20kit/s]\n",
            "0.00it [00:00, ?it/s]\n"
          ],
          "name": "stderr"
        },
        {
          "output_type": "stream",
          "text": [
            "\n",
            "Epoch 00001: LearningRateScheduler reducing learning rate to 1e-05.\n",
            "372/372 [==============================] - 29s 78ms/step - acc: 0.8821 - loss: 0.4248 - lr: 1.0000e-05\n",
            "Epoch 0/3 Step 120/335\n",
            "Loading Data...\n"
          ],
          "name": "stdout"
        },
        {
          "output_type": "stream",
          "text": [
            "100%|██████████| 11.9k/11.9k [00:05<00:00, 2.20kit/s]\n",
            "0.00it [00:00, ?it/s]\n"
          ],
          "name": "stderr"
        },
        {
          "output_type": "stream",
          "text": [
            "\n",
            "Epoch 00001: LearningRateScheduler reducing learning rate to 1e-05.\n",
            "372/372 [==============================] - 29s 78ms/step - acc: 0.8814 - loss: 0.4258 - lr: 1.0000e-05\n",
            "Run Validation...\n",
            "3125/3125 [==============================] - 68s 22ms/step - acc: 0.8859 - loss: 0.4213\n",
            "No improvement since: 1\n",
            "Epoch 0/3 Step 121/335\n",
            "Loading Data...\n"
          ],
          "name": "stdout"
        },
        {
          "output_type": "stream",
          "text": [
            "100%|██████████| 11.9k/11.9k [00:05<00:00, 2.21kit/s]\n",
            "0.00it [00:00, ?it/s]\n"
          ],
          "name": "stderr"
        },
        {
          "output_type": "stream",
          "text": [
            "\n",
            "Epoch 00001: LearningRateScheduler reducing learning rate to 1e-05.\n",
            "372/372 [==============================] - 29s 79ms/step - acc: 0.8826 - loss: 0.4263 - lr: 1.0000e-05\n",
            "Epoch 0/3 Step 122/335\n",
            "Loading Data...\n"
          ],
          "name": "stdout"
        },
        {
          "output_type": "stream",
          "text": [
            "100%|██████████| 11.9k/11.9k [00:05<00:00, 2.18kit/s]\n",
            "0.00it [00:00, ?it/s]\n"
          ],
          "name": "stderr"
        },
        {
          "output_type": "stream",
          "text": [
            "\n",
            "Epoch 00001: LearningRateScheduler reducing learning rate to 1e-05.\n",
            "372/372 [==============================] - 29s 79ms/step - acc: 0.8821 - loss: 0.4250 - lr: 1.0000e-05\n",
            "Epoch 0/3 Step 123/335\n",
            "Loading Data...\n"
          ],
          "name": "stdout"
        },
        {
          "output_type": "stream",
          "text": [
            "100%|██████████| 11.9k/11.9k [00:05<00:00, 2.16kit/s]\n",
            "0.00it [00:00, ?it/s]\n"
          ],
          "name": "stderr"
        },
        {
          "output_type": "stream",
          "text": [
            "\n",
            "Epoch 00001: LearningRateScheduler reducing learning rate to 1e-05.\n",
            "372/372 [==============================] - 29s 79ms/step - acc: 0.8808 - loss: 0.4249 - lr: 1.0000e-05\n",
            "Epoch 0/3 Step 124/335\n",
            "Loading Data...\n"
          ],
          "name": "stdout"
        },
        {
          "output_type": "stream",
          "text": [
            "100%|██████████| 11.9k/11.9k [00:05<00:00, 2.21kit/s]\n",
            "0.00it [00:00, ?it/s]\n"
          ],
          "name": "stderr"
        },
        {
          "output_type": "stream",
          "text": [
            "\n",
            "Epoch 00001: LearningRateScheduler reducing learning rate to 1e-05.\n",
            "372/372 [==============================] - 29s 79ms/step - acc: 0.8806 - loss: 0.4270 - lr: 1.0000e-05\n",
            "Epoch 0/3 Step 125/335\n",
            "Loading Data...\n"
          ],
          "name": "stdout"
        },
        {
          "output_type": "stream",
          "text": [
            "100%|██████████| 11.9k/11.9k [00:05<00:00, 2.23kit/s]\n",
            "0.00it [00:00, ?it/s]\n"
          ],
          "name": "stderr"
        },
        {
          "output_type": "stream",
          "text": [
            "\n",
            "Epoch 00001: LearningRateScheduler reducing learning rate to 1e-05.\n",
            "372/372 [==============================] - 29s 79ms/step - acc: 0.8813 - loss: 0.4256 - lr: 1.0000e-05\n",
            "Epoch 0/3 Step 126/335\n",
            "Loading Data...\n"
          ],
          "name": "stdout"
        },
        {
          "output_type": "stream",
          "text": [
            "100%|██████████| 11.9k/11.9k [00:05<00:00, 2.24kit/s]\n",
            "0.00it [00:00, ?it/s]\n"
          ],
          "name": "stderr"
        },
        {
          "output_type": "stream",
          "text": [
            "\n",
            "Epoch 00001: LearningRateScheduler reducing learning rate to 1e-05.\n",
            "372/372 [==============================] - 30s 79ms/step - acc: 0.8821 - loss: 0.4250 - lr: 1.0000e-05\n",
            "Epoch 0/3 Step 127/335\n",
            "Loading Data...\n"
          ],
          "name": "stdout"
        },
        {
          "output_type": "stream",
          "text": [
            "100%|██████████| 11.9k/11.9k [00:05<00:00, 2.21kit/s]\n",
            "0.00it [00:00, ?it/s]\n"
          ],
          "name": "stderr"
        },
        {
          "output_type": "stream",
          "text": [
            "\n",
            "Epoch 00001: LearningRateScheduler reducing learning rate to 1e-05.\n",
            "372/372 [==============================] - 30s 82ms/step - acc: 0.8903 - loss: 0.4175 - lr: 1.0000e-05\n",
            "Epoch 0/3 Step 128/335\n",
            "Loading Data...\n"
          ],
          "name": "stdout"
        },
        {
          "output_type": "stream",
          "text": [
            "100%|██████████| 11.9k/11.9k [00:05<00:00, 2.19kit/s]\n",
            "0.00it [00:00, ?it/s]\n"
          ],
          "name": "stderr"
        },
        {
          "output_type": "stream",
          "text": [
            "\n",
            "Epoch 00001: LearningRateScheduler reducing learning rate to 1e-05.\n",
            "372/372 [==============================] - 30s 81ms/step - acc: 0.8823 - loss: 0.4248 - lr: 1.0000e-05\n",
            "Epoch 0/3 Step 129/335\n",
            "Loading Data...\n"
          ],
          "name": "stdout"
        },
        {
          "output_type": "stream",
          "text": [
            "100%|██████████| 11.9k/11.9k [00:05<00:00, 2.18kit/s]\n",
            "0.00it [00:00, ?it/s]\n"
          ],
          "name": "stderr"
        },
        {
          "output_type": "stream",
          "text": [
            "\n",
            "Epoch 00001: LearningRateScheduler reducing learning rate to 1e-05.\n",
            "372/372 [==============================] - 29s 79ms/step - acc: 0.8782 - loss: 0.4300 - lr: 1.0000e-05\n",
            "Epoch 0/3 Step 130/335\n",
            "Loading Data...\n"
          ],
          "name": "stdout"
        },
        {
          "output_type": "stream",
          "text": [
            "100%|██████████| 11.9k/11.9k [00:05<00:00, 2.20kit/s]\n",
            "0.00it [00:00, ?it/s]\n"
          ],
          "name": "stderr"
        },
        {
          "output_type": "stream",
          "text": [
            "\n",
            "Epoch 00001: LearningRateScheduler reducing learning rate to 1e-05.\n",
            "372/372 [==============================] - 29s 79ms/step - acc: 0.8823 - loss: 0.4264 - lr: 1.0000e-05\n",
            "Run Validation...\n",
            "3125/3125 [==============================] - 67s 21ms/step - acc: 0.8873 - loss: 0.4208\n",
            "Epoch 0/3 Step 131/335\n",
            "Loading Data...\n"
          ],
          "name": "stdout"
        },
        {
          "output_type": "stream",
          "text": [
            "100%|██████████| 11.9k/11.9k [00:05<00:00, 2.19kit/s]\n",
            "0.00it [00:00, ?it/s]\n"
          ],
          "name": "stderr"
        },
        {
          "output_type": "stream",
          "text": [
            "\n",
            "Epoch 00001: LearningRateScheduler reducing learning rate to 1e-05.\n",
            "372/372 [==============================] - 31s 82ms/step - acc: 0.8805 - loss: 0.4271 - lr: 1.0000e-05\n",
            "Epoch 0/3 Step 132/335\n",
            "Loading Data...\n"
          ],
          "name": "stdout"
        },
        {
          "output_type": "stream",
          "text": [
            "100%|██████████| 11.9k/11.9k [00:05<00:00, 2.20kit/s]\n",
            "0.00it [00:00, ?it/s]\n"
          ],
          "name": "stderr"
        },
        {
          "output_type": "stream",
          "text": [
            "\n",
            "Epoch 00001: LearningRateScheduler reducing learning rate to 1e-05.\n",
            "372/372 [==============================] - 30s 80ms/step - acc: 0.8765 - loss: 0.4298 - lr: 1.0000e-05\n",
            "Epoch 0/3 Step 133/335\n",
            "Loading Data...\n"
          ],
          "name": "stdout"
        },
        {
          "output_type": "stream",
          "text": [
            "100%|██████████| 11.9k/11.9k [00:05<00:00, 2.08kit/s]\n",
            "0.00it [00:00, ?it/s]\n"
          ],
          "name": "stderr"
        },
        {
          "output_type": "stream",
          "text": [
            "\n",
            "Epoch 00001: LearningRateScheduler reducing learning rate to 1e-05.\n",
            "372/372 [==============================] - 30s 80ms/step - acc: 0.8863 - loss: 0.4204 - lr: 1.0000e-05\n",
            "Epoch 0/3 Step 134/335\n",
            "Loading Data...\n"
          ],
          "name": "stdout"
        },
        {
          "output_type": "stream",
          "text": [
            "100%|██████████| 11.9k/11.9k [00:05<00:00, 2.21kit/s]\n",
            "0.00it [00:00, ?it/s]\n"
          ],
          "name": "stderr"
        },
        {
          "output_type": "stream",
          "text": [
            "\n",
            "Epoch 00001: LearningRateScheduler reducing learning rate to 1e-05.\n",
            "372/372 [==============================] - 30s 81ms/step - acc: 0.8876 - loss: 0.4209 - lr: 1.0000e-05\n",
            "Epoch 0/3 Step 135/335\n",
            "Loading Data...\n"
          ],
          "name": "stdout"
        },
        {
          "output_type": "stream",
          "text": [
            "100%|██████████| 11.9k/11.9k [00:05<00:00, 2.21kit/s]\n",
            "0.00it [00:00, ?it/s]\n"
          ],
          "name": "stderr"
        },
        {
          "output_type": "stream",
          "text": [
            "\n",
            "Epoch 00001: LearningRateScheduler reducing learning rate to 1e-05.\n",
            "372/372 [==============================] - 30s 81ms/step - acc: 0.8856 - loss: 0.4222 - lr: 1.0000e-05\n",
            "Epoch 0/3 Step 136/335\n",
            "Loading Data...\n"
          ],
          "name": "stdout"
        },
        {
          "output_type": "stream",
          "text": [
            "100%|██████████| 11.9k/11.9k [00:05<00:00, 2.22kit/s]\n",
            "0.00it [00:00, ?it/s]\n"
          ],
          "name": "stderr"
        },
        {
          "output_type": "stream",
          "text": [
            "\n",
            "Epoch 00001: LearningRateScheduler reducing learning rate to 1e-05.\n",
            "372/372 [==============================] - 30s 80ms/step - acc: 0.8847 - loss: 0.4225 - lr: 1.0000e-05\n",
            "Epoch 0/3 Step 137/335\n",
            "Loading Data...\n"
          ],
          "name": "stdout"
        },
        {
          "output_type": "stream",
          "text": [
            "100%|██████████| 11.9k/11.9k [00:05<00:00, 2.21kit/s]\n",
            "0.00it [00:00, ?it/s]\n"
          ],
          "name": "stderr"
        },
        {
          "output_type": "stream",
          "text": [
            "\n",
            "Epoch 00001: LearningRateScheduler reducing learning rate to 1e-05.\n",
            "372/372 [==============================] - 30s 80ms/step - acc: 0.8795 - loss: 0.4280 - lr: 1.0000e-05\n",
            "Epoch 0/3 Step 138/335\n",
            "Loading Data...\n"
          ],
          "name": "stdout"
        },
        {
          "output_type": "stream",
          "text": [
            "100%|██████████| 11.9k/11.9k [00:05<00:00, 2.19kit/s]\n",
            "0.00it [00:00, ?it/s]\n"
          ],
          "name": "stderr"
        },
        {
          "output_type": "stream",
          "text": [
            "\n",
            "Epoch 00001: LearningRateScheduler reducing learning rate to 1e-05.\n",
            "372/372 [==============================] - 30s 80ms/step - acc: 0.8906 - loss: 0.4189 - lr: 1.0000e-05\n",
            "Epoch 0/3 Step 139/335\n",
            "Loading Data...\n"
          ],
          "name": "stdout"
        },
        {
          "output_type": "stream",
          "text": [
            "100%|██████████| 11.9k/11.9k [00:05<00:00, 2.20kit/s]\n",
            "0.00it [00:00, ?it/s]\n"
          ],
          "name": "stderr"
        },
        {
          "output_type": "stream",
          "text": [
            "\n",
            "Epoch 00001: LearningRateScheduler reducing learning rate to 1e-05.\n",
            "372/372 [==============================] - 30s 80ms/step - acc: 0.8823 - loss: 0.4232 - lr: 1.0000e-05\n",
            "Epoch 0/3 Step 140/335\n",
            "Loading Data...\n"
          ],
          "name": "stdout"
        },
        {
          "output_type": "stream",
          "text": [
            "100%|██████████| 11.9k/11.9k [00:05<00:00, 2.16kit/s]\n",
            "0.00it [00:00, ?it/s]\n"
          ],
          "name": "stderr"
        },
        {
          "output_type": "stream",
          "text": [
            "\n",
            "Epoch 00001: LearningRateScheduler reducing learning rate to 1e-05.\n",
            "372/372 [==============================] - 29s 79ms/step - acc: 0.8798 - loss: 0.4259 - lr: 1.0000e-05\n",
            "Run Validation...\n",
            "3125/3125 [==============================] - 67s 22ms/step - acc: 0.8891 - loss: 0.4186\n",
            "Epoch 0/3 Step 141/335\n",
            "Loading Data...\n"
          ],
          "name": "stdout"
        },
        {
          "output_type": "stream",
          "text": [
            "100%|██████████| 11.9k/11.9k [00:05<00:00, 2.18kit/s]\n",
            "0.00it [00:00, ?it/s]\n"
          ],
          "name": "stderr"
        },
        {
          "output_type": "stream",
          "text": [
            "\n",
            "Epoch 00001: LearningRateScheduler reducing learning rate to 1e-05.\n",
            "372/372 [==============================] - 30s 79ms/step - acc: 0.8851 - loss: 0.4219 - lr: 1.0000e-05\n",
            "Epoch 0/3 Step 142/335\n",
            "Loading Data...\n"
          ],
          "name": "stdout"
        },
        {
          "output_type": "stream",
          "text": [
            "100%|██████████| 11.9k/11.9k [00:05<00:00, 2.17kit/s]\n",
            "0.00it [00:00, ?it/s]\n"
          ],
          "name": "stderr"
        },
        {
          "output_type": "stream",
          "text": [
            "\n",
            "Epoch 00001: LearningRateScheduler reducing learning rate to 1e-05.\n",
            "372/372 [==============================] - 30s 80ms/step - acc: 0.8821 - loss: 0.4250 - lr: 1.0000e-05\n",
            "Epoch 0/3 Step 143/335\n",
            "Loading Data...\n"
          ],
          "name": "stdout"
        },
        {
          "output_type": "stream",
          "text": [
            "100%|██████████| 11.9k/11.9k [00:05<00:00, 2.08kit/s]\n",
            "0.00it [00:00, ?it/s]\n"
          ],
          "name": "stderr"
        },
        {
          "output_type": "stream",
          "text": [
            "\n",
            "Epoch 00001: LearningRateScheduler reducing learning rate to 1e-05.\n",
            "372/372 [==============================] - 30s 80ms/step - acc: 0.8842 - loss: 0.4227 - lr: 1.0000e-05\n",
            "Epoch 0/3 Step 144/335\n",
            "Loading Data...\n"
          ],
          "name": "stdout"
        },
        {
          "output_type": "stream",
          "text": [
            "100%|██████████| 11.9k/11.9k [00:05<00:00, 2.23kit/s]\n",
            "0.00it [00:00, ?it/s]\n"
          ],
          "name": "stderr"
        },
        {
          "output_type": "stream",
          "text": [
            "\n",
            "Epoch 00001: LearningRateScheduler reducing learning rate to 1e-05.\n",
            "372/372 [==============================] - 30s 79ms/step - acc: 0.8811 - loss: 0.4255 - lr: 1.0000e-05\n",
            "Epoch 0/3 Step 145/335\n",
            "Loading Data...\n"
          ],
          "name": "stdout"
        },
        {
          "output_type": "stream",
          "text": [
            "100%|██████████| 11.9k/11.9k [00:05<00:00, 2.18kit/s]\n",
            "0.00it [00:00, ?it/s]\n"
          ],
          "name": "stderr"
        },
        {
          "output_type": "stream",
          "text": [
            "\n",
            "Epoch 00001: LearningRateScheduler reducing learning rate to 1e-05.\n",
            "372/372 [==============================] - 30s 80ms/step - acc: 0.8808 - loss: 0.4253 - lr: 1.0000e-05\n",
            "Epoch 0/3 Step 146/335\n",
            "Loading Data...\n"
          ],
          "name": "stdout"
        },
        {
          "output_type": "stream",
          "text": [
            "100%|██████████| 11.9k/11.9k [00:05<00:00, 2.18kit/s]\n",
            "0.00it [00:00, ?it/s]\n"
          ],
          "name": "stderr"
        },
        {
          "output_type": "stream",
          "text": [
            "\n",
            "Epoch 00001: LearningRateScheduler reducing learning rate to 1e-05.\n",
            "372/372 [==============================] - 30s 80ms/step - acc: 0.8809 - loss: 0.4252 - lr: 1.0000e-05\n",
            "Epoch 0/3 Step 147/335\n",
            "Loading Data...\n"
          ],
          "name": "stdout"
        },
        {
          "output_type": "stream",
          "text": [
            "100%|██████████| 11.9k/11.9k [00:05<00:00, 2.22kit/s]\n",
            "0.00it [00:00, ?it/s]\n"
          ],
          "name": "stderr"
        },
        {
          "output_type": "stream",
          "text": [
            "\n",
            "Epoch 00001: LearningRateScheduler reducing learning rate to 1e-05.\n",
            "372/372 [==============================] - 30s 80ms/step - acc: 0.8815 - loss: 0.4251 - lr: 1.0000e-05\n",
            "Epoch 0/3 Step 148/335\n",
            "Loading Data...\n"
          ],
          "name": "stdout"
        },
        {
          "output_type": "stream",
          "text": [
            "100%|██████████| 11.9k/11.9k [00:05<00:00, 2.23kit/s]\n",
            "0.00it [00:00, ?it/s]\n"
          ],
          "name": "stderr"
        },
        {
          "output_type": "stream",
          "text": [
            "\n",
            "Epoch 00001: LearningRateScheduler reducing learning rate to 1e-05.\n",
            "372/372 [==============================] - 30s 80ms/step - acc: 0.8903 - loss: 0.4192 - lr: 1.0000e-05\n",
            "Epoch 0/3 Step 149/335\n",
            "Loading Data...\n"
          ],
          "name": "stdout"
        },
        {
          "output_type": "stream",
          "text": [
            "100%|██████████| 11.9k/11.9k [00:05<00:00, 2.23kit/s]\n",
            "0.00it [00:00, ?it/s]\n"
          ],
          "name": "stderr"
        },
        {
          "output_type": "stream",
          "text": [
            "\n",
            "Epoch 00001: LearningRateScheduler reducing learning rate to 1e-05.\n",
            "372/372 [==============================] - 31s 84ms/step - acc: 0.8890 - loss: 0.4187 - lr: 1.0000e-05\n",
            "Epoch 0/3 Step 150/335\n",
            "Loading Data...\n"
          ],
          "name": "stdout"
        },
        {
          "output_type": "stream",
          "text": [
            "100%|██████████| 11.9k/11.9k [00:05<00:00, 2.16kit/s]\n",
            "0.00it [00:00, ?it/s]\n"
          ],
          "name": "stderr"
        },
        {
          "output_type": "stream",
          "text": [
            "\n",
            "Epoch 00001: LearningRateScheduler reducing learning rate to 1e-05.\n",
            "372/372 [==============================] - 30s 80ms/step - acc: 0.8811 - loss: 0.4252 - lr: 1.0000e-05\n",
            "Run Validation...\n",
            "3125/3125 [==============================] - 69s 22ms/step - acc: 0.8880 - loss: 0.4202\n",
            "No improvement since: 1\n",
            "Epoch 0/3 Step 151/335\n",
            "Loading Data...\n"
          ],
          "name": "stdout"
        },
        {
          "output_type": "stream",
          "text": [
            "100%|██████████| 11.9k/11.9k [00:05<00:00, 2.23kit/s]\n",
            "0.00it [00:00, ?it/s]\n"
          ],
          "name": "stderr"
        },
        {
          "output_type": "stream",
          "text": [
            "\n",
            "Epoch 00001: LearningRateScheduler reducing learning rate to 1e-05.\n",
            "372/372 [==============================] - 30s 79ms/step - acc: 0.8827 - loss: 0.4255 - lr: 1.0000e-05\n",
            "Epoch 0/3 Step 152/335\n",
            "Loading Data...\n"
          ],
          "name": "stdout"
        },
        {
          "output_type": "stream",
          "text": [
            "100%|██████████| 11.9k/11.9k [00:05<00:00, 2.22kit/s]\n",
            "0.00it [00:00, ?it/s]\n"
          ],
          "name": "stderr"
        },
        {
          "output_type": "stream",
          "text": [
            "\n",
            "Epoch 00001: LearningRateScheduler reducing learning rate to 1e-05.\n",
            "372/372 [==============================] - 29s 78ms/step - acc: 0.8882 - loss: 0.4208 - lr: 1.0000e-05\n",
            "Epoch 0/3 Step 153/335\n",
            "Loading Data...\n"
          ],
          "name": "stdout"
        },
        {
          "output_type": "stream",
          "text": [
            "100%|██████████| 11.9k/11.9k [00:05<00:00, 2.19kit/s]\n",
            "0.00it [00:00, ?it/s]\n"
          ],
          "name": "stderr"
        },
        {
          "output_type": "stream",
          "text": [
            "\n",
            "Epoch 00001: LearningRateScheduler reducing learning rate to 1e-05.\n",
            "372/372 [==============================] - 29s 79ms/step - acc: 0.8852 - loss: 0.4224 - lr: 1.0000e-05\n",
            "Epoch 0/3 Step 154/335\n",
            "Loading Data...\n"
          ],
          "name": "stdout"
        },
        {
          "output_type": "stream",
          "text": [
            "100%|██████████| 11.9k/11.9k [00:05<00:00, 2.19kit/s]\n",
            "0.00it [00:00, ?it/s]\n"
          ],
          "name": "stderr"
        },
        {
          "output_type": "stream",
          "text": [
            "\n",
            "Epoch 00001: LearningRateScheduler reducing learning rate to 1e-05.\n",
            "372/372 [==============================] - 29s 78ms/step - acc: 0.8847 - loss: 0.4231 - lr: 1.0000e-05\n",
            "Epoch 0/3 Step 155/335\n",
            "Loading Data...\n"
          ],
          "name": "stdout"
        },
        {
          "output_type": "stream",
          "text": [
            "100%|██████████| 11.9k/11.9k [00:05<00:00, 2.23kit/s]\n",
            "0.00it [00:00, ?it/s]\n"
          ],
          "name": "stderr"
        },
        {
          "output_type": "stream",
          "text": [
            "\n",
            "Epoch 00001: LearningRateScheduler reducing learning rate to 1e-05.\n",
            "372/372 [==============================] - 29s 79ms/step - acc: 0.8853 - loss: 0.4220 - lr: 1.0000e-05\n",
            "Epoch 0/3 Step 156/335\n",
            "Loading Data...\n"
          ],
          "name": "stdout"
        },
        {
          "output_type": "stream",
          "text": [
            "100%|██████████| 11.9k/11.9k [00:05<00:00, 2.19kit/s]\n",
            "0.00it [00:00, ?it/s]\n"
          ],
          "name": "stderr"
        },
        {
          "output_type": "stream",
          "text": [
            "\n",
            "Epoch 00001: LearningRateScheduler reducing learning rate to 1e-05.\n",
            "372/372 [==============================] - 29s 78ms/step - acc: 0.8873 - loss: 0.4207 - lr: 1.0000e-05\n",
            "Epoch 0/3 Step 157/335\n",
            "Loading Data...\n"
          ],
          "name": "stdout"
        },
        {
          "output_type": "stream",
          "text": [
            "100%|██████████| 11.9k/11.9k [00:05<00:00, 2.20kit/s]\n",
            "0.00it [00:00, ?it/s]\n"
          ],
          "name": "stderr"
        },
        {
          "output_type": "stream",
          "text": [
            "\n",
            "Epoch 00001: LearningRateScheduler reducing learning rate to 1e-05.\n",
            "372/372 [==============================] - 30s 81ms/step - acc: 0.8830 - loss: 0.4251 - lr: 1.0000e-05\n",
            "Epoch 0/3 Step 158/335\n",
            "Loading Data...\n"
          ],
          "name": "stdout"
        },
        {
          "output_type": "stream",
          "text": [
            "100%|██████████| 11.9k/11.9k [00:05<00:00, 2.21kit/s]\n",
            "0.00it [00:00, ?it/s]\n"
          ],
          "name": "stderr"
        },
        {
          "output_type": "stream",
          "text": [
            "\n",
            "Epoch 00001: LearningRateScheduler reducing learning rate to 1e-05.\n",
            "372/372 [==============================] - 29s 78ms/step - acc: 0.8884 - loss: 0.4196 - lr: 1.0000e-05\n",
            "Epoch 0/3 Step 159/335\n",
            "Loading Data...\n"
          ],
          "name": "stdout"
        },
        {
          "output_type": "stream",
          "text": [
            "100%|██████████| 11.9k/11.9k [00:05<00:00, 2.18kit/s]\n",
            "0.00it [00:00, ?it/s]\n"
          ],
          "name": "stderr"
        },
        {
          "output_type": "stream",
          "text": [
            "\n",
            "Epoch 00001: LearningRateScheduler reducing learning rate to 1e-05.\n",
            "372/372 [==============================] - 29s 79ms/step - acc: 0.8907 - loss: 0.4184 - lr: 1.0000e-05\n",
            "Epoch 0/3 Step 160/335\n",
            "Loading Data...\n"
          ],
          "name": "stdout"
        },
        {
          "output_type": "stream",
          "text": [
            "100%|██████████| 11.9k/11.9k [00:05<00:00, 2.23kit/s]\n",
            "0.00it [00:00, ?it/s]\n"
          ],
          "name": "stderr"
        },
        {
          "output_type": "stream",
          "text": [
            "\n",
            "Epoch 00001: LearningRateScheduler reducing learning rate to 1e-05.\n",
            "372/372 [==============================] - 30s 80ms/step - acc: 0.8850 - loss: 0.4227 - lr: 1.0000e-05\n",
            "Run Validation...\n",
            "3125/3125 [==============================] - 67s 22ms/step - acc: 0.8898 - loss: 0.4180\n",
            "Epoch 0/3 Step 161/335\n",
            "Loading Data...\n"
          ],
          "name": "stdout"
        },
        {
          "output_type": "stream",
          "text": [
            "100%|██████████| 11.9k/11.9k [00:05<00:00, 2.25kit/s]\n",
            "0.00it [00:00, ?it/s]\n"
          ],
          "name": "stderr"
        },
        {
          "output_type": "stream",
          "text": [
            "\n",
            "Epoch 00001: LearningRateScheduler reducing learning rate to 1e-05.\n",
            "372/372 [==============================] - 30s 80ms/step - acc: 0.8893 - loss: 0.4184 - lr: 1.0000e-05\n",
            "Epoch 0/3 Step 162/335\n",
            "Loading Data...\n"
          ],
          "name": "stdout"
        },
        {
          "output_type": "stream",
          "text": [
            "100%|██████████| 11.9k/11.9k [00:05<00:00, 2.22kit/s]\n",
            "0.00it [00:00, ?it/s]\n"
          ],
          "name": "stderr"
        },
        {
          "output_type": "stream",
          "text": [
            "\n",
            "Epoch 00001: LearningRateScheduler reducing learning rate to 1e-05.\n",
            "372/372 [==============================] - 30s 79ms/step - acc: 0.8843 - loss: 0.4221 - lr: 1.0000e-05\n",
            "Epoch 0/3 Step 163/335\n",
            "Loading Data...\n"
          ],
          "name": "stdout"
        },
        {
          "output_type": "stream",
          "text": [
            "100%|██████████| 11.9k/11.9k [00:05<00:00, 2.09kit/s]\n",
            "0.00it [00:00, ?it/s]\n"
          ],
          "name": "stderr"
        },
        {
          "output_type": "stream",
          "text": [
            "\n",
            "Epoch 00001: LearningRateScheduler reducing learning rate to 1e-05.\n",
            "372/372 [==============================] - 31s 83ms/step - acc: 0.8870 - loss: 0.4197 - lr: 1.0000e-05\n",
            "Epoch 0/3 Step 164/335\n",
            "Loading Data...\n"
          ],
          "name": "stdout"
        },
        {
          "output_type": "stream",
          "text": [
            "100%|██████████| 11.9k/11.9k [00:05<00:00, 2.23kit/s]\n",
            "0.00it [00:00, ?it/s]\n"
          ],
          "name": "stderr"
        },
        {
          "output_type": "stream",
          "text": [
            "\n",
            "Epoch 00001: LearningRateScheduler reducing learning rate to 1e-05.\n",
            "372/372 [==============================] - 30s 80ms/step - acc: 0.8897 - loss: 0.4187 - lr: 1.0000e-05\n",
            "Epoch 0/3 Step 165/335\n",
            "Loading Data...\n"
          ],
          "name": "stdout"
        },
        {
          "output_type": "stream",
          "text": [
            "100%|██████████| 11.9k/11.9k [00:05<00:00, 2.21kit/s]\n",
            "0.00it [00:00, ?it/s]\n"
          ],
          "name": "stderr"
        },
        {
          "output_type": "stream",
          "text": [
            "\n",
            "Epoch 00001: LearningRateScheduler reducing learning rate to 1e-05.\n",
            "372/372 [==============================] - 30s 80ms/step - acc: 0.8847 - loss: 0.4220 - lr: 1.0000e-05\n",
            "Epoch 0/3 Step 166/335\n",
            "Loading Data...\n"
          ],
          "name": "stdout"
        },
        {
          "output_type": "stream",
          "text": [
            "100%|██████████| 11.9k/11.9k [00:05<00:00, 2.20kit/s]\n",
            "0.00it [00:00, ?it/s]\n"
          ],
          "name": "stderr"
        },
        {
          "output_type": "stream",
          "text": [
            "\n",
            "Epoch 00001: LearningRateScheduler reducing learning rate to 1e-05.\n",
            "372/372 [==============================] - 30s 81ms/step - acc: 0.8823 - loss: 0.4236 - lr: 1.0000e-05\n",
            "Epoch 0/3 Step 167/335\n",
            "Loading Data...\n"
          ],
          "name": "stdout"
        },
        {
          "output_type": "stream",
          "text": [
            "100%|██████████| 11.9k/11.9k [00:05<00:00, 2.19kit/s]\n",
            "0.00it [00:00, ?it/s]\n"
          ],
          "name": "stderr"
        },
        {
          "output_type": "stream",
          "text": [
            "\n",
            "Epoch 00001: LearningRateScheduler reducing learning rate to 1e-05.\n",
            "372/372 [==============================] - 30s 81ms/step - acc: 0.8837 - loss: 0.4223 - lr: 1.0000e-05\n",
            "Epoch 0/3 Step 168/335\n",
            "Loading Data...\n"
          ],
          "name": "stdout"
        },
        {
          "output_type": "stream",
          "text": [
            "100%|██████████| 11.9k/11.9k [00:05<00:00, 2.18kit/s]\n",
            "0.00it [00:00, ?it/s]\n"
          ],
          "name": "stderr"
        },
        {
          "output_type": "stream",
          "text": [
            "\n",
            "Epoch 00001: LearningRateScheduler reducing learning rate to 1e-05.\n",
            "372/372 [==============================] - 30s 81ms/step - acc: 0.8858 - loss: 0.4198 - lr: 1.0000e-05\n",
            "Epoch 0/3 Step 169/335\n",
            "Loading Data...\n"
          ],
          "name": "stdout"
        },
        {
          "output_type": "stream",
          "text": [
            "100%|██████████| 11.9k/11.9k [00:05<00:00, 2.17kit/s]\n",
            "0.00it [00:00, ?it/s]\n"
          ],
          "name": "stderr"
        },
        {
          "output_type": "stream",
          "text": [
            "\n",
            "Epoch 00001: LearningRateScheduler reducing learning rate to 1e-05.\n",
            "372/372 [==============================] - 31s 83ms/step - acc: 0.8875 - loss: 0.4212 - lr: 1.0000e-05\n",
            "Epoch 0/3 Step 170/335\n",
            "Loading Data...\n"
          ],
          "name": "stdout"
        },
        {
          "output_type": "stream",
          "text": [
            "100%|██████████| 11.9k/11.9k [00:05<00:00, 2.20kit/s]\n",
            "0.00it [00:00, ?it/s]\n"
          ],
          "name": "stderr"
        },
        {
          "output_type": "stream",
          "text": [
            "\n",
            "Epoch 00001: LearningRateScheduler reducing learning rate to 1e-05.\n",
            "372/372 [==============================] - 30s 80ms/step - acc: 0.8886 - loss: 0.4195 - lr: 1.0000e-05\n",
            "Run Validation...\n",
            "3125/3125 [==============================] - 68s 22ms/step - acc: 0.8920 - loss: 0.4160\n",
            "Epoch 0/3 Step 171/335\n",
            "Loading Data...\n"
          ],
          "name": "stdout"
        },
        {
          "output_type": "stream",
          "text": [
            "100%|██████████| 11.9k/11.9k [00:05<00:00, 2.25kit/s]\n",
            "0.00it [00:00, ?it/s]\n"
          ],
          "name": "stderr"
        },
        {
          "output_type": "stream",
          "text": [
            "\n",
            "Epoch 00001: LearningRateScheduler reducing learning rate to 1e-05.\n",
            "372/372 [==============================] - 29s 77ms/step - acc: 0.8857 - loss: 0.4206 - lr: 1.0000e-05\n",
            "Epoch 0/3 Step 172/335\n",
            "Loading Data...\n"
          ],
          "name": "stdout"
        },
        {
          "output_type": "stream",
          "text": [
            "100%|██████████| 11.9k/11.9k [00:05<00:00, 2.20kit/s]\n",
            "0.00it [00:00, ?it/s]\n"
          ],
          "name": "stderr"
        },
        {
          "output_type": "stream",
          "text": [
            "\n",
            "Epoch 00001: LearningRateScheduler reducing learning rate to 1e-05.\n",
            "372/372 [==============================] - 31s 82ms/step - acc: 0.8874 - loss: 0.4188 - lr: 1.0000e-05\n",
            "Epoch 0/3 Step 173/335\n",
            "Loading Data...\n"
          ],
          "name": "stdout"
        },
        {
          "output_type": "stream",
          "text": [
            "100%|██████████| 11.9k/11.9k [00:05<00:00, 2.19kit/s]\n",
            "0.00it [00:00, ?it/s]\n"
          ],
          "name": "stderr"
        },
        {
          "output_type": "stream",
          "text": [
            "\n",
            "Epoch 00001: LearningRateScheduler reducing learning rate to 1e-05.\n",
            "372/372 [==============================] - 30s 81ms/step - acc: 0.8880 - loss: 0.4181 - lr: 1.0000e-05\n",
            "Epoch 0/3 Step 174/335\n",
            "Loading Data...\n"
          ],
          "name": "stdout"
        },
        {
          "output_type": "stream",
          "text": [
            "100%|██████████| 11.9k/11.9k [00:05<00:00, 2.23kit/s]\n",
            "0.00it [00:00, ?it/s]\n"
          ],
          "name": "stderr"
        },
        {
          "output_type": "stream",
          "text": [
            "\n",
            "Epoch 00001: LearningRateScheduler reducing learning rate to 1e-05.\n",
            "372/372 [==============================] - 31s 82ms/step - acc: 0.8905 - loss: 0.4165 - lr: 1.0000e-05\n",
            "Epoch 0/3 Step 175/335\n",
            "Loading Data...\n"
          ],
          "name": "stdout"
        },
        {
          "output_type": "stream",
          "text": [
            "100%|██████████| 11.9k/11.9k [00:05<00:00, 2.24kit/s]\n",
            "0.00it [00:00, ?it/s]\n"
          ],
          "name": "stderr"
        },
        {
          "output_type": "stream",
          "text": [
            "\n",
            "Epoch 00001: LearningRateScheduler reducing learning rate to 1e-05.\n",
            "372/372 [==============================] - 31s 82ms/step - acc: 0.8902 - loss: 0.4176 - lr: 1.0000e-05\n",
            "Epoch 0/3 Step 176/335\n",
            "Loading Data...\n"
          ],
          "name": "stdout"
        },
        {
          "output_type": "stream",
          "text": [
            "100%|██████████| 11.9k/11.9k [00:05<00:00, 2.20kit/s]\n",
            "0.00it [00:00, ?it/s]\n"
          ],
          "name": "stderr"
        },
        {
          "output_type": "stream",
          "text": [
            "\n",
            "Epoch 00001: LearningRateScheduler reducing learning rate to 1e-05.\n",
            "372/372 [==============================] - 30s 81ms/step - acc: 0.8857 - loss: 0.4217 - lr: 1.0000e-05\n",
            "Epoch 0/3 Step 177/335\n",
            "Loading Data...\n"
          ],
          "name": "stdout"
        },
        {
          "output_type": "stream",
          "text": [
            "100%|██████████| 11.9k/11.9k [00:05<00:00, 2.17kit/s]\n",
            "0.00it [00:00, ?it/s]\n"
          ],
          "name": "stderr"
        },
        {
          "output_type": "stream",
          "text": [
            "\n",
            "Epoch 00001: LearningRateScheduler reducing learning rate to 1e-05.\n",
            "372/372 [==============================] - 30s 80ms/step - acc: 0.8906 - loss: 0.4176 - lr: 1.0000e-05\n",
            "Epoch 0/3 Step 178/335\n",
            "Loading Data...\n"
          ],
          "name": "stdout"
        },
        {
          "output_type": "stream",
          "text": [
            "100%|██████████| 11.9k/11.9k [00:05<00:00, 2.18kit/s]\n",
            "0.00it [00:00, ?it/s]\n"
          ],
          "name": "stderr"
        },
        {
          "output_type": "stream",
          "text": [
            "\n",
            "Epoch 00001: LearningRateScheduler reducing learning rate to 1e-05.\n",
            "372/372 [==============================] - 30s 81ms/step - acc: 0.8873 - loss: 0.4202 - lr: 1.0000e-05\n",
            "Epoch 0/3 Step 179/335\n",
            "Loading Data...\n"
          ],
          "name": "stdout"
        },
        {
          "output_type": "stream",
          "text": [
            "100%|██████████| 11.9k/11.9k [00:05<00:00, 2.18kit/s]\n",
            "0.00it [00:00, ?it/s]\n"
          ],
          "name": "stderr"
        },
        {
          "output_type": "stream",
          "text": [
            "\n",
            "Epoch 00001: LearningRateScheduler reducing learning rate to 1e-05.\n",
            "372/372 [==============================] - 29s 79ms/step - acc: 0.8875 - loss: 0.4210 - lr: 1.0000e-05\n",
            "Epoch 0/3 Step 180/335\n",
            "Loading Data...\n"
          ],
          "name": "stdout"
        },
        {
          "output_type": "stream",
          "text": [
            "100%|██████████| 11.9k/11.9k [00:05<00:00, 2.18kit/s]\n",
            "0.00it [00:00, ?it/s]\n"
          ],
          "name": "stderr"
        },
        {
          "output_type": "stream",
          "text": [
            "\n",
            "Epoch 00001: LearningRateScheduler reducing learning rate to 1e-05.\n",
            "372/372 [==============================] - 30s 80ms/step - acc: 0.8878 - loss: 0.4185 - lr: 1.0000e-05\n",
            "Run Validation...\n",
            "3125/3125 [==============================] - 67s 21ms/step - acc: 0.8915 - loss: 0.4162\n",
            "No improvement since: 1\n",
            "Epoch 0/3 Step 181/335\n",
            "Loading Data...\n"
          ],
          "name": "stdout"
        },
        {
          "output_type": "stream",
          "text": [
            "100%|██████████| 11.9k/11.9k [00:05<00:00, 2.26kit/s]\n",
            "0.00it [00:00, ?it/s]\n"
          ],
          "name": "stderr"
        },
        {
          "output_type": "stream",
          "text": [
            "\n",
            "Epoch 00001: LearningRateScheduler reducing learning rate to 1e-05.\n",
            "372/372 [==============================] - 30s 82ms/step - acc: 0.8861 - loss: 0.4188 - lr: 1.0000e-05\n",
            "Epoch 0/3 Step 182/335\n",
            "Loading Data...\n"
          ],
          "name": "stdout"
        },
        {
          "output_type": "stream",
          "text": [
            "100%|██████████| 11.9k/11.9k [00:05<00:00, 2.20kit/s]\n",
            "0.00it [00:00, ?it/s]\n"
          ],
          "name": "stderr"
        },
        {
          "output_type": "stream",
          "text": [
            "\n",
            "Epoch 00001: LearningRateScheduler reducing learning rate to 1e-05.\n",
            "372/372 [==============================] - 31s 82ms/step - acc: 0.8826 - loss: 0.4231 - lr: 1.0000e-05\n",
            "Epoch 0/3 Step 183/335\n",
            "Loading Data...\n"
          ],
          "name": "stdout"
        },
        {
          "output_type": "stream",
          "text": [
            "100%|██████████| 11.9k/11.9k [00:05<00:00, 2.22kit/s]\n",
            "0.00it [00:00, ?it/s]\n"
          ],
          "name": "stderr"
        },
        {
          "output_type": "stream",
          "text": [
            "\n",
            "Epoch 00001: LearningRateScheduler reducing learning rate to 1e-05.\n",
            "372/372 [==============================] - 30s 80ms/step - acc: 0.8879 - loss: 0.4207 - lr: 1.0000e-05\n",
            "Epoch 0/3 Step 184/335\n",
            "Loading Data...\n"
          ],
          "name": "stdout"
        },
        {
          "output_type": "stream",
          "text": [
            "100%|██████████| 11.9k/11.9k [00:05<00:00, 2.21kit/s]\n",
            "0.00it [00:00, ?it/s]\n"
          ],
          "name": "stderr"
        },
        {
          "output_type": "stream",
          "text": [
            "\n",
            "Epoch 00001: LearningRateScheduler reducing learning rate to 1e-05.\n",
            "372/372 [==============================] - 30s 80ms/step - acc: 0.8894 - loss: 0.4183 - lr: 1.0000e-05\n",
            "Epoch 0/3 Step 185/335\n",
            "Loading Data...\n"
          ],
          "name": "stdout"
        },
        {
          "output_type": "stream",
          "text": [
            "100%|██████████| 11.9k/11.9k [00:05<00:00, 2.18kit/s]\n",
            "0.00it [00:00, ?it/s]\n"
          ],
          "name": "stderr"
        },
        {
          "output_type": "stream",
          "text": [
            "\n",
            "Epoch 00001: LearningRateScheduler reducing learning rate to 1e-05.\n",
            "372/372 [==============================] - 30s 80ms/step - acc: 0.8887 - loss: 0.4193 - lr: 1.0000e-05\n",
            "Epoch 0/3 Step 186/335\n",
            "Loading Data...\n"
          ],
          "name": "stdout"
        },
        {
          "output_type": "stream",
          "text": [
            "100%|██████████| 11.9k/11.9k [00:05<00:00, 2.23kit/s]\n",
            "0.00it [00:00, ?it/s]\n"
          ],
          "name": "stderr"
        },
        {
          "output_type": "stream",
          "text": [
            "\n",
            "Epoch 00001: LearningRateScheduler reducing learning rate to 1e-05.\n",
            "372/372 [==============================] - 30s 80ms/step - acc: 0.8876 - loss: 0.4196 - lr: 1.0000e-05\n",
            "Epoch 0/3 Step 187/335\n",
            "Loading Data...\n"
          ],
          "name": "stdout"
        },
        {
          "output_type": "stream",
          "text": [
            "100%|██████████| 11.9k/11.9k [00:05<00:00, 2.20kit/s]\n",
            "0.00it [00:00, ?it/s]\n"
          ],
          "name": "stderr"
        },
        {
          "output_type": "stream",
          "text": [
            "\n",
            "Epoch 00001: LearningRateScheduler reducing learning rate to 1e-05.\n",
            "372/372 [==============================] - 29s 78ms/step - acc: 0.8848 - loss: 0.4224 - lr: 1.0000e-05\n",
            "Epoch 0/3 Step 188/335\n",
            "Loading Data...\n"
          ],
          "name": "stdout"
        },
        {
          "output_type": "stream",
          "text": [
            "100%|██████████| 11.9k/11.9k [00:05<00:00, 2.20kit/s]\n",
            "0.00it [00:00, ?it/s]\n"
          ],
          "name": "stderr"
        },
        {
          "output_type": "stream",
          "text": [
            "\n",
            "Epoch 00001: LearningRateScheduler reducing learning rate to 1e-05.\n",
            "372/372 [==============================] - 29s 78ms/step - acc: 0.8862 - loss: 0.4212 - lr: 1.0000e-05\n",
            "Epoch 0/3 Step 189/335\n",
            "Loading Data...\n"
          ],
          "name": "stdout"
        },
        {
          "output_type": "stream",
          "text": [
            "100%|██████████| 11.9k/11.9k [00:05<00:00, 2.19kit/s]\n",
            "0.00it [00:00, ?it/s]\n"
          ],
          "name": "stderr"
        },
        {
          "output_type": "stream",
          "text": [
            "\n",
            "Epoch 00001: LearningRateScheduler reducing learning rate to 1e-05.\n",
            "372/372 [==============================] - 30s 81ms/step - acc: 0.8837 - loss: 0.4241 - lr: 1.0000e-05\n",
            "Epoch 0/3 Step 190/335\n",
            "Loading Data...\n"
          ],
          "name": "stdout"
        },
        {
          "output_type": "stream",
          "text": [
            "100%|██████████| 11.9k/11.9k [00:05<00:00, 2.03kit/s]\n",
            "0.00it [00:00, ?it/s]\n"
          ],
          "name": "stderr"
        },
        {
          "output_type": "stream",
          "text": [
            "\n",
            "Epoch 00001: LearningRateScheduler reducing learning rate to 1e-05.\n",
            "372/372 [==============================] - 30s 80ms/step - acc: 0.8893 - loss: 0.4189 - lr: 1.0000e-05\n",
            "Run Validation...\n",
            "3125/3125 [==============================] - 65s 21ms/step - acc: 0.8913 - loss: 0.4157\n",
            "Epoch 0/3 Step 191/335\n",
            "Loading Data...\n"
          ],
          "name": "stdout"
        },
        {
          "output_type": "stream",
          "text": [
            "100%|██████████| 11.9k/11.9k [00:05<00:00, 2.18kit/s]\n",
            "0.00it [00:00, ?it/s]\n"
          ],
          "name": "stderr"
        },
        {
          "output_type": "stream",
          "text": [
            "\n",
            "Epoch 00001: LearningRateScheduler reducing learning rate to 1e-05.\n",
            "372/372 [==============================] - 30s 80ms/step - acc: 0.8896 - loss: 0.4177 - lr: 1.0000e-05\n",
            "Epoch 0/3 Step 192/335\n",
            "Loading Data...\n"
          ],
          "name": "stdout"
        },
        {
          "output_type": "stream",
          "text": [
            "100%|██████████| 11.9k/11.9k [00:05<00:00, 2.03kit/s]\n",
            "0.00it [00:00, ?it/s]\n"
          ],
          "name": "stderr"
        },
        {
          "output_type": "stream",
          "text": [
            "\n",
            "Epoch 00001: LearningRateScheduler reducing learning rate to 1e-05.\n",
            "372/372 [==============================] - 30s 81ms/step - acc: 0.8882 - loss: 0.4197 - lr: 1.0000e-05\n",
            "Epoch 0/3 Step 193/335\n",
            "Loading Data...\n"
          ],
          "name": "stdout"
        },
        {
          "output_type": "stream",
          "text": [
            "100%|██████████| 11.9k/11.9k [00:05<00:00, 2.22kit/s]\n",
            "0.00it [00:00, ?it/s]\n"
          ],
          "name": "stderr"
        },
        {
          "output_type": "stream",
          "text": [
            "\n",
            "Epoch 00001: LearningRateScheduler reducing learning rate to 1e-05.\n",
            "372/372 [==============================] - 30s 81ms/step - acc: 0.8915 - loss: 0.4160 - lr: 1.0000e-05\n",
            "Epoch 0/3 Step 194/335\n",
            "Loading Data...\n"
          ],
          "name": "stdout"
        },
        {
          "output_type": "stream",
          "text": [
            "100%|██████████| 11.9k/11.9k [00:05<00:00, 2.25kit/s]\n",
            "0.00it [00:00, ?it/s]\n"
          ],
          "name": "stderr"
        },
        {
          "output_type": "stream",
          "text": [
            "\n",
            "Epoch 00001: LearningRateScheduler reducing learning rate to 1e-05.\n",
            "372/372 [==============================] - 30s 80ms/step - acc: 0.8874 - loss: 0.4188 - lr: 1.0000e-05\n",
            "Epoch 0/3 Step 195/335\n",
            "Loading Data...\n"
          ],
          "name": "stdout"
        },
        {
          "output_type": "stream",
          "text": [
            "100%|██████████| 11.9k/11.9k [00:05<00:00, 2.24kit/s]\n",
            "0.00it [00:00, ?it/s]\n"
          ],
          "name": "stderr"
        },
        {
          "output_type": "stream",
          "text": [
            "\n",
            "Epoch 00001: LearningRateScheduler reducing learning rate to 1e-05.\n",
            "372/372 [==============================] - 31s 82ms/step - acc: 0.8884 - loss: 0.4196 - lr: 1.0000e-05\n",
            "Epoch 0/3 Step 196/335\n",
            "Loading Data...\n"
          ],
          "name": "stdout"
        },
        {
          "output_type": "stream",
          "text": [
            "100%|██████████| 11.9k/11.9k [00:05<00:00, 2.13kit/s]\n",
            "0.00it [00:00, ?it/s]\n"
          ],
          "name": "stderr"
        },
        {
          "output_type": "stream",
          "text": [
            "\n",
            "Epoch 00001: LearningRateScheduler reducing learning rate to 1e-05.\n",
            "372/372 [==============================] - 29s 79ms/step - acc: 0.8886 - loss: 0.4202 - lr: 1.0000e-05\n",
            "Epoch 0/3 Step 197/335\n",
            "Loading Data...\n"
          ],
          "name": "stdout"
        },
        {
          "output_type": "stream",
          "text": [
            "100%|██████████| 11.9k/11.9k [00:05<00:00, 2.19kit/s]\n",
            "0.00it [00:00, ?it/s]\n"
          ],
          "name": "stderr"
        },
        {
          "output_type": "stream",
          "text": [
            "\n",
            "Epoch 00001: LearningRateScheduler reducing learning rate to 1e-05.\n",
            "372/372 [==============================] - 30s 80ms/step - acc: 0.8851 - loss: 0.4214 - lr: 1.0000e-05\n",
            "Epoch 0/3 Step 198/335\n",
            "Loading Data...\n"
          ],
          "name": "stdout"
        },
        {
          "output_type": "stream",
          "text": [
            "100%|██████████| 11.9k/11.9k [00:05<00:00, 2.21kit/s]\n",
            "0.00it [00:00, ?it/s]\n"
          ],
          "name": "stderr"
        },
        {
          "output_type": "stream",
          "text": [
            "\n",
            "Epoch 00001: LearningRateScheduler reducing learning rate to 1e-05.\n",
            "372/372 [==============================] - 30s 80ms/step - acc: 0.8862 - loss: 0.4201 - lr: 1.0000e-05\n",
            "Epoch 0/3 Step 199/335\n",
            "Loading Data...\n"
          ],
          "name": "stdout"
        },
        {
          "output_type": "stream",
          "text": [
            "100%|██████████| 11.9k/11.9k [00:05<00:00, 2.19kit/s]\n",
            "0.00it [00:00, ?it/s]\n"
          ],
          "name": "stderr"
        },
        {
          "output_type": "stream",
          "text": [
            "\n",
            "Epoch 00001: LearningRateScheduler reducing learning rate to 1e-05.\n",
            "372/372 [==============================] - 30s 80ms/step - acc: 0.8902 - loss: 0.4175 - lr: 1.0000e-05\n",
            "Epoch 0/3 Step 200/335\n",
            "Loading Data...\n"
          ],
          "name": "stdout"
        },
        {
          "output_type": "stream",
          "text": [
            "100%|██████████| 11.9k/11.9k [00:05<00:00, 2.20kit/s]\n",
            "0.00it [00:00, ?it/s]\n"
          ],
          "name": "stderr"
        },
        {
          "output_type": "stream",
          "text": [
            "\n",
            "Epoch 00001: LearningRateScheduler reducing learning rate to 1e-05.\n",
            "372/372 [==============================] - 30s 81ms/step - acc: 0.8861 - loss: 0.4214 - lr: 1.0000e-05\n",
            "Run Validation...\n",
            "3125/3125 [==============================] - 67s 22ms/step - acc: 0.8921 - loss: 0.4158\n",
            "No improvement since: 1\n",
            "Epoch 0/3 Step 201/335\n",
            "Loading Data...\n"
          ],
          "name": "stdout"
        },
        {
          "output_type": "stream",
          "text": [
            "100%|██████████| 11.9k/11.9k [00:06<00:00, 1.93kit/s]\n",
            "0.00it [00:00, ?it/s]\n"
          ],
          "name": "stderr"
        },
        {
          "output_type": "stream",
          "text": [
            "\n",
            "Epoch 00001: LearningRateScheduler reducing learning rate to 1e-05.\n",
            "372/372 [==============================] - 30s 80ms/step - acc: 0.8697 - loss: 0.4356 - lr: 1.0000e-05\n",
            "Epoch 0/3 Step 202/335\n",
            "Loading Data...\n"
          ],
          "name": "stdout"
        },
        {
          "output_type": "stream",
          "text": [
            "100%|██████████| 11.9k/11.9k [00:05<00:00, 2.15kit/s]\n",
            "0.00it [00:00, ?it/s]\n"
          ],
          "name": "stderr"
        },
        {
          "output_type": "stream",
          "text": [
            "\n",
            "Epoch 00001: LearningRateScheduler reducing learning rate to 1e-05.\n",
            "372/372 [==============================] - 30s 81ms/step - acc: 0.8451 - loss: 0.4581 - lr: 1.0000e-05\n",
            "Epoch 0/3 Step 203/335\n",
            "Loading Data...\n"
          ],
          "name": "stdout"
        },
        {
          "output_type": "stream",
          "text": [
            "100%|██████████| 11.9k/11.9k [00:05<00:00, 2.31kit/s]\n",
            "0.00it [00:00, ?it/s]\n"
          ],
          "name": "stderr"
        },
        {
          "output_type": "stream",
          "text": [
            "\n",
            "Epoch 00001: LearningRateScheduler reducing learning rate to 1e-05.\n",
            "372/372 [==============================] - 30s 82ms/step - acc: 0.8490 - loss: 0.4547 - lr: 1.0000e-05\n",
            "Epoch 0/3 Step 204/335\n",
            "Loading Data...\n"
          ],
          "name": "stdout"
        },
        {
          "output_type": "stream",
          "text": [
            "100%|██████████| 11.9k/11.9k [00:05<00:00, 2.27kit/s]\n",
            "0.00it [00:00, ?it/s]\n"
          ],
          "name": "stderr"
        },
        {
          "output_type": "stream",
          "text": [
            "\n",
            "Epoch 00001: LearningRateScheduler reducing learning rate to 1e-05.\n",
            "372/372 [==============================] - 30s 81ms/step - acc: 0.8469 - loss: 0.4572 - lr: 1.0000e-05\n",
            "Epoch 0/3 Step 205/335\n",
            "Loading Data...\n"
          ],
          "name": "stdout"
        },
        {
          "output_type": "stream",
          "text": [
            "100%|██████████| 11.9k/11.9k [00:05<00:00, 2.33kit/s]\n",
            "0.00it [00:00, ?it/s]\n"
          ],
          "name": "stderr"
        },
        {
          "output_type": "stream",
          "text": [
            "\n",
            "Epoch 00001: LearningRateScheduler reducing learning rate to 1e-05.\n",
            "372/372 [==============================] - 30s 80ms/step - acc: 0.8532 - loss: 0.4518 - lr: 1.0000e-05\n",
            "Epoch 0/3 Step 206/335\n",
            "Loading Data...\n"
          ],
          "name": "stdout"
        },
        {
          "output_type": "stream",
          "text": [
            "100%|██████████| 11.9k/11.9k [00:05<00:00, 2.16kit/s]\n",
            "0.00it [00:00, ?it/s]\n"
          ],
          "name": "stderr"
        },
        {
          "output_type": "stream",
          "text": [
            "\n",
            "Epoch 00001: LearningRateScheduler reducing learning rate to 1e-05.\n",
            "372/372 [==============================] - 30s 80ms/step - acc: 0.8530 - loss: 0.4516 - lr: 1.0000e-05\n",
            "Epoch 0/3 Step 207/335\n",
            "Loading Data...\n"
          ],
          "name": "stdout"
        },
        {
          "output_type": "stream",
          "text": [
            "100%|██████████| 11.9k/11.9k [00:05<00:00, 2.32kit/s]\n",
            "0.00it [00:00, ?it/s]\n"
          ],
          "name": "stderr"
        },
        {
          "output_type": "stream",
          "text": [
            "\n",
            "Epoch 00001: LearningRateScheduler reducing learning rate to 1e-05.\n",
            "372/372 [==============================] - 30s 80ms/step - acc: 0.8549 - loss: 0.4492 - lr: 1.0000e-05\n",
            "Epoch 0/3 Step 208/335\n",
            "Loading Data...\n"
          ],
          "name": "stdout"
        },
        {
          "output_type": "stream",
          "text": [
            "100%|██████████| 11.9k/11.9k [00:05<00:00, 2.29kit/s]\n",
            "0.00it [00:00, ?it/s]\n"
          ],
          "name": "stderr"
        },
        {
          "output_type": "stream",
          "text": [
            "\n",
            "Epoch 00001: LearningRateScheduler reducing learning rate to 1e-05.\n",
            "372/372 [==============================] - 30s 80ms/step - acc: 0.8532 - loss: 0.4513 - lr: 1.0000e-05\n",
            "Epoch 0/3 Step 209/335\n",
            "Loading Data...\n"
          ],
          "name": "stdout"
        },
        {
          "output_type": "stream",
          "text": [
            "100%|██████████| 11.9k/11.9k [00:05<00:00, 2.27kit/s]\n",
            "0.00it [00:00, ?it/s]\n"
          ],
          "name": "stderr"
        },
        {
          "output_type": "stream",
          "text": [
            "\n",
            "Epoch 00001: LearningRateScheduler reducing learning rate to 1e-05.\n",
            "372/372 [==============================] - 30s 80ms/step - acc: 0.8541 - loss: 0.4520 - lr: 1.0000e-05\n",
            "Epoch 0/3 Step 210/335\n",
            "Loading Data...\n"
          ],
          "name": "stdout"
        },
        {
          "output_type": "stream",
          "text": [
            "100%|██████████| 11.9k/11.9k [00:05<00:00, 2.28kit/s]\n",
            "0.00it [00:00, ?it/s]\n"
          ],
          "name": "stderr"
        },
        {
          "output_type": "stream",
          "text": [
            "\n",
            "Epoch 00001: LearningRateScheduler reducing learning rate to 1e-05.\n",
            "372/372 [==============================] - 30s 80ms/step - acc: 0.8497 - loss: 0.4537 - lr: 1.0000e-05\n",
            "Run Validation...\n",
            "3125/3125 [==============================] - 66s 21ms/step - acc: 0.8813 - loss: 0.4251\n",
            "No improvement since: 2\n",
            "Epoch 0/3 Step 211/335\n",
            "Loading Data...\n"
          ],
          "name": "stdout"
        },
        {
          "output_type": "stream",
          "text": [
            "100%|██████████| 11.9k/11.9k [00:05<00:00, 2.08kit/s]\n",
            "0.00it [00:00, ?it/s]\n"
          ],
          "name": "stderr"
        },
        {
          "output_type": "stream",
          "text": [
            "\n",
            "Epoch 00001: LearningRateScheduler reducing learning rate to 1e-05.\n",
            "372/372 [==============================] - 30s 81ms/step - acc: 0.8511 - loss: 0.4521 - lr: 1.0000e-05\n",
            "Epoch 0/3 Step 212/335\n",
            "Loading Data...\n"
          ],
          "name": "stdout"
        },
        {
          "output_type": "stream",
          "text": [
            "100%|██████████| 11.9k/11.9k [00:05<00:00, 2.32kit/s]\n",
            "0.00it [00:00, ?it/s]\n"
          ],
          "name": "stderr"
        },
        {
          "output_type": "stream",
          "text": [
            "\n",
            "Epoch 00001: LearningRateScheduler reducing learning rate to 1e-05.\n",
            "372/372 [==============================] - 30s 80ms/step - acc: 0.8606 - loss: 0.4456 - lr: 1.0000e-05\n",
            "Epoch 0/3 Step 213/335\n",
            "Loading Data...\n"
          ],
          "name": "stdout"
        },
        {
          "output_type": "stream",
          "text": [
            "100%|██████████| 11.9k/11.9k [00:05<00:00, 2.32kit/s]\n",
            "0.00it [00:00, ?it/s]\n"
          ],
          "name": "stderr"
        },
        {
          "output_type": "stream",
          "text": [
            "\n",
            "Epoch 00001: LearningRateScheduler reducing learning rate to 1e-05.\n",
            "372/372 [==============================] - 30s 80ms/step - acc: 0.8550 - loss: 0.4492 - lr: 1.0000e-05\n",
            "Epoch 0/3 Step 214/335\n",
            "Loading Data...\n"
          ],
          "name": "stdout"
        },
        {
          "output_type": "stream",
          "text": [
            "100%|██████████| 11.9k/11.9k [00:05<00:00, 2.33kit/s]\n",
            "0.00it [00:00, ?it/s]\n"
          ],
          "name": "stderr"
        },
        {
          "output_type": "stream",
          "text": [
            "\n",
            "Epoch 00001: LearningRateScheduler reducing learning rate to 1e-05.\n",
            "372/372 [==============================] - 30s 80ms/step - acc: 0.8559 - loss: 0.4509 - lr: 1.0000e-05\n",
            "Epoch 0/3 Step 215/335\n",
            "Loading Data...\n"
          ],
          "name": "stdout"
        },
        {
          "output_type": "stream",
          "text": [
            "100%|██████████| 11.9k/11.9k [00:05<00:00, 2.32kit/s]\n",
            "0.00it [00:00, ?it/s]\n"
          ],
          "name": "stderr"
        },
        {
          "output_type": "stream",
          "text": [
            "\n",
            "Epoch 00001: LearningRateScheduler reducing learning rate to 1e-05.\n",
            "372/372 [==============================] - 30s 80ms/step - acc: 0.8589 - loss: 0.4466 - lr: 1.0000e-05\n",
            "Epoch 0/3 Step 216/335\n",
            "Loading Data...\n"
          ],
          "name": "stdout"
        },
        {
          "output_type": "stream",
          "text": [
            "100%|██████████| 11.9k/11.9k [00:05<00:00, 2.33kit/s]\n",
            "0.00it [00:00, ?it/s]\n"
          ],
          "name": "stderr"
        },
        {
          "output_type": "stream",
          "text": [
            "\n",
            "Epoch 00001: LearningRateScheduler reducing learning rate to 1e-05.\n",
            "372/372 [==============================] - 30s 81ms/step - acc: 0.8553 - loss: 0.4484 - lr: 1.0000e-05\n",
            "Epoch 0/3 Step 217/335\n",
            "Loading Data...\n"
          ],
          "name": "stdout"
        },
        {
          "output_type": "stream",
          "text": [
            "100%|██████████| 11.9k/11.9k [00:05<00:00, 2.30kit/s]\n",
            "0.00it [00:00, ?it/s]\n"
          ],
          "name": "stderr"
        },
        {
          "output_type": "stream",
          "text": [
            "\n",
            "Epoch 00001: LearningRateScheduler reducing learning rate to 1e-05.\n",
            "372/372 [==============================] - 30s 80ms/step - acc: 0.8600 - loss: 0.4456 - lr: 1.0000e-05\n",
            "Epoch 0/3 Step 218/335\n",
            "Loading Data...\n"
          ],
          "name": "stdout"
        },
        {
          "output_type": "stream",
          "text": [
            "100%|██████████| 11.9k/11.9k [00:05<00:00, 2.30kit/s]\n",
            "0.00it [00:00, ?it/s]\n"
          ],
          "name": "stderr"
        },
        {
          "output_type": "stream",
          "text": [
            "\n",
            "Epoch 00001: LearningRateScheduler reducing learning rate to 1e-05.\n",
            "372/372 [==============================] - 30s 79ms/step - acc: 0.8553 - loss: 0.4498 - lr: 1.0000e-05\n",
            "Epoch 0/3 Step 219/335\n",
            "Loading Data...\n"
          ],
          "name": "stdout"
        },
        {
          "output_type": "stream",
          "text": [
            "100%|██████████| 11.9k/11.9k [00:05<00:00, 2.33kit/s]\n",
            "0.00it [00:00, ?it/s]\n"
          ],
          "name": "stderr"
        },
        {
          "output_type": "stream",
          "text": [
            "\n",
            "Epoch 00001: LearningRateScheduler reducing learning rate to 1e-05.\n",
            "372/372 [==============================] - 30s 81ms/step - acc: 0.8596 - loss: 0.4443 - lr: 1.0000e-05\n",
            "Epoch 0/3 Step 220/335\n",
            "Loading Data...\n"
          ],
          "name": "stdout"
        },
        {
          "output_type": "stream",
          "text": [
            "100%|██████████| 11.9k/11.9k [00:05<00:00, 2.35kit/s]\n",
            "0.00it [00:00, ?it/s]\n"
          ],
          "name": "stderr"
        },
        {
          "output_type": "stream",
          "text": [
            "\n",
            "Epoch 00001: LearningRateScheduler reducing learning rate to 1e-05.\n",
            "372/372 [==============================] - 30s 80ms/step - acc: 0.8631 - loss: 0.4420 - lr: 1.0000e-05\n",
            "Run Validation...\n",
            "3125/3125 [==============================] - 69s 22ms/step - acc: 0.8696 - loss: 0.4372\n",
            "No improvement since: 3\n",
            "Epoch 0/3 Step 221/335\n",
            "Loading Data...\n"
          ],
          "name": "stdout"
        },
        {
          "output_type": "stream",
          "text": [
            "100%|██████████| 11.9k/11.9k [00:05<00:00, 2.19kit/s]\n",
            "0.00it [00:00, ?it/s]\n"
          ],
          "name": "stderr"
        },
        {
          "output_type": "stream",
          "text": [
            "\n",
            "Epoch 00001: LearningRateScheduler reducing learning rate to 1e-05.\n",
            "372/372 [==============================] - 30s 79ms/step - acc: 0.8595 - loss: 0.4467 - lr: 1.0000e-05\n",
            "Epoch 0/3 Step 222/335\n",
            "Loading Data...\n"
          ],
          "name": "stdout"
        },
        {
          "output_type": "stream",
          "text": [
            "100%|██████████| 11.9k/11.9k [00:05<00:00, 2.30kit/s]\n",
            "0.00it [00:00, ?it/s]\n"
          ],
          "name": "stderr"
        },
        {
          "output_type": "stream",
          "text": [
            "\n",
            "Epoch 00001: LearningRateScheduler reducing learning rate to 1e-05.\n",
            "372/372 [==============================] - 30s 80ms/step - acc: 0.8541 - loss: 0.4514 - lr: 1.0000e-05\n",
            "Epoch 0/3 Step 223/335\n",
            "Loading Data...\n"
          ],
          "name": "stdout"
        },
        {
          "output_type": "stream",
          "text": [
            "100%|██████████| 11.9k/11.9k [00:05<00:00, 2.29kit/s]\n",
            "0.00it [00:00, ?it/s]\n"
          ],
          "name": "stderr"
        },
        {
          "output_type": "stream",
          "text": [
            "\n",
            "Epoch 00001: LearningRateScheduler reducing learning rate to 1e-05.\n",
            "372/372 [==============================] - 30s 80ms/step - acc: 0.8611 - loss: 0.4433 - lr: 1.0000e-05\n",
            "Epoch 0/3 Step 224/335\n",
            "Loading Data...\n"
          ],
          "name": "stdout"
        },
        {
          "output_type": "stream",
          "text": [
            "100%|██████████| 11.9k/11.9k [00:05<00:00, 2.32kit/s]\n",
            "0.00it [00:00, ?it/s]\n"
          ],
          "name": "stderr"
        },
        {
          "output_type": "stream",
          "text": [
            "\n",
            "Epoch 00001: LearningRateScheduler reducing learning rate to 1e-05.\n",
            "372/372 [==============================] - 30s 80ms/step - acc: 0.8575 - loss: 0.4479 - lr: 1.0000e-05\n",
            "Epoch 0/3 Step 225/335\n",
            "Loading Data...\n"
          ],
          "name": "stdout"
        },
        {
          "output_type": "stream",
          "text": [
            "100%|██████████| 11.9k/11.9k [00:05<00:00, 2.28kit/s]\n",
            "0.00it [00:00, ?it/s]\n"
          ],
          "name": "stderr"
        },
        {
          "output_type": "stream",
          "text": [
            "\n",
            "Epoch 00001: LearningRateScheduler reducing learning rate to 1e-05.\n",
            "372/372 [==============================] - 30s 81ms/step - acc: 0.8569 - loss: 0.4493 - lr: 1.0000e-05\n",
            "Epoch 0/3 Step 226/335\n",
            "Loading Data...\n"
          ],
          "name": "stdout"
        },
        {
          "output_type": "stream",
          "text": [
            "100%|██████████| 11.9k/11.9k [00:05<00:00, 2.29kit/s]\n",
            "0.00it [00:00, ?it/s]\n"
          ],
          "name": "stderr"
        },
        {
          "output_type": "stream",
          "text": [
            "\n",
            "Epoch 00001: LearningRateScheduler reducing learning rate to 1e-05.\n",
            "372/372 [==============================] - 30s 81ms/step - acc: 0.8595 - loss: 0.4462 - lr: 1.0000e-05\n",
            "Epoch 0/3 Step 227/335\n",
            "Loading Data...\n"
          ],
          "name": "stdout"
        },
        {
          "output_type": "stream",
          "text": [
            "100%|██████████| 11.9k/11.9k [00:05<00:00, 2.31kit/s]\n",
            "0.00it [00:00, ?it/s]\n"
          ],
          "name": "stderr"
        },
        {
          "output_type": "stream",
          "text": [
            "\n",
            "Epoch 00001: LearningRateScheduler reducing learning rate to 1e-05.\n",
            "372/372 [==============================] - 29s 79ms/step - acc: 0.8616 - loss: 0.4453 - lr: 1.0000e-05\n",
            "Epoch 0/3 Step 228/335\n",
            "Loading Data...\n"
          ],
          "name": "stdout"
        },
        {
          "output_type": "stream",
          "text": [
            "100%|██████████| 11.9k/11.9k [00:05<00:00, 2.25kit/s]\n",
            "0.00it [00:00, ?it/s]\n"
          ],
          "name": "stderr"
        },
        {
          "output_type": "stream",
          "text": [
            "\n",
            "Epoch 00001: LearningRateScheduler reducing learning rate to 1e-05.\n",
            "372/372 [==============================] - 30s 80ms/step - acc: 0.8610 - loss: 0.4463 - lr: 1.0000e-05\n",
            "Epoch 0/3 Step 229/335\n",
            "Loading Data...\n"
          ],
          "name": "stdout"
        },
        {
          "output_type": "stream",
          "text": [
            "100%|██████████| 11.9k/11.9k [00:05<00:00, 2.29kit/s]\n",
            "0.00it [00:00, ?it/s]\n"
          ],
          "name": "stderr"
        },
        {
          "output_type": "stream",
          "text": [
            "\n",
            "Epoch 00001: LearningRateScheduler reducing learning rate to 1e-05.\n",
            "372/372 [==============================] - 30s 79ms/step - acc: 0.8643 - loss: 0.4429 - lr: 1.0000e-05\n",
            "Epoch 0/3 Step 230/335\n",
            "Loading Data...\n"
          ],
          "name": "stdout"
        },
        {
          "output_type": "stream",
          "text": [
            "100%|██████████| 11.9k/11.9k [00:05<00:00, 2.28kit/s]\n",
            "0.00it [00:00, ?it/s]\n"
          ],
          "name": "stderr"
        },
        {
          "output_type": "stream",
          "text": [
            "\n",
            "Epoch 00001: LearningRateScheduler reducing learning rate to 1e-05.\n",
            "372/372 [==============================] - 30s 80ms/step - acc: 0.8574 - loss: 0.4472 - lr: 1.0000e-05\n",
            "Run Validation...\n",
            "3125/3125 [==============================] - 70s 22ms/step - acc: 0.8757 - loss: 0.4299\n",
            "No improvement since: 4\n",
            "Epoch 0/3 Step 231/335\n",
            "Loading Data...\n"
          ],
          "name": "stdout"
        },
        {
          "output_type": "stream",
          "text": [
            "100%|██████████| 11.9k/11.9k [00:05<00:00, 2.31kit/s]\n",
            "0.00it [00:00, ?it/s]\n"
          ],
          "name": "stderr"
        },
        {
          "output_type": "stream",
          "text": [
            "\n",
            "Epoch 00001: LearningRateScheduler reducing learning rate to 1e-05.\n",
            "372/372 [==============================] - 29s 79ms/step - acc: 0.8570 - loss: 0.4483 - lr: 1.0000e-05\n",
            "Epoch 0/3 Step 232/335\n",
            "Loading Data...\n"
          ],
          "name": "stdout"
        },
        {
          "output_type": "stream",
          "text": [
            "100%|██████████| 11.9k/11.9k [00:05<00:00, 2.29kit/s]\n",
            "0.00it [00:00, ?it/s]\n"
          ],
          "name": "stderr"
        },
        {
          "output_type": "stream",
          "text": [
            "\n",
            "Epoch 00001: LearningRateScheduler reducing learning rate to 1e-05.\n",
            "372/372 [==============================] - 30s 80ms/step - acc: 0.8593 - loss: 0.4446 - lr: 1.0000e-05\n",
            "Epoch 0/3 Step 233/335\n",
            "Loading Data...\n"
          ],
          "name": "stdout"
        },
        {
          "output_type": "stream",
          "text": [
            "100%|██████████| 11.9k/11.9k [00:05<00:00, 2.28kit/s]\n",
            "0.00it [00:00, ?it/s]\n"
          ],
          "name": "stderr"
        },
        {
          "output_type": "stream",
          "text": [
            "\n",
            "Epoch 00001: LearningRateScheduler reducing learning rate to 1e-05.\n",
            "372/372 [==============================] - 30s 80ms/step - acc: 0.8563 - loss: 0.4493 - lr: 1.0000e-05\n",
            "Epoch 0/3 Step 234/335\n",
            "Loading Data...\n"
          ],
          "name": "stdout"
        },
        {
          "output_type": "stream",
          "text": [
            "100%|██████████| 11.9k/11.9k [00:05<00:00, 2.32kit/s]\n",
            "0.00it [00:00, ?it/s]\n"
          ],
          "name": "stderr"
        },
        {
          "output_type": "stream",
          "text": [
            "\n",
            "Epoch 00001: LearningRateScheduler reducing learning rate to 1e-05.\n",
            "372/372 [==============================] - 30s 81ms/step - acc: 0.8586 - loss: 0.4468 - lr: 1.0000e-05\n",
            "Epoch 0/3 Step 235/335\n",
            "Loading Data...\n"
          ],
          "name": "stdout"
        },
        {
          "output_type": "stream",
          "text": [
            "100%|██████████| 11.9k/11.9k [00:05<00:00, 2.27kit/s]\n",
            "0.00it [00:00, ?it/s]\n"
          ],
          "name": "stderr"
        },
        {
          "output_type": "stream",
          "text": [
            "\n",
            "Epoch 00001: LearningRateScheduler reducing learning rate to 1e-05.\n",
            "372/372 [==============================] - 30s 81ms/step - acc: 0.8584 - loss: 0.4471 - lr: 1.0000e-05\n",
            "Epoch 0/3 Step 236/335\n",
            "Loading Data...\n"
          ],
          "name": "stdout"
        },
        {
          "output_type": "stream",
          "text": [
            "100%|██████████| 11.9k/11.9k [00:05<00:00, 2.28kit/s]\n",
            "0.00it [00:00, ?it/s]\n"
          ],
          "name": "stderr"
        },
        {
          "output_type": "stream",
          "text": [
            "\n",
            "Epoch 00001: LearningRateScheduler reducing learning rate to 1e-05.\n",
            "372/372 [==============================] - 31s 83ms/step - acc: 0.8576 - loss: 0.4465 - lr: 1.0000e-05\n",
            "Epoch 0/3 Step 237/335\n",
            "Loading Data...\n"
          ],
          "name": "stdout"
        },
        {
          "output_type": "stream",
          "text": [
            "100%|██████████| 11.9k/11.9k [00:05<00:00, 2.30kit/s]\n",
            "0.00it [00:00, ?it/s]\n"
          ],
          "name": "stderr"
        },
        {
          "output_type": "stream",
          "text": [
            "\n",
            "Epoch 00001: LearningRateScheduler reducing learning rate to 1e-05.\n",
            "372/372 [==============================] - 29s 79ms/step - acc: 0.8578 - loss: 0.4479 - lr: 1.0000e-05\n",
            "Epoch 0/3 Step 238/335\n",
            "Loading Data...\n"
          ],
          "name": "stdout"
        },
        {
          "output_type": "stream",
          "text": [
            "100%|██████████| 11.9k/11.9k [00:05<00:00, 2.29kit/s]\n",
            "0.00it [00:00, ?it/s]\n"
          ],
          "name": "stderr"
        },
        {
          "output_type": "stream",
          "text": [
            "\n",
            "Epoch 00001: LearningRateScheduler reducing learning rate to 1e-05.\n",
            "372/372 [==============================] - 30s 82ms/step - acc: 0.8557 - loss: 0.4478 - lr: 1.0000e-05\n",
            "Epoch 0/3 Step 239/335\n",
            "Loading Data...\n"
          ],
          "name": "stdout"
        },
        {
          "output_type": "stream",
          "text": [
            "100%|██████████| 11.9k/11.9k [00:05<00:00, 2.27kit/s]\n",
            "0.00it [00:00, ?it/s]\n"
          ],
          "name": "stderr"
        },
        {
          "output_type": "stream",
          "text": [
            "\n",
            "Epoch 00001: LearningRateScheduler reducing learning rate to 1e-05.\n",
            "372/372 [==============================] - 30s 80ms/step - acc: 0.8548 - loss: 0.4487 - lr: 1.0000e-05\n",
            "Epoch 0/3 Step 240/335\n",
            "Loading Data...\n"
          ],
          "name": "stdout"
        },
        {
          "output_type": "stream",
          "text": [
            "100%|██████████| 11.9k/11.9k [00:05<00:00, 2.29kit/s]\n",
            "0.00it [00:00, ?it/s]\n"
          ],
          "name": "stderr"
        },
        {
          "output_type": "stream",
          "text": [
            "\n",
            "Epoch 00001: LearningRateScheduler reducing learning rate to 1e-05.\n",
            "372/372 [==============================] - 30s 81ms/step - acc: 0.8653 - loss: 0.4404 - lr: 1.0000e-05\n",
            "Run Validation...\n",
            "3125/3125 [==============================] - 67s 21ms/step - acc: 0.8741 - loss: 0.4329\n",
            "Decreasing Learning Rate to: 1.0000000000000002e-06\n",
            "Epoch 0/3 Step 241/335\n",
            "Loading Data...\n"
          ],
          "name": "stdout"
        },
        {
          "output_type": "stream",
          "text": [
            "100%|██████████| 11.9k/11.9k [00:05<00:00, 2.30kit/s]\n",
            "0.00it [00:00, ?it/s]\n"
          ],
          "name": "stderr"
        },
        {
          "output_type": "stream",
          "text": [
            "\n",
            "Epoch 00001: LearningRateScheduler reducing learning rate to 1.0000000000000002e-06.\n",
            "372/372 [==============================] - 30s 81ms/step - acc: 0.8602 - loss: 0.4464 - lr: 1.0000e-06\n",
            "Epoch 0/3 Step 242/335\n",
            "Loading Data...\n"
          ],
          "name": "stdout"
        },
        {
          "output_type": "stream",
          "text": [
            "100%|██████████| 11.9k/11.9k [00:05<00:00, 2.30kit/s]\n",
            "0.00it [00:00, ?it/s]\n"
          ],
          "name": "stderr"
        },
        {
          "output_type": "stream",
          "text": [
            "\n",
            "Epoch 00001: LearningRateScheduler reducing learning rate to 1.0000000000000002e-06.\n",
            "372/372 [==============================] - 30s 81ms/step - acc: 0.8613 - loss: 0.4441 - lr: 1.0000e-06\n",
            "Epoch 0/3 Step 243/335\n",
            "Loading Data...\n"
          ],
          "name": "stdout"
        },
        {
          "output_type": "stream",
          "text": [
            "100%|██████████| 11.9k/11.9k [00:05<00:00, 2.29kit/s]\n",
            "0.00it [00:00, ?it/s]\n"
          ],
          "name": "stderr"
        },
        {
          "output_type": "stream",
          "text": [
            "\n",
            "Epoch 00001: LearningRateScheduler reducing learning rate to 1.0000000000000002e-06.\n",
            "372/372 [==============================] - 29s 79ms/step - acc: 0.8635 - loss: 0.4416 - lr: 1.0000e-06\n",
            "Epoch 0/3 Step 244/335\n",
            "Loading Data...\n"
          ],
          "name": "stdout"
        },
        {
          "output_type": "stream",
          "text": [
            "100%|██████████| 11.9k/11.9k [00:05<00:00, 2.31kit/s]\n",
            "0.00it [00:00, ?it/s]\n"
          ],
          "name": "stderr"
        },
        {
          "output_type": "stream",
          "text": [
            "\n",
            "Epoch 00001: LearningRateScheduler reducing learning rate to 1.0000000000000002e-06.\n",
            "372/372 [==============================] - 30s 80ms/step - acc: 0.8614 - loss: 0.4449 - lr: 1.0000e-06\n",
            "Epoch 0/3 Step 245/335\n",
            "Loading Data...\n"
          ],
          "name": "stdout"
        },
        {
          "output_type": "stream",
          "text": [
            "100%|██████████| 11.9k/11.9k [00:05<00:00, 2.31kit/s]\n",
            "0.00it [00:00, ?it/s]\n"
          ],
          "name": "stderr"
        },
        {
          "output_type": "stream",
          "text": [
            "\n",
            "Epoch 00001: LearningRateScheduler reducing learning rate to 1.0000000000000002e-06.\n",
            "372/372 [==============================] - 29s 79ms/step - acc: 0.8672 - loss: 0.4408 - lr: 1.0000e-06\n",
            "Epoch 0/3 Step 246/335\n",
            "Loading Data...\n"
          ],
          "name": "stdout"
        },
        {
          "output_type": "stream",
          "text": [
            "100%|██████████| 11.9k/11.9k [00:05<00:00, 2.28kit/s]\n",
            "0.00it [00:00, ?it/s]\n"
          ],
          "name": "stderr"
        },
        {
          "output_type": "stream",
          "text": [
            "\n",
            "Epoch 00001: LearningRateScheduler reducing learning rate to 1.0000000000000002e-06.\n",
            "372/372 [==============================] - 30s 80ms/step - acc: 0.8612 - loss: 0.4432 - lr: 1.0000e-06\n",
            "Epoch 0/3 Step 247/335\n",
            "Loading Data...\n"
          ],
          "name": "stdout"
        },
        {
          "output_type": "stream",
          "text": [
            "100%|██████████| 11.9k/11.9k [00:05<00:00, 2.30kit/s]\n",
            "0.00it [00:00, ?it/s]\n"
          ],
          "name": "stderr"
        },
        {
          "output_type": "stream",
          "text": [
            "\n",
            "Epoch 00001: LearningRateScheduler reducing learning rate to 1.0000000000000002e-06.\n",
            "372/372 [==============================] - 30s 80ms/step - acc: 0.8606 - loss: 0.4451 - lr: 1.0000e-06\n",
            "Epoch 0/3 Step 248/335\n",
            "Loading Data...\n"
          ],
          "name": "stdout"
        },
        {
          "output_type": "stream",
          "text": [
            "100%|██████████| 11.9k/11.9k [00:05<00:00, 2.31kit/s]\n",
            "0.00it [00:00, ?it/s]\n"
          ],
          "name": "stderr"
        },
        {
          "output_type": "stream",
          "text": [
            "\n",
            "Epoch 00001: LearningRateScheduler reducing learning rate to 1.0000000000000002e-06.\n",
            "372/372 [==============================] - 29s 79ms/step - acc: 0.8606 - loss: 0.4450 - lr: 1.0000e-06\n",
            "Epoch 0/3 Step 249/335\n",
            "Loading Data...\n"
          ],
          "name": "stdout"
        },
        {
          "output_type": "stream",
          "text": [
            "100%|██████████| 11.9k/11.9k [00:05<00:00, 2.28kit/s]\n",
            "0.00it [00:00, ?it/s]\n"
          ],
          "name": "stderr"
        },
        {
          "output_type": "stream",
          "text": [
            "\n",
            "Epoch 00001: LearningRateScheduler reducing learning rate to 1.0000000000000002e-06.\n",
            "372/372 [==============================] - 29s 78ms/step - acc: 0.8653 - loss: 0.4405 - lr: 1.0000e-06\n",
            "Epoch 0/3 Step 250/335\n",
            "Loading Data...\n"
          ],
          "name": "stdout"
        },
        {
          "output_type": "stream",
          "text": [
            "100%|██████████| 11.9k/11.9k [00:05<00:00, 2.12kit/s]\n",
            "0.00it [00:00, ?it/s]\n"
          ],
          "name": "stderr"
        },
        {
          "output_type": "stream",
          "text": [
            "\n",
            "Epoch 00001: LearningRateScheduler reducing learning rate to 1.0000000000000002e-06.\n",
            "372/372 [==============================] - 30s 79ms/step - acc: 0.8616 - loss: 0.4424 - lr: 1.0000e-06\n",
            "Run Validation...\n",
            "3125/3125 [==============================] - 66s 21ms/step - acc: 0.8750 - loss: 0.4317\n",
            "Decreasing Learning Rate to: 1.0000000000000002e-07\n",
            "Epoch 0/3 Step 251/335\n",
            "Loading Data...\n"
          ],
          "name": "stdout"
        },
        {
          "output_type": "stream",
          "text": [
            "100%|██████████| 11.9k/11.9k [00:05<00:00, 2.28kit/s]\n",
            "0.00it [00:00, ?it/s]\n"
          ],
          "name": "stderr"
        },
        {
          "output_type": "stream",
          "text": [
            "\n",
            "Epoch 00001: LearningRateScheduler reducing learning rate to 1.0000000000000002e-07.\n",
            "372/372 [==============================] - 30s 80ms/step - acc: 0.8655 - loss: 0.4410 - lr: 1.0000e-07\n",
            "Epoch 0/3 Step 252/335\n",
            "Loading Data...\n"
          ],
          "name": "stdout"
        },
        {
          "output_type": "stream",
          "text": [
            "100%|██████████| 11.9k/11.9k [00:05<00:00, 2.29kit/s]\n",
            "0.00it [00:00, ?it/s]\n"
          ],
          "name": "stderr"
        },
        {
          "output_type": "stream",
          "text": [
            "\n",
            "Epoch 00001: LearningRateScheduler reducing learning rate to 1.0000000000000002e-07.\n",
            "372/372 [==============================] - 30s 80ms/step - acc: 0.8685 - loss: 0.4381 - lr: 1.0000e-07\n",
            "Epoch 0/3 Step 253/335\n",
            "Loading Data...\n"
          ],
          "name": "stdout"
        },
        {
          "output_type": "stream",
          "text": [
            "100%|██████████| 11.9k/11.9k [00:05<00:00, 2.30kit/s]\n",
            "0.00it [00:00, ?it/s]\n"
          ],
          "name": "stderr"
        },
        {
          "output_type": "stream",
          "text": [
            "\n",
            "Epoch 00001: LearningRateScheduler reducing learning rate to 1.0000000000000002e-07.\n",
            "372/372 [==============================] - 30s 80ms/step - acc: 0.8686 - loss: 0.4390 - lr: 1.0000e-07\n",
            "Epoch 0/3 Step 254/335\n",
            "Loading Data...\n"
          ],
          "name": "stdout"
        },
        {
          "output_type": "stream",
          "text": [
            "100%|██████████| 11.9k/11.9k [00:05<00:00, 2.30kit/s]\n",
            "0.00it [00:00, ?it/s]\n"
          ],
          "name": "stderr"
        },
        {
          "output_type": "stream",
          "text": [
            "\n",
            "Epoch 00001: LearningRateScheduler reducing learning rate to 1.0000000000000002e-07.\n",
            "372/372 [==============================] - 30s 80ms/step - acc: 0.8656 - loss: 0.4412 - lr: 1.0000e-07\n",
            "Epoch 0/3 Step 255/335\n",
            "Loading Data...\n"
          ],
          "name": "stdout"
        },
        {
          "output_type": "stream",
          "text": [
            "100%|██████████| 11.9k/11.9k [00:05<00:00, 2.29kit/s]\n",
            "0.00it [00:00, ?it/s]\n"
          ],
          "name": "stderr"
        },
        {
          "output_type": "stream",
          "text": [
            "\n",
            "Epoch 00001: LearningRateScheduler reducing learning rate to 1.0000000000000002e-07.\n",
            "372/372 [==============================] - 30s 80ms/step - acc: 0.8606 - loss: 0.4462 - lr: 1.0000e-07\n",
            "Epoch 0/3 Step 256/335\n",
            "Loading Data...\n"
          ],
          "name": "stdout"
        },
        {
          "output_type": "stream",
          "text": [
            "100%|██████████| 11.9k/11.9k [00:05<00:00, 2.29kit/s]\n",
            "0.00it [00:00, ?it/s]\n"
          ],
          "name": "stderr"
        },
        {
          "output_type": "stream",
          "text": [
            "\n",
            "Epoch 00001: LearningRateScheduler reducing learning rate to 1.0000000000000002e-07.\n",
            "372/372 [==============================] - 30s 80ms/step - acc: 0.8624 - loss: 0.4440 - lr: 1.0000e-07\n",
            "Epoch 0/3 Step 257/335\n",
            "Loading Data...\n"
          ],
          "name": "stdout"
        },
        {
          "output_type": "stream",
          "text": [
            "100%|██████████| 11.9k/11.9k [00:05<00:00, 2.29kit/s]\n",
            "0.00it [00:00, ?it/s]\n"
          ],
          "name": "stderr"
        },
        {
          "output_type": "stream",
          "text": [
            "\n",
            "Epoch 00001: LearningRateScheduler reducing learning rate to 1.0000000000000002e-07.\n",
            "372/372 [==============================] - 30s 80ms/step - acc: 0.8650 - loss: 0.4406 - lr: 1.0000e-07\n",
            "Epoch 0/3 Step 258/335\n",
            "Loading Data...\n"
          ],
          "name": "stdout"
        },
        {
          "output_type": "stream",
          "text": [
            "100%|██████████| 11.9k/11.9k [00:05<00:00, 2.29kit/s]\n",
            "0.00it [00:00, ?it/s]\n"
          ],
          "name": "stderr"
        },
        {
          "output_type": "stream",
          "text": [
            "\n",
            "Epoch 00001: LearningRateScheduler reducing learning rate to 1.0000000000000002e-07.\n",
            "372/372 [==============================] - 30s 81ms/step - acc: 0.8592 - loss: 0.4447 - lr: 1.0000e-07\n",
            "Epoch 0/3 Step 259/335\n",
            "Loading Data...\n"
          ],
          "name": "stdout"
        },
        {
          "output_type": "stream",
          "text": [
            "100%|██████████| 11.9k/11.9k [00:05<00:00, 2.31kit/s]\n",
            "0.00it [00:00, ?it/s]\n"
          ],
          "name": "stderr"
        },
        {
          "output_type": "stream",
          "text": [
            "\n",
            "Epoch 00001: LearningRateScheduler reducing learning rate to 1.0000000000000002e-07.\n",
            "372/372 [==============================] - 31s 82ms/step - acc: 0.8616 - loss: 0.4424 - lr: 1.0000e-07\n",
            "Epoch 0/3 Step 260/335\n",
            "Loading Data...\n"
          ],
          "name": "stdout"
        },
        {
          "output_type": "stream",
          "text": [
            "100%|██████████| 11.9k/11.9k [00:05<00:00, 2.15kit/s]\n",
            "0.00it [00:00, ?it/s]\n"
          ],
          "name": "stderr"
        },
        {
          "output_type": "stream",
          "text": [
            "\n",
            "Epoch 00001: LearningRateScheduler reducing learning rate to 1.0000000000000002e-07.\n",
            "372/372 [==============================] - 31s 82ms/step - acc: 0.8641 - loss: 0.4414 - lr: 1.0000e-07\n",
            "Run Validation...\n",
            "3125/3125 [==============================] - 68s 22ms/step - acc: 0.8752 - loss: 0.4315\n",
            "Learning Finished Early\n",
            "Epoch 1/3 Step 0/335\n",
            "Loading Data...\n"
          ],
          "name": "stdout"
        },
        {
          "output_type": "stream",
          "text": [
            "100%|██████████| 11.9k/11.9k [00:06<00:00, 1.74kit/s]\n",
            "0.00it [00:00, ?it/s]\n"
          ],
          "name": "stderr"
        },
        {
          "output_type": "stream",
          "text": [
            "\n",
            "Epoch 00001: LearningRateScheduler reducing learning rate to 1.0000000000000004e-08.\n",
            "372/372 [==============================] - 29s 77ms/step - acc: 0.8632 - loss: 0.4430 - lr: 1.0000e-08\n",
            "Run Validation...\n",
            "3125/3125 [==============================] - 68s 22ms/step - acc: 0.8765 - loss: 0.4304\n",
            "Learning Finished Early\n",
            "Epoch 2/3 Step 0/335\n",
            "Loading Data...\n"
          ],
          "name": "stdout"
        },
        {
          "output_type": "stream",
          "text": [
            "100%|██████████| 11.9k/11.9k [00:06<00:00, 1.81kit/s]\n",
            "0.00it [00:00, ?it/s]\n"
          ],
          "name": "stderr"
        },
        {
          "output_type": "stream",
          "text": [
            "\n",
            "Epoch 00001: LearningRateScheduler reducing learning rate to 1.0000000000000005e-09.\n",
            "372/372 [==============================] - 29s 77ms/step - acc: 0.8621 - loss: 0.4424 - lr: 1.0000e-09\n",
            "Run Validation...\n",
            "3125/3125 [==============================] - 66s 21ms/step - acc: 0.8766 - loss: 0.4304\n",
            "Learning Finished Early\n",
            "Epoch 3/3 Step 0/335\n",
            "Loading Data...\n"
          ],
          "name": "stdout"
        },
        {
          "output_type": "stream",
          "text": [
            "100%|██████████| 11.9k/11.9k [00:06<00:00, 1.78kit/s]\n",
            "0.00it [00:00, ?it/s]\n"
          ],
          "name": "stderr"
        },
        {
          "output_type": "stream",
          "text": [
            "\n",
            "Epoch 00001: LearningRateScheduler reducing learning rate to 1.0000000000000006e-10.\n",
            "372/372 [==============================] - 29s 78ms/step - acc: 0.8655 - loss: 0.4413 - lr: 1.0000e-10\n",
            "Run Validation...\n",
            "3125/3125 [==============================] - 69s 22ms/step - acc: 0.8766 - loss: 0.4304\n",
            "Learning Finished Early\n"
          ],
          "name": "stdout"
        }
      ]
    },
    {
      "cell_type": "markdown",
      "metadata": {
        "id": "L24eTyrfeyJM",
        "colab_type": "text"
      },
      "source": [
        "## Generate Plots"
      ]
    },
    {
      "cell_type": "code",
      "metadata": {
        "id": "Nmq0A3GXdm-4",
        "colab_type": "code",
        "colab": {}
      },
      "source": [
        "# Code to generate Plots from Files"
      ],
      "execution_count": null,
      "outputs": []
    },
    {
      "cell_type": "markdown",
      "metadata": {
        "id": "hXCGf-SMa-C5",
        "colab_type": "text"
      },
      "source": [
        "# Check How Many Duplicated Sentences we have"
      ]
    },
    {
      "cell_type": "code",
      "metadata": {
        "id": "wXimXVYua8u7",
        "colab_type": "code",
        "colab": {}
      },
      "source": [
        "positive_data = []\n",
        "with open(DATASET_FILE_TRAIN_POS, \"r\") as f:\n",
        "  for x in f:\n",
        "    positive_data.append(x)\n",
        "\n",
        "negative_data = []\n",
        "with open(DATASET_FILE_TRAIN_NEG, \"r\") as f:\n",
        "  for x in f:\n",
        "    negative_data.append(x)\n",
        "\n",
        "print(len(positive_data))\n",
        "positive_data = list(dict.fromkeys(positive_data))\n",
        "print(len(positive_data))\n",
        "\n",
        "print(len(negative_data))\n",
        "negative_data = list(dict.fromkeys(negative_data))\n",
        "print(len(negative_data))"
      ],
      "execution_count": null,
      "outputs": []
    },
    {
      "cell_type": "markdown",
      "metadata": {
        "id": "AUCypRRM4RjF",
        "colab_type": "text"
      },
      "source": [
        "## Preprocess test-set"
      ]
    },
    {
      "cell_type": "code",
      "metadata": {
        "id": "cWS4vv1VE87w",
        "colab_type": "code",
        "colab": {
          "base_uri": "https://localhost:8080/",
          "height": 1000
        },
        "outputId": "0b8302d3-7291-460d-e0a1-a4316eba3de9"
      },
      "source": [
        "test_data = []\n",
        "with open(DATASET_FILE_TEST, \"r\") as f:\n",
        "  for x in f:\n",
        "    test_data.append(x)\n",
        "\n",
        "encoded_test_data = []\n",
        "for x in test_data:\n",
        "  result, _ = pre_process_positive(tf.convert_to_tensor(x), 128)\n",
        "  encoded_test_data.append(tf.reshape(tf.convert_to_tensor(result), (1,128)))\n",
        "encoded_test_ds = tf.data.Dataset.from_tensor_slices(encoded_test_data)"
      ],
      "execution_count": null,
      "outputs": [
        {
          "output_type": "stream",
          "text": [
            "1250000\n",
            "1127644\n",
            "1250000\n",
            "1142838\n",
            "tf.Tensor(\n",
            "[[    2   137    15  6858    13 12473   895   598 27744    13     5  1059\n",
            "     29    14 13469   598     8 12473   598  8328   111   815 19863   282\n",
            "     13    15  1179  1045    19    14   308    17    13     9     9     9\n",
            "     13     1   911   255     1     3     0     0     0     0     0     0\n",
            "      0     0     0     0     0     0     0     0     0     0     0     0\n",
            "      0     0     0     0     0     0     0     0     0     0     0     0\n",
            "      0     0     0     0     0     0     0     0     0     0     0     0\n",
            "      0     0     0     0     0     0     0     0     0     0     0     0\n",
            "      0     0     0     0     0     0     0     0     0     0     0     0\n",
            "      0     0     0     0     0     0     0     0     0     0     0     0\n",
            "      0     0     0     0     0     0     0     0]], shape=(1, 128), dtype=int32)\n",
            "tf.Tensor(\n",
            "[[    2   172    15     1 16704     1  5728  2601    18   134    31   170\n",
            "     65   877    86   130    31    92    22    38   340 10497    42    27\n",
            "     13   187  1962    17   442   273 10769    19   154 28539    13   187\n",
            "     13   187    13   187     3     0     0     0     0     0     0     0\n",
            "      0     0     0     0     0     0     0     0     0     0     0     0\n",
            "      0     0     0     0     0     0     0     0     0     0     0     0\n",
            "      0     0     0     0     0     0     0     0     0     0     0     0\n",
            "      0     0     0     0     0     0     0     0     0     0     0     0\n",
            "      0     0     0     0     0     0     0     0     0     0     0     0\n",
            "      0     0     0     0     0     0     0     0     0     0     0     0\n",
            "      0     0     0     0     0     0     0     0]], shape=(1, 128), dtype=int32)\n",
            "tf.Tensor(\n",
            "[[   2  203   15   49 2973 1179  229   37 6256   30   18   51 1578    3\n",
            "     0    0    0    0    0    0    0    0    0    0    0    0    0    0\n",
            "     0    0    0    0    0    0    0    0    0    0    0    0    0    0\n",
            "     0    0    0    0    0    0    0    0    0    0    0    0    0    0\n",
            "     0    0    0    0    0    0    0    0    0    0    0    0    0    0\n",
            "     0    0    0    0    0    0    0    0    0    0    0    0    0    0\n",
            "     0    0    0    0    0    0    0    0    0    0    0    0    0    0\n",
            "     0    0    0    0    0    0    0    0    0    0    0    0    0    0\n",
            "     0    0    0    0    0    0    0    0    0    0    0    0    0    0\n",
            "     0    0]], shape=(1, 128), dtype=int32)\n",
            "tf.Tensor(\n",
            "[[    2   268    15     1 16704     1    90  1216    22   765    13   187\n",
            "     13   187    13   187    13 20248   797  5759  1123    17    52  1065\n",
            "   8628  5907  3375    13 19073   111     3     0     0     0     0     0\n",
            "      0     0     0     0     0     0     0     0     0     0     0     0\n",
            "      0     0     0     0     0     0     0     0     0     0     0     0\n",
            "      0     0     0     0     0     0     0     0     0     0     0     0\n",
            "      0     0     0     0     0     0     0     0     0     0     0     0\n",
            "      0     0     0     0     0     0     0     0     0     0     0     0\n",
            "      0     0     0     0     0     0     0     0     0     0     0     0\n",
            "      0     0     0     0     0     0     0     0     0     0     0     0\n",
            "      0     0     0     0     0     0     0     0]], shape=(1, 128), dtype=int32)\n",
            "tf.Tensor(\n",
            "[[    2   331    15  3185  5221    31  1080  5718  1953    14   983    13\n",
            "     15    31   550  3290    71    29    21 14276     3     0     0     0\n",
            "      0     0     0     0     0     0     0     0     0     0     0     0\n",
            "      0     0     0     0     0     0     0     0     0     0     0     0\n",
            "      0     0     0     0     0     0     0     0     0     0     0     0\n",
            "      0     0     0     0     0     0     0     0     0     0     0     0\n",
            "      0     0     0     0     0     0     0     0     0     0     0     0\n",
            "      0     0     0     0     0     0     0     0     0     0     0     0\n",
            "      0     0     0     0     0     0     0     0     0     0     0     0\n",
            "      0     0     0     0     0     0     0     0     0     0     0     0\n",
            "      0     0     0     0     0     0     0     0]], shape=(1, 128), dtype=int32)\n"
          ],
          "name": "stdout"
        }
      ]
    },
    {
      "cell_type": "markdown",
      "metadata": {
        "id": "J4k1CZtJ4pS8",
        "colab_type": "text"
      },
      "source": [
        "## Predict test set"
      ]
    },
    {
      "cell_type": "code",
      "metadata": {
        "id": "oauQeQCvJ2Qq",
        "colab_type": "code",
        "colab": {}
      },
      "source": [
        "results = model.predict(encoded_test_ds)\n",
        "labels = np.argmax(results, axis=1)"
      ],
      "execution_count": null,
      "outputs": []
    },
    {
      "cell_type": "markdown",
      "metadata": {
        "id": "FE2UiBBn4x2X",
        "colab_type": "text"
      },
      "source": [
        "## Postprocessing"
      ]
    },
    {
      "cell_type": "code",
      "metadata": {
        "id": "LdNIjYFDKBU9",
        "colab_type": "code",
        "colab": {}
      },
      "source": [
        "labels = [1 if x == 1 else -1 for x in labels]\n",
        "\n",
        "#reverse labels\n",
        "# labels = [-1 if x == 1 else 1 for x in labels]\n",
        "#un-reverse labels\n",
        "# labels = [1 if x == -1 else -1 for x in labels]"
      ],
      "execution_count": null,
      "outputs": []
    },
    {
      "cell_type": "code",
      "metadata": {
        "id": "9vKSwMczRZCp",
        "colab_type": "code",
        "colab": {}
      },
      "source": [
        "df = pd.DataFrame({'Id': np.arange(1,10001),\n",
        "                  'Prediction': labels\n",
        "                   })\n",
        "df.to_csv(MODEL+identifier+'.csv', index=False)"
      ],
      "execution_count": null,
      "outputs": []
    }
  ]
}